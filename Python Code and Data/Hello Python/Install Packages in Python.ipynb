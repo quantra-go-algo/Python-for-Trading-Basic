{
 "cells": [
  {
   "cell_type": "markdown",
   "metadata": {},
   "source": [
    "# Notebook Instructions\n",
    "\n",
    "1. All the <u>code and data files</u> used in this course are available in the downloadable unit of the <u>last section of this course</u>.\n",
    "2. You can run the notebook document sequentially (one cell at a time) by pressing **shift + enter**. \n",
    "3. While a cell is running, a [*] is shown on the left. After the cell is run, the output will appear on the next line.\n",
    "\n",
    "This course is based on specific versions of python packages. You can find the details of the packages in <a href='https://quantra.quantinsti.com/quantra-notebook' target=\"_blank\" >this manual</a>."
   ]
  },
  {
   "cell_type": "markdown",
   "metadata": {},
   "source": [
    "## Installing Python Packages"
   ]
  },
  {
   "cell_type": "markdown",
   "metadata": {},
   "source": [
    "In this notebook, you will learn the following:\n",
    "1. How to install python packages using pip\n",
    "2. How to install a specific version of a python package"
   ]
  },
  {
   "cell_type": "markdown",
   "metadata": {},
   "source": [
    "## What happens if the package is not installed?"
   ]
  },
  {
   "cell_type": "markdown",
   "metadata": {},
   "source": [
    "In the previous units, you have learned and practised how to import a python package. Built-in packages such as Pandas, NumPy are available by default in Python. \n",
    "\n",
    "But there are a lot more other packages publically available you might want to use. If you try to import such packages without installing them first you would get an error called 'ModuleNotFoundError'. \n",
    "\n",
    "For example, Backtrader is a python package used for live trading and backtesting trading strategies. <span style=\"color:red\"> You can see the 'ModuleNotFoundError' when you try to import it in the code below."
   ]
  },
  {
   "cell_type": "code",
   "execution_count": 1,
   "metadata": {
    "execution": {
     "iopub.execute_input": "2021-06-25T11:49:41.960480Z",
     "iopub.status.busy": "2021-06-25T11:49:41.959484Z",
     "iopub.status.idle": "2021-06-25T11:49:42.431762Z",
     "shell.execute_reply": "2021-06-25T11:49:42.431762Z",
     "shell.execute_reply.started": "2021-06-25T11:49:41.960480Z"
    }
   },
   "outputs": [],
   "source": [
    "# Import the package\n",
    "import backtrader"
   ]
  },
  {
   "cell_type": "markdown",
   "metadata": {},
   "source": [
    "## Install package using pip"
   ]
  },
  {
   "cell_type": "markdown",
   "metadata": {},
   "source": [
    "Pip, a package installer, is used to install and manage packages that are available in Python Package Index (PyPi) which is a repository for Python packages.\n",
    "\n",
    "It is a recommended tool as most of the python packages are made available through PyPi. Pip is installed along when you install Python in your system. You need not worry about downloading or installing pip exclusively."
   ]
  },
  {
   "cell_type": "markdown",
   "metadata": {},
   "source": [
    "### Syntax to install a package"
   ]
  },
  {
   "cell_type": "markdown",
   "metadata": {},
   "source": [
    "To install the package in a Jupyter notebook, you can use the following command.\n",
    "\n",
    "`!pip install package_name`\n",
    "\n",
    "To install the package in a command prompt or Spyder, you can use the below command.\n",
    "\n",
    "`pip install package_name`\n",
    "\n",
    "For example, to install the Backtrader package you have to replace the 'package_name' with `backtrader`. This will install the latest version of the `backtrader` package."
   ]
  },
  {
   "cell_type": "code",
   "execution_count": 2,
   "metadata": {
    "execution": {
     "iopub.execute_input": "2021-06-25T11:49:42.433764Z",
     "iopub.status.busy": "2021-06-25T11:49:42.433764Z",
     "iopub.status.idle": "2021-06-25T11:49:44.177085Z",
     "shell.execute_reply": "2021-06-25T11:49:44.176085Z",
     "shell.execute_reply.started": "2021-06-25T11:49:42.433764Z"
    }
   },
   "outputs": [
    {
     "name": "stdout",
     "output_type": "stream",
     "text": [
      "Requirement already satisfied: backtrader in d:\\_programs\\_installed_on_d\\_anaconda\\installation\\envs\\quantra390\\lib\\site-packages (1.9.74.123)\n"
     ]
    }
   ],
   "source": [
    "# Install a Python package\n",
    "!pip install backtrader"
   ]
  },
  {
   "cell_type": "markdown",
   "metadata": {},
   "source": [
    "<u><b>Note:</b></u>\n",
    "<b>Installing packages to the Quantra server is not allowed. You will get an 'EnvironmentError' saying Permission Denied. You can download this Notebook from Downloadables in the last section and run locally without such error.</b>\n",
    "\n",
    "\n",
    "After installation, you can see a success message in the last line. This means the package can now be imported and used in your code "
   ]
  },
  {
   "cell_type": "markdown",
   "metadata": {},
   "source": [
    "## Version of the package"
   ]
  },
  {
   "cell_type": "markdown",
   "metadata": {},
   "source": [
    "The 'backtrader' package has different versions available. You can check for them <a href=\"https://pypi.org/project/backtrader/1.9.70.122/#history\">here</a>. If you want to use a different version of the package, you can install that using the following command.\n",
    "\n",
    "Let us install the 1.9.74.123 version."
   ]
  },
  {
   "cell_type": "code",
   "execution_count": 3,
   "metadata": {
    "execution": {
     "iopub.execute_input": "2021-06-25T11:49:44.178095Z",
     "iopub.status.busy": "2021-06-25T11:49:44.177085Z",
     "iopub.status.idle": "2021-06-25T11:49:46.065116Z",
     "shell.execute_reply": "2021-06-25T11:49:46.063115Z",
     "shell.execute_reply.started": "2021-06-25T11:49:44.178095Z"
    }
   },
   "outputs": [
    {
     "name": "stdout",
     "output_type": "stream",
     "text": [
      "Requirement already satisfied: backtrader==1.9.74.123 in d:\\_programs\\_installed_on_d\\_anaconda\\installation\\envs\\quantra390\\lib\\site-packages (1.9.74.123)\n"
     ]
    }
   ],
   "source": [
    "# Install a specific version of the package\n",
    "!pip install backtrader==1.9.74.123"
   ]
  },
  {
   "cell_type": "markdown",
   "metadata": {},
   "source": [
    "<u><b>Note:</b></u>\n",
    "<b>Installing packages to the Quantra server is not allowed. You will get an 'EnvironmentError' saying Permission Denied. You can download this Notebook from Downloadables in the last section and run locally without such error.</b>"
   ]
  },
  {
   "cell_type": "markdown",
   "metadata": {},
   "source": [
    "You can check the version of the package using the following command. Let us check the version of the 'backtrader' package."
   ]
  },
  {
   "cell_type": "code",
   "execution_count": 4,
   "metadata": {
    "execution": {
     "iopub.execute_input": "2021-06-25T11:49:46.066117Z",
     "iopub.status.busy": "2021-06-25T11:49:46.066117Z",
     "iopub.status.idle": "2021-06-25T11:49:46.080120Z",
     "shell.execute_reply": "2021-06-25T11:49:46.079119Z",
     "shell.execute_reply.started": "2021-06-25T11:49:46.066117Z"
    }
   },
   "outputs": [
    {
     "data": {
      "text/plain": [
       "'1.9.74.123'"
      ]
     },
     "execution_count": 4,
     "metadata": {},
     "output_type": "execute_result"
    }
   ],
   "source": [
    "# Import the package\n",
    "import backtrader\n",
    "\n",
    "# Check the version of the package\n",
    "backtrader.__version__"
   ]
  },
  {
   "cell_type": "markdown",
   "metadata": {},
   "source": [
    "That is all for this section. In the upcoming section, you will learn the concept of <b>Time value of money</b>. <br><br>"
   ]
  }
 ],
 "metadata": {
  "kernelspec": {
   "display_name": "Python 3 (ipykernel)",
   "language": "python",
   "name": "python3"
  },
  "language_info": {
   "codemirror_mode": {
    "name": "ipython",
    "version": 3
   },
   "file_extension": ".py",
   "mimetype": "text/x-python",
   "name": "python",
   "nbconvert_exporter": "python",
   "pygments_lexer": "ipython3",
   "version": "3.9.5"
  }
 },
 "nbformat": 4,
 "nbformat_minor": 4
}
