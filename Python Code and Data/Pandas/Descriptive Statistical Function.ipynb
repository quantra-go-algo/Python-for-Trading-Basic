{
 "cells": [
  {
   "cell_type": "markdown",
   "metadata": {},
   "source": [
    "# Notebook Instructions\n",
    "\n",
    "1. All the <u>code and data files</u> used in this course are available in the downloadable unit of the <u>last section of this course</u>.\n",
    "2. You can run the notebook document sequentially (one cell at a time) by pressing **shift + enter**. \n",
    "3. While a cell is running, a [*] is shown on the left. After the cell is run, the output will appear on the next line.\n",
    "\n",
    "This course is based on specific versions of python packages. You can find the details of the packages in <a href='https://quantra.quantinsti.com/quantra-notebook' target=\"_blank\" >this manual</a>."
   ]
  },
  {
   "cell_type": "markdown",
   "metadata": {},
   "source": [
    "# Notebook Contents\n",
    "\n",
    "In this particular notebook, we will have a look at the different descriptive statistical functions available in Pandas. \n",
    "\n",
    "##### <span style=\"color:green\">1. DataFrame.count()</span>\n",
    "##### <span style=\"color:green\">2. DataFrame.min()</span> \n",
    "#####  <span style=\"color:green\">3. DataFrame.max()</span>\n",
    "##### <span style=\"color:green\">4. DataFrame.mean()</span>\n",
    "##### <span style=\"color:green\">5. DataFrame.median</span>\n",
    "##### <span style=\"color:green\">6. DataFrame.mode()</span>\n",
    "##### <span style=\"color:green\">7. DataFrame.sum()</span>\n",
    "##### <span style=\"color:green\">8. DataFrame.diff()</span>\n",
    "##### <span style=\"color:green\">9. DataFrame.pct_change()</span>\n",
    "##### <span style=\"color:green\">10. DataFrame.var()</span>\n",
    "##### <span style=\"color:green\">11. DataFrame.std()</span>\n",
    "##### <span style=\"color:green\">12. DataFrame.rolling(window=).mean()</span>\n",
    "##### <span style=\"color:green\">13. DataFrame.expanding(min_periods=).mean()</span>\n",
    "##### <span style=\"color:green\">14. DataFrame.cov()</span>\n",
    "##### <span style=\"color:green\">15. DataFrame.cor()</span>\n",
    "##### <span style=\"color:green\">16. DataFrame.kur()</span>\n",
    "##### <span style=\"color:green\">17. DataFrame.skew()</span>"
   ]
  },
  {
   "cell_type": "markdown",
   "metadata": {},
   "source": [
    "## Data preparation "
   ]
  },
  {
   "cell_type": "code",
   "execution_count": 1,
   "metadata": {},
   "outputs": [],
   "source": [
    "# Loading and viewing data\n",
    "import numpy as np\n",
    "import pandas as pd\n",
    "\n",
    "infy = pd.read_csv('../data_modules/infy.csv')"
   ]
  },
  {
   "cell_type": "markdown",
   "metadata": {},
   "source": [
    "Once you import or load your OHLC data in a dataframe, it is a good habit to print the the 'head' and 'tail' of that dataframe."
   ]
  },
  {
   "cell_type": "code",
   "execution_count": 2,
   "metadata": {},
   "outputs": [
    {
     "data": {
      "text/html": [
       "<div>\n",
       "<style scoped>\n",
       "    .dataframe tbody tr th:only-of-type {\n",
       "        vertical-align: middle;\n",
       "    }\n",
       "\n",
       "    .dataframe tbody tr th {\n",
       "        vertical-align: top;\n",
       "    }\n",
       "\n",
       "    .dataframe thead th {\n",
       "        text-align: right;\n",
       "    }\n",
       "</style>\n",
       "<table border=\"1\" class=\"dataframe\">\n",
       "  <thead>\n",
       "    <tr style=\"text-align: right;\">\n",
       "      <th></th>\n",
       "      <th>Symbol</th>\n",
       "      <th>Series</th>\n",
       "      <th>Date</th>\n",
       "      <th>Prev Close</th>\n",
       "      <th>Open Price</th>\n",
       "      <th>High Price</th>\n",
       "      <th>Low Price</th>\n",
       "      <th>Last Price</th>\n",
       "      <th>Close Price</th>\n",
       "      <th>Average Price</th>\n",
       "      <th>Total Traded Quantity</th>\n",
       "      <th>Turnover</th>\n",
       "      <th>No. of Trades</th>\n",
       "      <th>Deliverable Qty</th>\n",
       "      <th>% Dly Qt to Traded Qty</th>\n",
       "    </tr>\n",
       "  </thead>\n",
       "  <tbody>\n",
       "    <tr>\n",
       "      <th>0</th>\n",
       "      <td>INFY</td>\n",
       "      <td>EQ</td>\n",
       "      <td>18-Apr-2016</td>\n",
       "      <td>1172.70</td>\n",
       "      <td>1250.00</td>\n",
       "      <td>1267.90</td>\n",
       "      <td>1233.5</td>\n",
       "      <td>1237.15</td>\n",
       "      <td>1238.70</td>\n",
       "      <td>1247.17</td>\n",
       "      <td>12507995</td>\n",
       "      <td>1.559965e+10</td>\n",
       "      <td>287988</td>\n",
       "      <td>7270261</td>\n",
       "      <td>58.12</td>\n",
       "    </tr>\n",
       "    <tr>\n",
       "      <th>1</th>\n",
       "      <td>INFY</td>\n",
       "      <td>EQ</td>\n",
       "      <td>20-Apr-2016</td>\n",
       "      <td>1238.70</td>\n",
       "      <td>1244.00</td>\n",
       "      <td>1246.45</td>\n",
       "      <td>1225.8</td>\n",
       "      <td>1244.00</td>\n",
       "      <td>1243.60</td>\n",
       "      <td>1237.18</td>\n",
       "      <td>4036424</td>\n",
       "      <td>4.993801e+09</td>\n",
       "      <td>139599</td>\n",
       "      <td>2555094</td>\n",
       "      <td>63.30</td>\n",
       "    </tr>\n",
       "    <tr>\n",
       "      <th>2</th>\n",
       "      <td>INFY</td>\n",
       "      <td>EQ</td>\n",
       "      <td>21-Apr-2016</td>\n",
       "      <td>1243.60</td>\n",
       "      <td>1251.00</td>\n",
       "      <td>1251.00</td>\n",
       "      <td>1218.1</td>\n",
       "      <td>1226.80</td>\n",
       "      <td>1226.30</td>\n",
       "      <td>1231.52</td>\n",
       "      <td>2720550</td>\n",
       "      <td>3.350410e+09</td>\n",
       "      <td>97218</td>\n",
       "      <td>1626993</td>\n",
       "      <td>59.80</td>\n",
       "    </tr>\n",
       "    <tr>\n",
       "      <th>3</th>\n",
       "      <td>INFY</td>\n",
       "      <td>EQ</td>\n",
       "      <td>22-Apr-2016</td>\n",
       "      <td>1226.30</td>\n",
       "      <td>1226.30</td>\n",
       "      <td>1228.50</td>\n",
       "      <td>1207.0</td>\n",
       "      <td>1212.75</td>\n",
       "      <td>1211.25</td>\n",
       "      <td>1215.94</td>\n",
       "      <td>2571969</td>\n",
       "      <td>3.127365e+09</td>\n",
       "      <td>96983</td>\n",
       "      <td>1634111</td>\n",
       "      <td>63.54</td>\n",
       "    </tr>\n",
       "    <tr>\n",
       "      <th>4</th>\n",
       "      <td>INFY</td>\n",
       "      <td>EQ</td>\n",
       "      <td>25-Apr-2016</td>\n",
       "      <td>1211.25</td>\n",
       "      <td>1212.05</td>\n",
       "      <td>1224.80</td>\n",
       "      <td>1201.1</td>\n",
       "      <td>1219.25</td>\n",
       "      <td>1215.85</td>\n",
       "      <td>1211.42</td>\n",
       "      <td>2682067</td>\n",
       "      <td>3.249113e+09</td>\n",
       "      <td>91828</td>\n",
       "      <td>1673309</td>\n",
       "      <td>62.39</td>\n",
       "    </tr>\n",
       "  </tbody>\n",
       "</table>\n",
       "</div>"
      ],
      "text/plain": [
       "  Symbol Series         Date  Prev Close  Open Price  High Price  Low Price  \\\n",
       "0   INFY     EQ  18-Apr-2016     1172.70     1250.00     1267.90     1233.5   \n",
       "1   INFY     EQ  20-Apr-2016     1238.70     1244.00     1246.45     1225.8   \n",
       "2   INFY     EQ  21-Apr-2016     1243.60     1251.00     1251.00     1218.1   \n",
       "3   INFY     EQ  22-Apr-2016     1226.30     1226.30     1228.50     1207.0   \n",
       "4   INFY     EQ  25-Apr-2016     1211.25     1212.05     1224.80     1201.1   \n",
       "\n",
       "   Last Price  Close Price  Average Price  Total Traded Quantity  \\\n",
       "0     1237.15      1238.70        1247.17               12507995   \n",
       "1     1244.00      1243.60        1237.18                4036424   \n",
       "2     1226.80      1226.30        1231.52                2720550   \n",
       "3     1212.75      1211.25        1215.94                2571969   \n",
       "4     1219.25      1215.85        1211.42                2682067   \n",
       "\n",
       "       Turnover  No. of Trades  Deliverable Qty  % Dly Qt to Traded Qty  \n",
       "0  1.559965e+10         287988          7270261                   58.12  \n",
       "1  4.993801e+09         139599          2555094                   63.30  \n",
       "2  3.350410e+09          97218          1626993                   59.80  \n",
       "3  3.127365e+09          96983          1634111                   63.54  \n",
       "4  3.249113e+09          91828          1673309                   62.39  "
      ]
     },
     "execution_count": 2,
     "metadata": {},
     "output_type": "execute_result"
    }
   ],
   "source": [
    "infy.head()  # Printing the first five rows of your dataframe"
   ]
  },
  {
   "cell_type": "code",
   "execution_count": 3,
   "metadata": {},
   "outputs": [
    {
     "data": {
      "text/html": [
       "<div>\n",
       "<style scoped>\n",
       "    .dataframe tbody tr th:only-of-type {\n",
       "        vertical-align: middle;\n",
       "    }\n",
       "\n",
       "    .dataframe tbody tr th {\n",
       "        vertical-align: top;\n",
       "    }\n",
       "\n",
       "    .dataframe thead th {\n",
       "        text-align: right;\n",
       "    }\n",
       "</style>\n",
       "<table border=\"1\" class=\"dataframe\">\n",
       "  <thead>\n",
       "    <tr style=\"text-align: right;\">\n",
       "      <th></th>\n",
       "      <th>Symbol</th>\n",
       "      <th>Series</th>\n",
       "      <th>Date</th>\n",
       "      <th>Prev Close</th>\n",
       "      <th>Open Price</th>\n",
       "      <th>High Price</th>\n",
       "      <th>Low Price</th>\n",
       "      <th>Last Price</th>\n",
       "      <th>Close Price</th>\n",
       "      <th>Average Price</th>\n",
       "      <th>Total Traded Quantity</th>\n",
       "      <th>Turnover</th>\n",
       "      <th>No. of Trades</th>\n",
       "      <th>Deliverable Qty</th>\n",
       "      <th>% Dly Qt to Traded Qty</th>\n",
       "    </tr>\n",
       "  </thead>\n",
       "  <tbody>\n",
       "    <tr>\n",
       "      <th>490</th>\n",
       "      <td>INFY</td>\n",
       "      <td>EQ</td>\n",
       "      <td>09-Apr-2018</td>\n",
       "      <td>1127.00</td>\n",
       "      <td>1125.00</td>\n",
       "      <td>1125.80</td>\n",
       "      <td>1106.55</td>\n",
       "      <td>1111.45</td>\n",
       "      <td>1111.25</td>\n",
       "      <td>1113.12</td>\n",
       "      <td>3601441</td>\n",
       "      <td>4.008832e+09</td>\n",
       "      <td>171118</td>\n",
       "      <td>2529586</td>\n",
       "      <td>70.24</td>\n",
       "    </tr>\n",
       "    <tr>\n",
       "      <th>491</th>\n",
       "      <td>INFY</td>\n",
       "      <td>EQ</td>\n",
       "      <td>10-Apr-2018</td>\n",
       "      <td>1111.25</td>\n",
       "      <td>1112.00</td>\n",
       "      <td>1124.50</td>\n",
       "      <td>1105.40</td>\n",
       "      <td>1114.65</td>\n",
       "      <td>1113.40</td>\n",
       "      <td>1115.77</td>\n",
       "      <td>4463029</td>\n",
       "      <td>4.979729e+09</td>\n",
       "      <td>144468</td>\n",
       "      <td>3520250</td>\n",
       "      <td>78.88</td>\n",
       "    </tr>\n",
       "    <tr>\n",
       "      <th>492</th>\n",
       "      <td>INFY</td>\n",
       "      <td>EQ</td>\n",
       "      <td>11-Apr-2018</td>\n",
       "      <td>1113.40</td>\n",
       "      <td>1118.00</td>\n",
       "      <td>1131.50</td>\n",
       "      <td>1116.50</td>\n",
       "      <td>1124.50</td>\n",
       "      <td>1124.25</td>\n",
       "      <td>1124.78</td>\n",
       "      <td>4512787</td>\n",
       "      <td>5.075892e+09</td>\n",
       "      <td>102586</td>\n",
       "      <td>3296304</td>\n",
       "      <td>73.04</td>\n",
       "    </tr>\n",
       "    <tr>\n",
       "      <th>493</th>\n",
       "      <td>INFY</td>\n",
       "      <td>EQ</td>\n",
       "      <td>12-Apr-2018</td>\n",
       "      <td>1124.25</td>\n",
       "      <td>1129.45</td>\n",
       "      <td>1172.75</td>\n",
       "      <td>1125.00</td>\n",
       "      <td>1164.05</td>\n",
       "      <td>1162.60</td>\n",
       "      <td>1157.71</td>\n",
       "      <td>8522183</td>\n",
       "      <td>9.866189e+09</td>\n",
       "      <td>216130</td>\n",
       "      <td>5624945</td>\n",
       "      <td>66.00</td>\n",
       "    </tr>\n",
       "    <tr>\n",
       "      <th>494</th>\n",
       "      <td>INFY</td>\n",
       "      <td>EQ</td>\n",
       "      <td>13-Apr-2018</td>\n",
       "      <td>1162.60</td>\n",
       "      <td>1174.00</td>\n",
       "      <td>1185.90</td>\n",
       "      <td>1150.25</td>\n",
       "      <td>1168.00</td>\n",
       "      <td>1171.45</td>\n",
       "      <td>1172.37</td>\n",
       "      <td>10613519</td>\n",
       "      <td>1.244292e+10</td>\n",
       "      <td>180965</td>\n",
       "      <td>5370870</td>\n",
       "      <td>50.60</td>\n",
       "    </tr>\n",
       "  </tbody>\n",
       "</table>\n",
       "</div>"
      ],
      "text/plain": [
       "    Symbol Series         Date  Prev Close  Open Price  High Price  Low Price  \\\n",
       "490   INFY     EQ  09-Apr-2018     1127.00     1125.00     1125.80    1106.55   \n",
       "491   INFY     EQ  10-Apr-2018     1111.25     1112.00     1124.50    1105.40   \n",
       "492   INFY     EQ  11-Apr-2018     1113.40     1118.00     1131.50    1116.50   \n",
       "493   INFY     EQ  12-Apr-2018     1124.25     1129.45     1172.75    1125.00   \n",
       "494   INFY     EQ  13-Apr-2018     1162.60     1174.00     1185.90    1150.25   \n",
       "\n",
       "     Last Price  Close Price  Average Price  Total Traded Quantity  \\\n",
       "490     1111.45      1111.25        1113.12                3601441   \n",
       "491     1114.65      1113.40        1115.77                4463029   \n",
       "492     1124.50      1124.25        1124.78                4512787   \n",
       "493     1164.05      1162.60        1157.71                8522183   \n",
       "494     1168.00      1171.45        1172.37               10613519   \n",
       "\n",
       "         Turnover  No. of Trades  Deliverable Qty  % Dly Qt to Traded Qty  \n",
       "490  4.008832e+09         171118          2529586                   70.24  \n",
       "491  4.979729e+09         144468          3520250                   78.88  \n",
       "492  5.075892e+09         102586          3296304                   73.04  \n",
       "493  9.866189e+09         216130          5624945                   66.00  \n",
       "494  1.244292e+10         180965          5370870                   50.60  "
      ]
     },
     "execution_count": 3,
     "metadata": {},
     "output_type": "execute_result"
    }
   ],
   "source": [
    "infy.tail()  # Printing the last five rows of your dataframe"
   ]
  },
  {
   "cell_type": "markdown",
   "metadata": {},
   "source": [
    "### DataFrame.count()\n",
    "\n",
    "This method returns the number of non-null observations over the requested observations."
   ]
  },
  {
   "cell_type": "code",
   "execution_count": 4,
   "metadata": {},
   "outputs": [
    {
     "name": "stdout",
     "output_type": "stream",
     "text": [
      "Symbol                    495\n",
      "Series                    495\n",
      "Date                      495\n",
      "Prev Close                495\n",
      "Open Price                495\n",
      "High Price                495\n",
      "Low Price                 495\n",
      "Last Price                495\n",
      "Close Price               495\n",
      "Average Price             495\n",
      "Total Traded Quantity     495\n",
      "Turnover                  495\n",
      "No. of Trades             495\n",
      "Deliverable Qty           495\n",
      "% Dly Qt to Traded Qty    495\n",
      "dtype: int64\n"
     ]
    }
   ],
   "source": [
    "print(infy.count())"
   ]
  },
  {
   "cell_type": "markdown",
   "metadata": {},
   "source": [
    "To find the number of non-null observations or number of rows in a particular column then specify it as done below."
   ]
  },
  {
   "cell_type": "code",
   "execution_count": 5,
   "metadata": {},
   "outputs": [
    {
     "name": "stdout",
     "output_type": "stream",
     "text": [
      "495\n"
     ]
    }
   ],
   "source": [
    "print(infy[\"Close Price\"].count())"
   ]
  },
  {
   "cell_type": "markdown",
   "metadata": {},
   "source": [
    "### DataFrame.min()\n",
    "\n",
    "This method returns the minimum value over the requested observations."
   ]
  },
  {
   "cell_type": "code",
   "execution_count": 6,
   "metadata": {},
   "outputs": [
    {
     "name": "stdout",
     "output_type": "stream",
     "text": [
      "873.4\n"
     ]
    }
   ],
   "source": [
    "print(infy[\"Close Price\"].min())"
   ]
  },
  {
   "cell_type": "code",
   "execution_count": 7,
   "metadata": {},
   "outputs": [
    {
     "name": "stdout",
     "output_type": "stream",
     "text": [
      "Symbol                           INFY\n",
      "Series                             EQ\n",
      "Date                      01-Aug-2016\n",
      "Prev Close                      873.4\n",
      "Open Price                      880.0\n",
      "High Price                      887.6\n",
      "Low Price                       860.0\n",
      "Last Price                     870.15\n",
      "Close Price                     873.4\n",
      "Average Price                   876.3\n",
      "Total Traded Quantity          319036\n",
      "Turnover                  319718260.7\n",
      "No. of Trades                   13886\n",
      "Deliverable Qty                195978\n",
      "% Dly Qt to Traded Qty          33.37\n",
      "dtype: object\n"
     ]
    }
   ],
   "source": [
    "print(infy.min())"
   ]
  },
  {
   "cell_type": "markdown",
   "metadata": {},
   "source": [
    "<b>Please Note</b>: All these functions are applied to the entire dataframe and not just a single column. Refer to the DataFrame.count() example if you want to apply these methods to the entire dataframe."
   ]
  },
  {
   "cell_type": "markdown",
   "metadata": {},
   "source": [
    "### DataFrame.max()\n",
    "\n",
    "This method returns the maximum value over the requested observations."
   ]
  },
  {
   "cell_type": "code",
   "execution_count": 8,
   "metadata": {},
   "outputs": [
    {
     "name": "stdout",
     "output_type": "stream",
     "text": [
      "1267.6\n"
     ]
    }
   ],
   "source": [
    "print(infy[\"Close Price\"].max())"
   ]
  },
  {
   "cell_type": "markdown",
   "metadata": {},
   "source": [
    "### DataFrame.mean()\n",
    "\n",
    "The mean of a set of observations is the arithmetic average of the values. \n",
    "\n",
    "This method returns the mean of the requested observations."
   ]
  },
  {
   "cell_type": "code",
   "execution_count": 9,
   "metadata": {},
   "outputs": [
    {
     "name": "stdout",
     "output_type": "stream",
     "text": [
      "1029.9888888888877\n"
     ]
    }
   ],
   "source": [
    "print(infy[\"Close Price\"].mean())"
   ]
  },
  {
   "cell_type": "markdown",
   "metadata": {},
   "source": [
    "### DataFrame.median()\n",
    "\n",
    "The median is a statistical measure that determines the middle value of a dataset listed in ascending order.\n",
    "\n",
    "This method returns the median of the requested observations."
   ]
  },
  {
   "cell_type": "code",
   "execution_count": 10,
   "metadata": {},
   "outputs": [
    {
     "name": "stdout",
     "output_type": "stream",
     "text": [
      "1005.3\n"
     ]
    }
   ],
   "source": [
    "print(infy[\"Close Price\"].median())"
   ]
  },
  {
   "cell_type": "markdown",
   "metadata": {},
   "source": [
    "### DataFrame.mode()\n",
    "\n",
    "The mode is the value that appears most frequently in a data set. \n",
    "\n",
    "This method returns the mode of the requested observations."
   ]
  },
  {
   "cell_type": "code",
   "execution_count": 11,
   "metadata": {},
   "outputs": [
    {
     "name": "stdout",
     "output_type": "stream",
     "text": [
      "0      926.65\n",
      "1      927.05\n",
      "2      927.30\n",
      "3      944.10\n",
      "4      963.85\n",
      "5      969.45\n",
      "6      977.05\n",
      "7      984.35\n",
      "8      984.70\n",
      "9      987.70\n",
      "10     992.35\n",
      "11     993.85\n",
      "12    1012.40\n",
      "13    1021.30\n",
      "14    1028.85\n",
      "15    1031.85\n",
      "16    1036.05\n",
      "17    1160.75\n",
      "dtype: float64\n"
     ]
    }
   ],
   "source": [
    "# The \"Close Price\" series of infosys stock is multi-modal\n",
    "print(infy[\"Close Price\"].mode())"
   ]
  },
  {
   "cell_type": "markdown",
   "metadata": {},
   "source": [
    "### DataFrame.sum()\n",
    "\n",
    "This method returns the sum of all the values of the requested observations."
   ]
  },
  {
   "cell_type": "code",
   "execution_count": 12,
   "metadata": {},
   "outputs": [
    {
     "name": "stdout",
     "output_type": "stream",
     "text": [
      "2167953778\n"
     ]
    }
   ],
   "source": [
    "# If someone just wants to know the sheer amount of Infosys stocks traded over 2 years\n",
    "print(infy[\"Total Traded Quantity\"].sum())"
   ]
  },
  {
   "cell_type": "markdown",
   "metadata": {},
   "source": [
    "### DataFrame.diff()\n",
    "\n",
    "This method returns the 'difference' between the current observation and the previous observation."
   ]
  },
  {
   "cell_type": "code",
   "execution_count": 13,
   "metadata": {
    "scrolled": true
   },
   "outputs": [
    {
     "name": "stdout",
     "output_type": "stream",
     "text": [
      "0        NaN\n",
      "1       4.90\n",
      "2     -17.30\n",
      "3     -15.05\n",
      "4       4.60\n",
      "       ...  \n",
      "490   -15.75\n",
      "491     2.15\n",
      "492    10.85\n",
      "493    38.35\n",
      "494     8.85\n",
      "Name: Close Price, Length: 495, dtype: float64\n"
     ]
    }
   ],
   "source": [
    "print(infy[\"Close Price\"].diff())"
   ]
  },
  {
   "cell_type": "markdown",
   "metadata": {},
   "source": [
    "### DataFrame.pct_change()]\n",
    "\n",
    "This method returns the percentage change of the current observation with the previous observation."
   ]
  },
  {
   "cell_type": "code",
   "execution_count": 14,
   "metadata": {
    "scrolled": true
   },
   "outputs": [
    {
     "name": "stdout",
     "output_type": "stream",
     "text": [
      "0           NaN\n",
      "1      0.003956\n",
      "2     -0.013911\n",
      "3     -0.012273\n",
      "4      0.003798\n",
      "         ...   \n",
      "490   -0.013975\n",
      "491    0.001935\n",
      "492    0.009745\n",
      "493    0.034112\n",
      "494    0.007612\n",
      "Name: Close Price, Length: 495, dtype: float64\n"
     ]
    }
   ],
   "source": [
    "print(infy[\"Close Price\"].pct_change())"
   ]
  },
  {
   "cell_type": "markdown",
   "metadata": {},
   "source": [
    "Visualising this give us a generic inference about the daily price fluctuation in the closing price of Infosys stock."
   ]
  },
  {
   "cell_type": "code",
   "execution_count": 15,
   "metadata": {},
   "outputs": [
    {
     "data": {
      "image/png": "[encoded data removed]",
      "text/plain": [
       "<Figure size 720x360 with 1 Axes>"
      ]
     },
     "metadata": {},
     "output_type": "display_data"
    }
   ],
   "source": [
    "import matplotlib.pyplot as plt\n",
    "%matplotlib inline\n",
    "plt.style.use('seaborn-darkgrid')  # a package for better visualisation\n",
    "\n",
    "plt.figure(figsize=(10, 5))\n",
    "plt.ylabel('Daily returns of Infosys')\n",
    "infy[\"Close Price\"].pct_change().plot()\n",
    "plt.show()"
   ]
  },
  {
   "cell_type": "markdown",
   "metadata": {},
   "source": [
    "### DataFrame.var()\n",
    "\n",
    "Variance is a statistical measurement of the spread between numbers in a data set.\n",
    "\n",
    "This method returns the variance of the requested observations."
   ]
  },
  {
   "cell_type": "code",
   "execution_count": 16,
   "metadata": {},
   "outputs": [
    {
     "name": "stdout",
     "output_type": "stream",
     "text": [
      "9285.864441070624\n"
     ]
    }
   ],
   "source": [
    "print(infy[\"Close Price\"].var())"
   ]
  },
  {
   "cell_type": "markdown",
   "metadata": {},
   "source": [
    "### DataFrame.std()\n",
    "\n",
    "Standard deviation is a statistical measure that measures the dispersion of a dataset relative to its mean.\n",
    "\n",
    "\n",
    "This method returns the standard deviation of the requested observations."
   ]
  },
  {
   "cell_type": "code",
   "execution_count": 17,
   "metadata": {},
   "outputs": [
    {
     "name": "stdout",
     "output_type": "stream",
     "text": [
      "96.36319028068043\n"
     ]
    }
   ],
   "source": [
    "print(infy[\"Close Price\"].std())"
   ]
  },
  {
   "cell_type": "markdown",
   "metadata": {},
   "source": [
    "### DataFrame.rolling(window=).mean()\n",
    "\n",
    "A moving average(also known as rolling average) is a calculation used to analyze data points by creating a series of averages of different subsets of the full data set. It is commonly used as a technical indicator.\n",
    "\n",
    "This method helps us to calculate the moving average of the observations. "
   ]
  },
  {
   "cell_type": "code",
   "execution_count": 18,
   "metadata": {},
   "outputs": [
    {
     "data": {
      "text/plain": [
       "<AxesSubplot:>"
      ]
     },
     "execution_count": 18,
     "metadata": {},
     "output_type": "execute_result"
    },
    {
     "data": {
      "image/png": "[encoded data removed]",
      "text/plain": [
       "<Figure size 432x288 with 1 Axes>"
      ]
     },
     "metadata": {},
     "output_type": "display_data"
    }
   ],
   "source": [
    "# The moving average window is 20 in this case\n",
    "infy['Close Price'].rolling(window=20).mean().plot()"
   ]
  },
  {
   "cell_type": "markdown",
   "metadata": {},
   "source": [
    "A moving average of the close price with window = 20, smoothens the closing price data. You may have a look at it. We have plotted the daily Closing Price of Infosys and Moving Average (window = 20) of the daily Closing Price of Infosys against time."
   ]
  },
  {
   "cell_type": "code",
   "execution_count": 19,
   "metadata": {},
   "outputs": [
    {
     "data": {
      "image/png": "[encoded data removed]",
      "text/plain": [
       "<Figure size 720x360 with 1 Axes>"
      ]
     },
     "metadata": {
      "needs_background": "light"
     },
     "output_type": "display_data"
    }
   ],
   "source": [
    "import matplotlib.pyplot as plt\n",
    "%matplotlib inline\n",
    "\n",
    "plt.figure(figsize=(10, 5))\n",
    "plt.ylabel('Closing Price')\n",
    "\n",
    "# for another pandas version\n",
    "infy[\"Close Price\"].rolling(window=20).mean().plot()\n",
    "#pd.rolling_mean(infy[\"Close Price\"],20).plot()\n",
    "\n",
    "infy[\"Close Price\"].plot()\n",
    "plt.show()"
   ]
  },
  {
   "cell_type": "markdown",
   "metadata": {},
   "source": [
    "### DataFrame.expanding(min_periods=).mean()\n",
    "\n",
    "This method returns the 'expanding' mean of the requested observations.\n",
    "\n",
    "A common alternative to rolling mean is to use an expanding window mean, which returns the value of the mean with <b>all the observations avaliable up to that point in time.</b>"
   ]
  },
  {
   "cell_type": "code",
   "execution_count": 20,
   "metadata": {
    "scrolled": true
   },
   "outputs": [
    {
     "name": "stdout",
     "output_type": "stream",
     "text": [
      "0              NaN\n",
      "1              NaN\n",
      "2              NaN\n",
      "3              NaN\n",
      "4              NaN\n",
      "          ...     \n",
      "490    1029.068839\n",
      "491    1029.240244\n",
      "492    1029.432961\n",
      "493    1029.702530\n",
      "494    1029.988889\n",
      "Name: Close Price, Length: 495, dtype: float64\n"
     ]
    }
   ],
   "source": [
    "print(infy[\"Close Price\"].expanding(min_periods=20).mean())"
   ]
  },
  {
   "cell_type": "markdown",
   "metadata": {},
   "source": [
    "You may visualise expanding mean with the below code."
   ]
  },
  {
   "cell_type": "code",
   "execution_count": 21,
   "metadata": {},
   "outputs": [
    {
     "data": {
      "image/png": "[encoded data removed]",
      "text/plain": [
       "<Figure size 720x360 with 1 Axes>"
      ]
     },
     "metadata": {
      "needs_background": "light"
     },
     "output_type": "display_data"
    }
   ],
   "source": [
    "import matplotlib.pyplot as plt\n",
    "%matplotlib inline\n",
    "\n",
    "plt.figure(figsize=(10, 5))\n",
    "plt.ylabel('Daily returns of Infosys')\n",
    "\n",
    "infy[\"Close Price\"].expanding(min_periods=20).mean().plot()\n",
    "infy[\"Close Price\"].plot()\n",
    "plt.show()"
   ]
  },
  {
   "cell_type": "markdown",
   "metadata": {},
   "source": [
    "Let us import another stock's data. We have saved the TCS (Tata Consultancy Services) data in our local machine as '../data_modules/tcs.csv'."
   ]
  },
  {
   "cell_type": "code",
   "execution_count": 22,
   "metadata": {
    "scrolled": true
   },
   "outputs": [
    {
     "data": {
      "text/html": [
       "<div>\n",
       "<style scoped>\n",
       "    .dataframe tbody tr th:only-of-type {\n",
       "        vertical-align: middle;\n",
       "    }\n",
       "\n",
       "    .dataframe tbody tr th {\n",
       "        vertical-align: top;\n",
       "    }\n",
       "\n",
       "    .dataframe thead th {\n",
       "        text-align: right;\n",
       "    }\n",
       "</style>\n",
       "<table border=\"1\" class=\"dataframe\">\n",
       "  <thead>\n",
       "    <tr style=\"text-align: right;\">\n",
       "      <th></th>\n",
       "      <th>Symbol</th>\n",
       "      <th>Series</th>\n",
       "      <th>Date</th>\n",
       "      <th>Prev Close</th>\n",
       "      <th>Open Price</th>\n",
       "      <th>High Price</th>\n",
       "      <th>Low Price</th>\n",
       "      <th>Last Price</th>\n",
       "      <th>Close Price</th>\n",
       "      <th>Average Price</th>\n",
       "      <th>Total Traded Quantity</th>\n",
       "      <th>Turnover</th>\n",
       "      <th>No. of Trades</th>\n",
       "      <th>Deliverable Qty</th>\n",
       "      <th>% Dly Qt to Traded Qty</th>\n",
       "    </tr>\n",
       "  </thead>\n",
       "  <tbody>\n",
       "    <tr>\n",
       "      <th>0</th>\n",
       "      <td>TCS</td>\n",
       "      <td>EQ</td>\n",
       "      <td>18-Apr-2016</td>\n",
       "      <td>2526.20</td>\n",
       "      <td>2453.0</td>\n",
       "      <td>2553.50</td>\n",
       "      <td>2440.0</td>\n",
       "      <td>2522.4</td>\n",
       "      <td>2519.75</td>\n",
       "      <td>2495.75</td>\n",
       "      <td>3560752</td>\n",
       "      <td>8.886760e+09</td>\n",
       "      <td>185897</td>\n",
       "      <td>1683724</td>\n",
       "      <td>47.29</td>\n",
       "    </tr>\n",
       "    <tr>\n",
       "      <th>1</th>\n",
       "      <td>TCS</td>\n",
       "      <td>EQ</td>\n",
       "      <td>20-Apr-2016</td>\n",
       "      <td>2519.75</td>\n",
       "      <td>2534.9</td>\n",
       "      <td>2534.90</td>\n",
       "      <td>2440.0</td>\n",
       "      <td>2453.0</td>\n",
       "      <td>2450.35</td>\n",
       "      <td>2472.11</td>\n",
       "      <td>3202512</td>\n",
       "      <td>7.916958e+09</td>\n",
       "      <td>118381</td>\n",
       "      <td>1605452</td>\n",
       "      <td>50.13</td>\n",
       "    </tr>\n",
       "    <tr>\n",
       "      <th>2</th>\n",
       "      <td>TCS</td>\n",
       "      <td>EQ</td>\n",
       "      <td>21-Apr-2016</td>\n",
       "      <td>2450.35</td>\n",
       "      <td>2451.0</td>\n",
       "      <td>2467.40</td>\n",
       "      <td>2412.2</td>\n",
       "      <td>2418.2</td>\n",
       "      <td>2424.40</td>\n",
       "      <td>2440.23</td>\n",
       "      <td>1262862</td>\n",
       "      <td>3.081673e+09</td>\n",
       "      <td>64118</td>\n",
       "      <td>668774</td>\n",
       "      <td>52.96</td>\n",
       "    </tr>\n",
       "    <tr>\n",
       "      <th>3</th>\n",
       "      <td>TCS</td>\n",
       "      <td>EQ</td>\n",
       "      <td>22-Apr-2016</td>\n",
       "      <td>2424.40</td>\n",
       "      <td>2419.0</td>\n",
       "      <td>2435.40</td>\n",
       "      <td>2404.2</td>\n",
       "      <td>2423.4</td>\n",
       "      <td>2417.05</td>\n",
       "      <td>2420.24</td>\n",
       "      <td>982063</td>\n",
       "      <td>2.376831e+09</td>\n",
       "      <td>54414</td>\n",
       "      <td>558188</td>\n",
       "      <td>56.84</td>\n",
       "    </tr>\n",
       "    <tr>\n",
       "      <th>4</th>\n",
       "      <td>TCS</td>\n",
       "      <td>EQ</td>\n",
       "      <td>25-Apr-2016</td>\n",
       "      <td>2417.05</td>\n",
       "      <td>2402.3</td>\n",
       "      <td>2457.05</td>\n",
       "      <td>2402.3</td>\n",
       "      <td>2453.0</td>\n",
       "      <td>2451.25</td>\n",
       "      <td>2441.63</td>\n",
       "      <td>1133827</td>\n",
       "      <td>2.768389e+09</td>\n",
       "      <td>56820</td>\n",
       "      <td>760631</td>\n",
       "      <td>67.09</td>\n",
       "    </tr>\n",
       "  </tbody>\n",
       "</table>\n",
       "</div>"
      ],
      "text/plain": [
       "  Symbol Series         Date  Prev Close  Open Price  High Price  Low Price  \\\n",
       "0    TCS     EQ  18-Apr-2016     2526.20      2453.0     2553.50     2440.0   \n",
       "1    TCS     EQ  20-Apr-2016     2519.75      2534.9     2534.90     2440.0   \n",
       "2    TCS     EQ  21-Apr-2016     2450.35      2451.0     2467.40     2412.2   \n",
       "3    TCS     EQ  22-Apr-2016     2424.40      2419.0     2435.40     2404.2   \n",
       "4    TCS     EQ  25-Apr-2016     2417.05      2402.3     2457.05     2402.3   \n",
       "\n",
       "   Last Price  Close Price  Average Price  Total Traded Quantity  \\\n",
       "0      2522.4      2519.75        2495.75                3560752   \n",
       "1      2453.0      2450.35        2472.11                3202512   \n",
       "2      2418.2      2424.40        2440.23                1262862   \n",
       "3      2423.4      2417.05        2420.24                 982063   \n",
       "4      2453.0      2451.25        2441.63                1133827   \n",
       "\n",
       "       Turnover  No. of Trades  Deliverable Qty  % Dly Qt to Traded Qty  \n",
       "0  8.886760e+09         185897          1683724                   47.29  \n",
       "1  7.916958e+09         118381          1605452                   50.13  \n",
       "2  3.081673e+09          64118           668774                   52.96  \n",
       "3  2.376831e+09          54414           558188                   56.84  \n",
       "4  2.768389e+09          56820           760631                   67.09  "
      ]
     },
     "execution_count": 22,
     "metadata": {},
     "output_type": "execute_result"
    }
   ],
   "source": [
    "import numpy as np\n",
    "import pandas as pd\n",
    "\n",
    "tcs = pd.read_csv ('../data_modules/tcs.csv')\n",
    "\n",
    "tcs.head()"
   ]
  },
  {
   "cell_type": "code",
   "execution_count": 23,
   "metadata": {},
   "outputs": [
    {
     "data": {
      "text/html": [
       "<div>\n",
       "<style scoped>\n",
       "    .dataframe tbody tr th:only-of-type {\n",
       "        vertical-align: middle;\n",
       "    }\n",
       "\n",
       "    .dataframe tbody tr th {\n",
       "        vertical-align: top;\n",
       "    }\n",
       "\n",
       "    .dataframe thead th {\n",
       "        text-align: right;\n",
       "    }\n",
       "</style>\n",
       "<table border=\"1\" class=\"dataframe\">\n",
       "  <thead>\n",
       "    <tr style=\"text-align: right;\">\n",
       "      <th></th>\n",
       "      <th>Symbol</th>\n",
       "      <th>Series</th>\n",
       "      <th>Date</th>\n",
       "      <th>Prev Close</th>\n",
       "      <th>Open Price</th>\n",
       "      <th>High Price</th>\n",
       "      <th>Low Price</th>\n",
       "      <th>Last Price</th>\n",
       "      <th>Close Price</th>\n",
       "      <th>Average Price</th>\n",
       "      <th>Total Traded Quantity</th>\n",
       "      <th>Turnover</th>\n",
       "      <th>No. of Trades</th>\n",
       "      <th>Deliverable Qty</th>\n",
       "      <th>% Dly Qt to Traded Qty</th>\n",
       "    </tr>\n",
       "  </thead>\n",
       "  <tbody>\n",
       "    <tr>\n",
       "      <th>490</th>\n",
       "      <td>TCS</td>\n",
       "      <td>EQ</td>\n",
       "      <td>09-Apr-2018</td>\n",
       "      <td>2950.30</td>\n",
       "      <td>2939.7</td>\n",
       "      <td>2963.50</td>\n",
       "      <td>2915.00</td>\n",
       "      <td>2925.05</td>\n",
       "      <td>2923.90</td>\n",
       "      <td>2936.88</td>\n",
       "      <td>617933</td>\n",
       "      <td>1.814796e+09</td>\n",
       "      <td>61304</td>\n",
       "      <td>377241</td>\n",
       "      <td>61.05</td>\n",
       "    </tr>\n",
       "    <tr>\n",
       "      <th>491</th>\n",
       "      <td>TCS</td>\n",
       "      <td>EQ</td>\n",
       "      <td>10-Apr-2018</td>\n",
       "      <td>2923.90</td>\n",
       "      <td>2925.7</td>\n",
       "      <td>2957.25</td>\n",
       "      <td>2925.70</td>\n",
       "      <td>2933.40</td>\n",
       "      <td>2937.60</td>\n",
       "      <td>2943.58</td>\n",
       "      <td>592266</td>\n",
       "      <td>1.743381e+09</td>\n",
       "      <td>56834</td>\n",
       "      <td>369579</td>\n",
       "      <td>62.40</td>\n",
       "    </tr>\n",
       "    <tr>\n",
       "      <th>492</th>\n",
       "      <td>TCS</td>\n",
       "      <td>EQ</td>\n",
       "      <td>11-Apr-2018</td>\n",
       "      <td>2937.60</td>\n",
       "      <td>2950.6</td>\n",
       "      <td>3025.00</td>\n",
       "      <td>2945.60</td>\n",
       "      <td>3010.00</td>\n",
       "      <td>3014.15</td>\n",
       "      <td>2987.68</td>\n",
       "      <td>1562208</td>\n",
       "      <td>4.667384e+09</td>\n",
       "      <td>79572</td>\n",
       "      <td>982143</td>\n",
       "      <td>62.87</td>\n",
       "    </tr>\n",
       "    <tr>\n",
       "      <th>493</th>\n",
       "      <td>TCS</td>\n",
       "      <td>EQ</td>\n",
       "      <td>12-Apr-2018</td>\n",
       "      <td>3014.15</td>\n",
       "      <td>3010.0</td>\n",
       "      <td>3150.00</td>\n",
       "      <td>3007.95</td>\n",
       "      <td>3136.00</td>\n",
       "      <td>3139.25</td>\n",
       "      <td>3116.29</td>\n",
       "      <td>3057180</td>\n",
       "      <td>9.527047e+09</td>\n",
       "      <td>138550</td>\n",
       "      <td>1663392</td>\n",
       "      <td>54.41</td>\n",
       "    </tr>\n",
       "    <tr>\n",
       "      <th>494</th>\n",
       "      <td>TCS</td>\n",
       "      <td>EQ</td>\n",
       "      <td>13-Apr-2018</td>\n",
       "      <td>3139.25</td>\n",
       "      <td>3150.0</td>\n",
       "      <td>3240.80</td>\n",
       "      <td>3132.10</td>\n",
       "      <td>3145.50</td>\n",
       "      <td>3153.30</td>\n",
       "      <td>3181.37</td>\n",
       "      <td>4089559</td>\n",
       "      <td>1.301040e+10</td>\n",
       "      <td>147501</td>\n",
       "      <td>2142872</td>\n",
       "      <td>52.40</td>\n",
       "    </tr>\n",
       "  </tbody>\n",
       "</table>\n",
       "</div>"
      ],
      "text/plain": [
       "    Symbol Series         Date  Prev Close  Open Price  High Price  Low Price  \\\n",
       "490    TCS     EQ  09-Apr-2018     2950.30      2939.7     2963.50    2915.00   \n",
       "491    TCS     EQ  10-Apr-2018     2923.90      2925.7     2957.25    2925.70   \n",
       "492    TCS     EQ  11-Apr-2018     2937.60      2950.6     3025.00    2945.60   \n",
       "493    TCS     EQ  12-Apr-2018     3014.15      3010.0     3150.00    3007.95   \n",
       "494    TCS     EQ  13-Apr-2018     3139.25      3150.0     3240.80    3132.10   \n",
       "\n",
       "     Last Price  Close Price  Average Price  Total Traded Quantity  \\\n",
       "490     2925.05      2923.90        2936.88                 617933   \n",
       "491     2933.40      2937.60        2943.58                 592266   \n",
       "492     3010.00      3014.15        2987.68                1562208   \n",
       "493     3136.00      3139.25        3116.29                3057180   \n",
       "494     3145.50      3153.30        3181.37                4089559   \n",
       "\n",
       "         Turnover  No. of Trades  Deliverable Qty  % Dly Qt to Traded Qty  \n",
       "490  1.814796e+09          61304           377241                   61.05  \n",
       "491  1.743381e+09          56834           369579                   62.40  \n",
       "492  4.667384e+09          79572           982143                   62.87  \n",
       "493  9.527047e+09         138550          1663392                   54.41  \n",
       "494  1.301040e+10         147501          2142872                   52.40  "
      ]
     },
     "execution_count": 23,
     "metadata": {},
     "output_type": "execute_result"
    }
   ],
   "source": [
    "tcs.tail()"
   ]
  },
  {
   "cell_type": "code",
   "execution_count": 24,
   "metadata": {},
   "outputs": [
    {
     "data": {
      "text/plain": [
       "495"
      ]
     },
     "execution_count": 24,
     "metadata": {},
     "output_type": "execute_result"
    }
   ],
   "source": [
    "tcs[\"Close Price\"].count()"
   ]
  },
  {
   "cell_type": "markdown",
   "metadata": {},
   "source": [
    "### DataFrame.cov()\n",
    "\n",
    "Covariance is a statistical measure that is used to determine the relationship between the movement of two asset prices.\n",
    "\n",
    "This method returns the covariance between the closing price of the Infosys stock with the closing price of the TCS stock. "
   ]
  },
  {
   "cell_type": "code",
   "execution_count": 25,
   "metadata": {},
   "outputs": [
    {
     "name": "stdout",
     "output_type": "stream",
     "text": [
      "10921.822246963562\n"
     ]
    }
   ],
   "source": [
    "print(infy[\"Close Price\"].cov(tcs[\"Close Price\"]))"
   ]
  },
  {
   "cell_type": "markdown",
   "metadata": {},
   "source": [
    "### DataFrame.corr()\n",
    "\n",
    "Correlation is a statistical measure that expresses the extent to which two variables are linearly related.\n",
    "\n",
    "This method returns the correlation between the closing price of the infosys stock with the closing price of the TCS stock."
   ]
  },
  {
   "cell_type": "code",
   "execution_count": 26,
   "metadata": {},
   "outputs": [
    {
     "name": "stdout",
     "output_type": "stream",
     "text": [
      "0.5284528822821023\n"
     ]
    }
   ],
   "source": [
    "print(infy[\"Close Price\"].corr(tcs[\"Close Price\"]))"
   ]
  },
  {
   "cell_type": "markdown",
   "metadata": {},
   "source": [
    "A correlation of 0.53 indicates a quite strong correlation between these two stocks."
   ]
  },
  {
   "cell_type": "markdown",
   "metadata": {},
   "source": [
    "### DataFrame.kurt()\n",
    "\n",
    "Kurtosis is a statistical measure that defines how heavily the tails of a distribution differ from the tails of a normal distribution.\n",
    "\n",
    "This method returns unbiased kurtosis over the requested data set using Fisher's definition of kurtosis (where kurtosis of normal distribution = 0)."
   ]
  },
  {
   "cell_type": "code",
   "execution_count": 27,
   "metadata": {},
   "outputs": [
    {
     "name": "stdout",
     "output_type": "stream",
     "text": [
      "0.8800641286102868\n"
     ]
    }
   ],
   "source": [
    "print(tcs[\"Close Price\"].kurt())"
   ]
  },
  {
   "cell_type": "markdown",
   "metadata": {},
   "source": [
    "A positive kurtosis value indicates a leptokurtic distribution. Such a distribution can be described as having a flatter shape with fatter tails resulting in a greater chance of extreme positive or negative events."
   ]
  },
  {
   "cell_type": "code",
   "execution_count": 28,
   "metadata": {},
   "outputs": [
    {
     "name": "stdout",
     "output_type": "stream",
     "text": [
      "-0.6105147559392994\n"
     ]
    }
   ],
   "source": [
    "print(infy[\"Close Price\"].kurt())"
   ]
  },
  {
   "cell_type": "markdown",
   "metadata": {},
   "source": [
    "A negative kurtosis value indicates a platykurtic distribution. Such a distribution will have thinner tails, resulting in fewer extreme positive or negative events."
   ]
  },
  {
   "cell_type": "markdown",
   "metadata": {},
   "source": [
    "### DataFrame.skew()\n",
    "\n",
    "In statistics, skewness is a measure of the asymmetry of the distribution of a variable about its mean.\n",
    "\n",
    "This method unbiased skew over the requested data set."
   ]
  },
  {
   "cell_type": "code",
   "execution_count": 29,
   "metadata": {},
   "outputs": [
    {
     "name": "stdout",
     "output_type": "stream",
     "text": [
      "0.9468192137706644\n"
     ]
    }
   ],
   "source": [
    "print(tcs[\"Close Price\"].skew())"
   ]
  },
  {
   "cell_type": "markdown",
   "metadata": {},
   "source": [
    "The distribution is positively skewed."
   ]
  },
  {
   "cell_type": "code",
   "execution_count": 30,
   "metadata": {},
   "outputs": [
    {
     "name": "stdout",
     "output_type": "stream",
     "text": [
      "0.6846117091411204\n"
     ]
    }
   ],
   "source": [
    "print(infy[\"Close Price\"].skew())"
   ]
  },
  {
   "cell_type": "markdown",
   "metadata": {},
   "source": [
    "The distribution is positively skewed. However, TCS' distribution is more positively skewed than Infosys' distribution."
   ]
  },
  {
   "cell_type": "markdown",
   "metadata": {},
   "source": [
    "Let us visualise both the distributions and see whether the above said sentences make sense or not. "
   ]
  },
  {
   "cell_type": "code",
   "execution_count": 31,
   "metadata": {},
   "outputs": [
    {
     "name": "stderr",
     "output_type": "stream",
     "text": [
      "C:\\Users\\aarya\\Anaconda3\\envs\\py39\\lib\\site-packages\\seaborn\\distributions.py:2557: FutureWarning: `distplot` is a deprecated function and will be removed in a future version. Please adapt your code to use either `displot` (a figure-level function with similar flexibility) or `histplot` (an axes-level function for histograms).\n",
      "  warnings.warn(msg, FutureWarning)\n"
     ]
    },
    {
     "data": {
      "image/png": "[encoded data removed]",
      "text/plain": [
       "<Figure size 432x288 with 1 Axes>"
      ]
     },
     "metadata": {},
     "output_type": "display_data"
    }
   ],
   "source": [
    "# Infosys distribution\n",
    "\n",
    "import seaborn as sns\n",
    "\n",
    "sns.set(color_codes=True)\n",
    "\n",
    "sns.distplot(infy[\"Close Price\"])\n",
    "plt.show()"
   ]
  },
  {
   "cell_type": "markdown",
   "metadata": {},
   "source": [
    "In the above diagram, you can see why the infosys close price distribution is platykurtic and positively skewed."
   ]
  },
  {
   "cell_type": "code",
   "execution_count": 32,
   "metadata": {},
   "outputs": [
    {
     "name": "stderr",
     "output_type": "stream",
     "text": [
      "C:\\Users\\aarya\\Anaconda3\\envs\\py39\\lib\\site-packages\\seaborn\\distributions.py:2557: FutureWarning: `distplot` is a deprecated function and will be removed in a future version. Please adapt your code to use either `displot` (a figure-level function with similar flexibility) or `histplot` (an axes-level function for histograms).\n",
      "  warnings.warn(msg, FutureWarning)\n"
     ]
    },
    {
     "data": {
      "image/png": "[encoded data removed]",
      "text/plain": [
       "<Figure size 432x288 with 1 Axes>"
      ]
     },
     "metadata": {},
     "output_type": "display_data"
    }
   ],
   "source": [
    "# TCS distribution\n",
    "\n",
    "import seaborn as sns\n",
    "\n",
    "sns.set(color_codes=True)\n",
    "\n",
    "sns.distplot(tcs[\"Close Price\"])\n",
    "plt.show()"
   ]
  },
  {
   "cell_type": "markdown",
   "metadata": {},
   "source": [
    "In the above diagram, you can see why the TCS close price distribution is leptokurtic and positively skewed. <br>\n",
    "<br>\n",
    "A trained eye is statistics, will be able to see that the TCS stock's closing prices are more positively skewed than the Infosys stock's closing prices.\n"
   ]
  },
  {
   "cell_type": "markdown",
   "metadata": {},
   "source": [
    "In the upcoming Jupyter Notebook, we will continue understanding about <b> Indexing and Missing Values</b> in Pandas. But before that let us solve some Quiz Questions and Exercises.<br><br>"
   ]
  }
 ],
 "metadata": {
  "kernelspec": {
   "display_name": "Python 3",
   "language": "python",
   "name": "python3"
  },
  "language_info": {
   "codemirror_mode": {
    "name": "ipython",
    "version": 3
   },
   "file_extension": ".py",
   "mimetype": "text/x-python",
   "name": "python",
   "nbconvert_exporter": "python",
   "pygments_lexer": "ipython3",
   "version": "3.9.0"
  }
 },
 "nbformat": 4,
 "nbformat_minor": 2
}
