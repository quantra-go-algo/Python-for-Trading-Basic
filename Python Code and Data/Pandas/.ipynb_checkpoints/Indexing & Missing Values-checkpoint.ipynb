{
 "cells": [
  {
   "cell_type": "markdown",
   "metadata": {},
   "source": [
    "# Notebook Instructions\n",
    "\n",
    "1. All the <u>code and data files</u> used in this course are available in the downloadable unit of the <u>last section of this course</u>.\n",
    "2. You can run the notebook document sequentially (one cell at a time) by pressing **shift + enter**. \n",
    "3. While a cell is running, a [*] is shown on the left. After the cell is run, the output will appear on the next line.\n",
    "\n",
    "This course is based on specific versions of python packages. You can find the details of the packages in <a href='https://quantra.quantinsti.com/quantra-notebook' target=\"_blank\" >this manual</a>."
   ]
  },
  {
   "cell_type": "markdown",
   "metadata": {},
   "source": [
    "In this notebook, we will have a look at the different descriptive statistical functions available in Python. \n",
    "\n",
    "## Notebook Contents\n",
    "\n",
    "##### <span style=\"color:green\">1. Indexing using .loc()</span>\n",
    "##### <span style=\"color:green\">2. Indexing using .iloc()</span>\n",
    "##### <span style=\"color:green\">4. Missing Values</span>\n",
    "##### <span style=\"color:green\">5. DataFrame.isnull()</span>\n",
    "##### <span style=\"color:green\">6. DataFrame.notnull()</span>\n",
    "##### <span style=\"color:green\">7. DataFrame.fillna()</span>\n",
    "##### <span style=\"color:green\">8. DataFrame.dropna()</span>\n",
    "##### <span style=\"color:green\">9. Replacing values</span>\n",
    "##### <span style=\"color:green\">10. Reindexing</span>"
   ]
  },
  {
   "cell_type": "markdown",
   "metadata": {},
   "source": [
    "# Loading and viewing data"
   ]
  },
  {
   "cell_type": "markdown",
   "metadata": {},
   "source": [
    "Before we start, let us import OHLC time series data of Infosys stock for only 'two weeks'. With a smaller dataframe, understanding 'Indexing' would be more intuitive."
   ]
  },
  {
   "cell_type": "code",
   "execution_count": 1,
   "metadata": {},
   "outputs": [],
   "source": [
    "# Loading and Viewing data\n",
    "\n",
    "import numpy as np\n",
    "import pandas as pd\n",
    "\n",
    "infy = pd.read_csv('../data_modules/infy_twoweeks.csv')"
   ]
  },
  {
   "cell_type": "code",
   "execution_count": 2,
   "metadata": {},
   "outputs": [
    {
     "data": {
      "text/html": [
       "<div>\n",
       "<style scoped>\n",
       "    .dataframe tbody tr th:only-of-type {\n",
       "        vertical-align: middle;\n",
       "    }\n",
       "\n",
       "    .dataframe tbody tr th {\n",
       "        vertical-align: top;\n",
       "    }\n",
       "\n",
       "    .dataframe thead th {\n",
       "        text-align: right;\n",
       "    }\n",
       "</style>\n",
       "<table border=\"1\" class=\"dataframe\">\n",
       "  <thead>\n",
       "    <tr style=\"text-align: right;\">\n",
       "      <th></th>\n",
       "      <th>Symbol</th>\n",
       "      <th>Series</th>\n",
       "      <th>Date</th>\n",
       "      <th>Prev Close</th>\n",
       "      <th>Open Price</th>\n",
       "      <th>High Price</th>\n",
       "      <th>Low Price</th>\n",
       "      <th>Last Price</th>\n",
       "      <th>Close Price</th>\n",
       "      <th>Average Price</th>\n",
       "      <th>Total Traded Quantity</th>\n",
       "      <th>No. of Trades</th>\n",
       "    </tr>\n",
       "  </thead>\n",
       "  <tbody>\n",
       "    <tr>\n",
       "      <th>0</th>\n",
       "      <td>INFY</td>\n",
       "      <td>EQ</td>\n",
       "      <td>2-Apr-18</td>\n",
       "      <td>1131.80</td>\n",
       "      <td>1141.00</td>\n",
       "      <td>1149.55</td>\n",
       "      <td>1121.30</td>\n",
       "      <td>1136.70</td>\n",
       "      <td>1137.15</td>\n",
       "      <td>1135.86</td>\n",
       "      <td>4036351</td>\n",
       "      <td>142078</td>\n",
       "    </tr>\n",
       "    <tr>\n",
       "      <th>1</th>\n",
       "      <td>INFY</td>\n",
       "      <td>EQ</td>\n",
       "      <td>3-Apr-18</td>\n",
       "      <td>1137.15</td>\n",
       "      <td>1134.70</td>\n",
       "      <td>1143.55</td>\n",
       "      <td>1128.10</td>\n",
       "      <td>1139.40</td>\n",
       "      <td>1140.45</td>\n",
       "      <td>1135.21</td>\n",
       "      <td>2038584</td>\n",
       "      <td>114034</td>\n",
       "    </tr>\n",
       "    <tr>\n",
       "      <th>2</th>\n",
       "      <td>INFY</td>\n",
       "      <td>EQ</td>\n",
       "      <td>4-Apr-18</td>\n",
       "      <td>1140.45</td>\n",
       "      <td>1144.00</td>\n",
       "      <td>1144.55</td>\n",
       "      <td>1120.00</td>\n",
       "      <td>1122.70</td>\n",
       "      <td>1124.20</td>\n",
       "      <td>1131.81</td>\n",
       "      <td>2406651</td>\n",
       "      <td>137029</td>\n",
       "    </tr>\n",
       "    <tr>\n",
       "      <th>3</th>\n",
       "      <td>INFY</td>\n",
       "      <td>EQ</td>\n",
       "      <td>5-Apr-18</td>\n",
       "      <td>1124.20</td>\n",
       "      <td>1139.55</td>\n",
       "      <td>1151.30</td>\n",
       "      <td>1129.10</td>\n",
       "      <td>1146.05</td>\n",
       "      <td>1147.55</td>\n",
       "      <td>1140.71</td>\n",
       "      <td>3881772</td>\n",
       "      <td>101745</td>\n",
       "    </tr>\n",
       "    <tr>\n",
       "      <th>4</th>\n",
       "      <td>INFY</td>\n",
       "      <td>EQ</td>\n",
       "      <td>6-Apr-18</td>\n",
       "      <td>1147.55</td>\n",
       "      <td>1143.00</td>\n",
       "      <td>1146.00</td>\n",
       "      <td>1122.10</td>\n",
       "      <td>1127.55</td>\n",
       "      <td>1127.00</td>\n",
       "      <td>1128.81</td>\n",
       "      <td>2968871</td>\n",
       "      <td>137277</td>\n",
       "    </tr>\n",
       "    <tr>\n",
       "      <th>5</th>\n",
       "      <td>INFY</td>\n",
       "      <td>EQ</td>\n",
       "      <td>9-Apr-18</td>\n",
       "      <td>1127.00</td>\n",
       "      <td>1125.00</td>\n",
       "      <td>1125.80</td>\n",
       "      <td>1106.55</td>\n",
       "      <td>1111.45</td>\n",
       "      <td>1111.25</td>\n",
       "      <td>1113.12</td>\n",
       "      <td>3601441</td>\n",
       "      <td>171118</td>\n",
       "    </tr>\n",
       "    <tr>\n",
       "      <th>6</th>\n",
       "      <td>INFY</td>\n",
       "      <td>EQ</td>\n",
       "      <td>10-Apr-18</td>\n",
       "      <td>1111.25</td>\n",
       "      <td>1112.00</td>\n",
       "      <td>1124.50</td>\n",
       "      <td>1105.40</td>\n",
       "      <td>1114.65</td>\n",
       "      <td>1113.40</td>\n",
       "      <td>1115.77</td>\n",
       "      <td>4463029</td>\n",
       "      <td>144468</td>\n",
       "    </tr>\n",
       "    <tr>\n",
       "      <th>7</th>\n",
       "      <td>INFY</td>\n",
       "      <td>EQ</td>\n",
       "      <td>11-Apr-18</td>\n",
       "      <td>1113.40</td>\n",
       "      <td>1118.00</td>\n",
       "      <td>1131.50</td>\n",
       "      <td>1116.50</td>\n",
       "      <td>1124.50</td>\n",
       "      <td>1124.25</td>\n",
       "      <td>1124.78</td>\n",
       "      <td>4512787</td>\n",
       "      <td>102586</td>\n",
       "    </tr>\n",
       "    <tr>\n",
       "      <th>8</th>\n",
       "      <td>INFY</td>\n",
       "      <td>EQ</td>\n",
       "      <td>12-Apr-18</td>\n",
       "      <td>1124.25</td>\n",
       "      <td>1129.45</td>\n",
       "      <td>1172.75</td>\n",
       "      <td>1125.00</td>\n",
       "      <td>1164.05</td>\n",
       "      <td>1162.60</td>\n",
       "      <td>1157.71</td>\n",
       "      <td>8522183</td>\n",
       "      <td>216130</td>\n",
       "    </tr>\n",
       "    <tr>\n",
       "      <th>9</th>\n",
       "      <td>INFY</td>\n",
       "      <td>EQ</td>\n",
       "      <td>13-Apr-18</td>\n",
       "      <td>1162.60</td>\n",
       "      <td>1174.00</td>\n",
       "      <td>1185.90</td>\n",
       "      <td>1150.25</td>\n",
       "      <td>1168.00</td>\n",
       "      <td>1171.45</td>\n",
       "      <td>1172.37</td>\n",
       "      <td>10613519</td>\n",
       "      <td>180965</td>\n",
       "    </tr>\n",
       "  </tbody>\n",
       "</table>\n",
       "</div>"
      ],
      "text/plain": [
       "  Symbol Series       Date  Prev Close  Open Price  High Price  Low Price  \\\n",
       "0   INFY     EQ   2-Apr-18     1131.80     1141.00     1149.55    1121.30   \n",
       "1   INFY     EQ   3-Apr-18     1137.15     1134.70     1143.55    1128.10   \n",
       "2   INFY     EQ   4-Apr-18     1140.45     1144.00     1144.55    1120.00   \n",
       "3   INFY     EQ   5-Apr-18     1124.20     1139.55     1151.30    1129.10   \n",
       "4   INFY     EQ   6-Apr-18     1147.55     1143.00     1146.00    1122.10   \n",
       "5   INFY     EQ   9-Apr-18     1127.00     1125.00     1125.80    1106.55   \n",
       "6   INFY     EQ  10-Apr-18     1111.25     1112.00     1124.50    1105.40   \n",
       "7   INFY     EQ  11-Apr-18     1113.40     1118.00     1131.50    1116.50   \n",
       "8   INFY     EQ  12-Apr-18     1124.25     1129.45     1172.75    1125.00   \n",
       "9   INFY     EQ  13-Apr-18     1162.60     1174.00     1185.90    1150.25   \n",
       "\n",
       "   Last Price  Close Price  Average Price  Total Traded Quantity  \\\n",
       "0     1136.70      1137.15        1135.86                4036351   \n",
       "1     1139.40      1140.45        1135.21                2038584   \n",
       "2     1122.70      1124.20        1131.81                2406651   \n",
       "3     1146.05      1147.55        1140.71                3881772   \n",
       "4     1127.55      1127.00        1128.81                2968871   \n",
       "5     1111.45      1111.25        1113.12                3601441   \n",
       "6     1114.65      1113.40        1115.77                4463029   \n",
       "7     1124.50      1124.25        1124.78                4512787   \n",
       "8     1164.05      1162.60        1157.71                8522183   \n",
       "9     1168.00      1171.45        1172.37               10613519   \n",
       "\n",
       "   No. of Trades  \n",
       "0         142078  \n",
       "1         114034  \n",
       "2         137029  \n",
       "3         101745  \n",
       "4         137277  \n",
       "5         171118  \n",
       "6         144468  \n",
       "7         102586  \n",
       "8         216130  \n",
       "9         180965  "
      ]
     },
     "execution_count": 2,
     "metadata": {},
     "output_type": "execute_result"
    }
   ],
   "source": [
    "infy  # This is the entire 'Infosys two weeks' time series dataframe."
   ]
  },
  {
   "cell_type": "code",
   "execution_count": 3,
   "metadata": {},
   "outputs": [
    {
     "data": {
      "text/plain": [
       "(10, 12)"
      ]
     },
     "execution_count": 3,
     "metadata": {},
     "output_type": "execute_result"
    }
   ],
   "source": [
    "infy.shape  # This dataframe has 10 rows and 12 columns"
   ]
  },
  {
   "cell_type": "markdown",
   "metadata": {},
   "source": [
    "## Indexing\n",
    "\n",
    "Indexing provides us with the axis labelling information in pandas. Further, it helps us to identify the exact position of data which is important while analysing data. <br>\n",
    "\n",
    "While studying indexing, we will also focus on how to slice and dice the data according to our needs in a dataframe."
   ]
  },
  {
   "cell_type": "markdown",
   "metadata": {},
   "source": [
    "## Indexing using .loc()\n",
    "\n",
    "It is a 'label-location' based indexer for selection of data points."
   ]
  },
  {
   "cell_type": "code",
   "execution_count": 4,
   "metadata": {},
   "outputs": [
    {
     "name": "stdout",
     "output_type": "stream",
     "text": [
      "0    1137.15\n",
      "1    1140.45\n",
      "2    1124.20\n",
      "3    1147.55\n",
      "4    1127.00\n",
      "5    1111.25\n",
      "6    1113.40\n",
      "7    1124.25\n",
      "8    1162.60\n",
      "9    1171.45\n",
      "Name: Close Price, dtype: float64\n"
     ]
    }
   ],
   "source": [
    "# Import the pandas library and aliasing as pd\n",
    "import pandas as pd\n",
    "import numpy as np\n",
    "\n",
    "# Select all rows for a specific column\n",
    "\n",
    "print(infy.loc[:, 'Close Price'])"
   ]
  },
  {
   "cell_type": "code",
   "execution_count": 5,
   "metadata": {},
   "outputs": [
    {
     "name": "stdout",
     "output_type": "stream",
     "text": [
      "   Close Price  Open Price\n",
      "0      1137.15     1141.00\n",
      "1      1140.45     1134.70\n",
      "2      1124.20     1144.00\n",
      "3      1147.55     1139.55\n",
      "4      1127.00     1143.00\n",
      "5      1111.25     1125.00\n",
      "6      1113.40     1112.00\n",
      "7      1124.25     1118.00\n",
      "8      1162.60     1129.45\n",
      "9      1171.45     1174.00\n"
     ]
    }
   ],
   "source": [
    "# Select all the rows of these specific columns\n",
    "\n",
    "print(infy.loc[:, ['Close Price', 'Open Price']])"
   ]
  },
  {
   "cell_type": "code",
   "execution_count": 6,
   "metadata": {},
   "outputs": [
    {
     "name": "stdout",
     "output_type": "stream",
     "text": [
      "   Close Price  Open Price\n",
      "0      1137.15     1141.00\n",
      "1      1140.45     1134.70\n",
      "2      1124.20     1144.00\n",
      "3      1147.55     1139.55\n",
      "4      1127.00     1143.00\n"
     ]
    }
   ],
   "source": [
    "# Select the first five rows of the specific columns\n",
    "\n",
    "# Remember that the '.loc()' method INCLUDES the rows and columns in its stop argument.\n",
    "\n",
    "# Observe that '0:4' will include 5 rows from index 0 to 4\n",
    "\n",
    "# The loc indexer takes the row arguments first and the column arguments second.\n",
    "\n",
    "print(infy.loc[:4, ['Close Price', 'Open Price']])"
   ]
  },
  {
   "cell_type": "code",
   "execution_count": 7,
   "metadata": {},
   "outputs": [
    {
     "name": "stdout",
     "output_type": "stream",
     "text": [
      "  Symbol Series       Date  Prev Close  Open Price  High Price  Low Price  \\\n",
      "2   INFY     EQ   4-Apr-18     1140.45     1144.00     1144.55    1120.00   \n",
      "3   INFY     EQ   5-Apr-18     1124.20     1139.55     1151.30    1129.10   \n",
      "4   INFY     EQ   6-Apr-18     1147.55     1143.00     1146.00    1122.10   \n",
      "5   INFY     EQ   9-Apr-18     1127.00     1125.00     1125.80    1106.55   \n",
      "6   INFY     EQ  10-Apr-18     1111.25     1112.00     1124.50    1105.40   \n",
      "7   INFY     EQ  11-Apr-18     1113.40     1118.00     1131.50    1116.50   \n",
      "\n",
      "   Last Price  Close Price  Average Price  Total Traded Quantity  \\\n",
      "2     1122.70      1124.20        1131.81                2406651   \n",
      "3     1146.05      1147.55        1140.71                3881772   \n",
      "4     1127.55      1127.00        1128.81                2968871   \n",
      "5     1111.45      1111.25        1113.12                3601441   \n",
      "6     1114.65      1113.40        1115.77                4463029   \n",
      "7     1124.50      1124.25        1124.78                4512787   \n",
      "\n",
      "   No. of Trades  \n",
      "2         137029  \n",
      "3         101745  \n",
      "4         137277  \n",
      "5         171118  \n",
      "6         144468  \n",
      "7         102586  \n"
     ]
    }
   ],
   "source": [
    "# Select the rows 2 to 7 of all the columns from the dataframe\n",
    "\n",
    "print(infy.loc[2:7])"
   ]
  },
  {
   "cell_type": "code",
   "execution_count": 8,
   "metadata": {},
   "outputs": [
    {
     "name": "stdout",
     "output_type": "stream",
     "text": [
      "   Open Price  High Price  Low Price  Close Price\n",
      "0     1141.00     1149.55    1121.30      1137.15\n",
      "1     1134.70     1143.55    1128.10      1140.45\n",
      "2     1144.00     1144.55    1120.00      1124.20\n",
      "3     1139.55     1151.30    1129.10      1147.55\n",
      "4     1143.00     1146.00    1122.10      1127.00\n",
      "5     1125.00     1125.80    1106.55      1111.25\n"
     ]
    }
   ],
   "source": [
    "# Select the rows and columns specified\n",
    "\n",
    "print(infy.loc[[0, 1, 2, 3, 4, 5], ['Open Price',\n",
    "                                    'High Price', 'Low Price', 'Close Price']])"
   ]
  },
  {
   "cell_type": "code",
   "execution_count": 9,
   "metadata": {},
   "outputs": [
    {
     "name": "stdout",
     "output_type": "stream",
     "text": [
      "   Open Price  High Price  Low Price  Close Price\n",
      "4        True        True      False        False\n"
     ]
    }
   ],
   "source": [
    "# To check if the fifth row's values are greater than 1130.\n",
    "\n",
    "print(infy.loc[[4], ['Open Price', 'High Price',\n",
    "                     'Low Price', 'Close Price']] > 1130)"
   ]
  },
  {
   "cell_type": "markdown",
   "metadata": {},
   "source": [
    "## Indexing using .iloc()\n",
    "\n",
    "Another way to perform indexing is by using the 'iloc()' method."
   ]
  },
  {
   "cell_type": "code",
   "execution_count": 10,
   "metadata": {},
   "outputs": [
    {
     "name": "stdout",
     "output_type": "stream",
     "text": [
      "  Symbol Series      Date  Prev Close  Open Price  High Price  Low Price  \\\n",
      "0   INFY     EQ  2-Apr-18     1131.80     1141.00     1149.55     1121.3   \n",
      "1   INFY     EQ  3-Apr-18     1137.15     1134.70     1143.55     1128.1   \n",
      "2   INFY     EQ  4-Apr-18     1140.45     1144.00     1144.55     1120.0   \n",
      "3   INFY     EQ  5-Apr-18     1124.20     1139.55     1151.30     1129.1   \n",
      "\n",
      "   Last Price  Close Price  Average Price  Total Traded Quantity  \\\n",
      "0     1136.70      1137.15        1135.86                4036351   \n",
      "1     1139.40      1140.45        1135.21                2038584   \n",
      "2     1122.70      1124.20        1131.81                2406651   \n",
      "3     1146.05      1147.55        1140.71                3881772   \n",
      "\n",
      "   No. of Trades  \n",
      "0         142078  \n",
      "1         114034  \n",
      "2         137029  \n",
      "3         101745  \n"
     ]
    }
   ],
   "source": [
    "# Using .iloc()\n",
    "\n",
    "# Select the first four rows of all the columns\n",
    "\n",
    "# Remember that the '.iloc()' method DOES NOT include the rows and columns in its stop argument\n",
    "\n",
    "# Observe that '0:4' will include 4 rows from index 0 to 3\n",
    "\n",
    "print(infy.iloc[:4])"
   ]
  },
  {
   "cell_type": "code",
   "execution_count": 11,
   "metadata": {},
   "outputs": [
    {
     "name": "stdout",
     "output_type": "stream",
     "text": [
      "       Date  Prev Close\n",
      "1  3-Apr-18     1137.15\n",
      "2  4-Apr-18     1140.45\n",
      "3  5-Apr-18     1124.20\n",
      "4  6-Apr-18     1147.55\n"
     ]
    }
   ],
   "source": [
    "# Let us play more with the indexes of both rows and columns\n",
    "\n",
    "# Select the rows from index 1 to index 4 (4 rows in total) and Columns with index from  2 to  3 (2 columns)\n",
    "\n",
    "# .iloc() is similar to numpy array indexing\n",
    "\n",
    "# .iloc() is extremely useful when your data is not labelled and you need to refer to columns using their integer location instead\n",
    "\n",
    "print(infy.iloc[1:5, 2:4])"
   ]
  },
  {
   "cell_type": "code",
   "execution_count": 12,
   "metadata": {},
   "outputs": [
    {
     "name": "stdout",
     "output_type": "stream",
     "text": [
      "  Series  Prev Close  High Price  Last Price  Average Price\n",
      "1     EQ     1137.15     1143.55     1139.40        1135.21\n",
      "3     EQ     1124.20     1151.30     1146.05        1140.71\n",
      "5     EQ     1127.00     1125.80     1111.45        1113.12\n",
      "7     EQ     1113.40     1131.50     1124.50        1124.78\n"
     ]
    }
   ],
   "source": [
    "# Selecting the exact requested columns\n",
    "\n",
    "print(infy.iloc[[1, 3, 5, 7], [1, 3, 5, 7, 9]])"
   ]
  },
  {
   "cell_type": "code",
   "execution_count": 13,
   "metadata": {},
   "outputs": [
    {
     "name": "stdout",
     "output_type": "stream",
     "text": [
      "  Symbol Series      Date  Prev Close  Open Price  High Price  Low Price  \\\n",
      "1   INFY     EQ  3-Apr-18     1137.15      1134.7     1143.55     1128.1   \n",
      "2   INFY     EQ  4-Apr-18     1140.45      1144.0     1144.55     1120.0   \n",
      "\n",
      "   Last Price  Close Price  Average Price  Total Traded Quantity  \\\n",
      "1      1139.4      1140.45        1135.21                2038584   \n",
      "2      1122.7      1124.20        1131.81                2406651   \n",
      "\n",
      "   No. of Trades  \n",
      "1         114034  \n",
      "2         137029  \n"
     ]
    }
   ],
   "source": [
    "# Selecting the first two rows and all the columns\n",
    "\n",
    "print(infy.iloc[1:3, :])"
   ]
  },
  {
   "cell_type": "code",
   "execution_count": 14,
   "metadata": {},
   "outputs": [
    {
     "name": "stdout",
     "output_type": "stream",
     "text": [
      "  Series       Date\n",
      "0     EQ   2-Apr-18\n",
      "1     EQ   3-Apr-18\n",
      "2     EQ   4-Apr-18\n",
      "3     EQ   5-Apr-18\n",
      "4     EQ   6-Apr-18\n",
      "5     EQ   9-Apr-18\n",
      "6     EQ  10-Apr-18\n",
      "7     EQ  11-Apr-18\n",
      "8     EQ  12-Apr-18\n",
      "9     EQ  13-Apr-18\n"
     ]
    }
   ],
   "source": [
    "print(infy.iloc[:, 1:3])"
   ]
  },
  {
   "cell_type": "markdown",
   "metadata": {},
   "source": [
    "## Missing values\n",
    "\n",
    "Missing values are values that are absent from the dataframe. Usually, all the dataframes that you would work on would be large and there will be a case of 'missing values' in most of them. <br>\n",
    "<br>\n",
    "Hence, it becomes important for you to learn how to handle these missing values."
   ]
  },
  {
   "cell_type": "code",
   "execution_count": 15,
   "metadata": {},
   "outputs": [
    {
     "data": {
      "text/html": [
       "<div>\n",
       "<style scoped>\n",
       "    .dataframe tbody tr th:only-of-type {\n",
       "        vertical-align: middle;\n",
       "    }\n",
       "\n",
       "    .dataframe tbody tr th {\n",
       "        vertical-align: top;\n",
       "    }\n",
       "\n",
       "    .dataframe thead th {\n",
       "        text-align: right;\n",
       "    }\n",
       "</style>\n",
       "<table border=\"1\" class=\"dataframe\">\n",
       "  <thead>\n",
       "    <tr style=\"text-align: right;\">\n",
       "      <th></th>\n",
       "      <th>Symbol</th>\n",
       "      <th>Series</th>\n",
       "      <th>Date</th>\n",
       "      <th>Prev Close</th>\n",
       "      <th>Open Price</th>\n",
       "      <th>High Price</th>\n",
       "      <th>Low Price</th>\n",
       "      <th>Last Price</th>\n",
       "      <th>Close Price</th>\n",
       "      <th>Average Price</th>\n",
       "      <th>Total Traded Quantity</th>\n",
       "      <th>No. of Trades</th>\n",
       "    </tr>\n",
       "  </thead>\n",
       "  <tbody>\n",
       "    <tr>\n",
       "      <th>0</th>\n",
       "      <td>INFY</td>\n",
       "      <td>EQ</td>\n",
       "      <td>2-Apr-18</td>\n",
       "      <td>1131.80</td>\n",
       "      <td>1141.00</td>\n",
       "      <td>1149.55</td>\n",
       "      <td>1121.30</td>\n",
       "      <td>1136.70</td>\n",
       "      <td>1137.15</td>\n",
       "      <td>1135.86</td>\n",
       "      <td>4036351.0</td>\n",
       "      <td>142078.0</td>\n",
       "    </tr>\n",
       "    <tr>\n",
       "      <th>1</th>\n",
       "      <td>INFY</td>\n",
       "      <td>EQ</td>\n",
       "      <td>3-Apr-18</td>\n",
       "      <td>1137.15</td>\n",
       "      <td>1134.70</td>\n",
       "      <td>1143.55</td>\n",
       "      <td>1128.10</td>\n",
       "      <td>1139.40</td>\n",
       "      <td>1140.45</td>\n",
       "      <td>1135.21</td>\n",
       "      <td>2038584.0</td>\n",
       "      <td>114034.0</td>\n",
       "    </tr>\n",
       "    <tr>\n",
       "      <th>2</th>\n",
       "      <td>INFY</td>\n",
       "      <td>EQ</td>\n",
       "      <td>4-Apr-18</td>\n",
       "      <td>1140.45</td>\n",
       "      <td>1144.00</td>\n",
       "      <td>NaN</td>\n",
       "      <td>NaN</td>\n",
       "      <td>NaN</td>\n",
       "      <td>NaN</td>\n",
       "      <td>NaN</td>\n",
       "      <td>NaN</td>\n",
       "      <td>137029.0</td>\n",
       "    </tr>\n",
       "    <tr>\n",
       "      <th>3</th>\n",
       "      <td>INFY</td>\n",
       "      <td>EQ</td>\n",
       "      <td>5-Apr-18</td>\n",
       "      <td>1124.20</td>\n",
       "      <td>NaN</td>\n",
       "      <td>1151.30</td>\n",
       "      <td>1129.10</td>\n",
       "      <td>1146.05</td>\n",
       "      <td>1147.55</td>\n",
       "      <td>1140.71</td>\n",
       "      <td>3881772.0</td>\n",
       "      <td>NaN</td>\n",
       "    </tr>\n",
       "    <tr>\n",
       "      <th>4</th>\n",
       "      <td>INFY</td>\n",
       "      <td>EQ</td>\n",
       "      <td>6-Apr-18</td>\n",
       "      <td>1147.55</td>\n",
       "      <td>1143.00</td>\n",
       "      <td>1146.00</td>\n",
       "      <td>1122.10</td>\n",
       "      <td>1127.55</td>\n",
       "      <td>NaN</td>\n",
       "      <td>1128.81</td>\n",
       "      <td>2968871.0</td>\n",
       "      <td>137277.0</td>\n",
       "    </tr>\n",
       "    <tr>\n",
       "      <th>5</th>\n",
       "      <td>INFY</td>\n",
       "      <td>EQ</td>\n",
       "      <td>9-Apr-18</td>\n",
       "      <td>NaN</td>\n",
       "      <td>NaN</td>\n",
       "      <td>NaN</td>\n",
       "      <td>1106.55</td>\n",
       "      <td>1111.45</td>\n",
       "      <td>1111.25</td>\n",
       "      <td>NaN</td>\n",
       "      <td>3601441.0</td>\n",
       "      <td>171118.0</td>\n",
       "    </tr>\n",
       "    <tr>\n",
       "      <th>6</th>\n",
       "      <td>INFY</td>\n",
       "      <td>EQ</td>\n",
       "      <td>10-Apr-18</td>\n",
       "      <td>1111.25</td>\n",
       "      <td>1112.00</td>\n",
       "      <td>1124.50</td>\n",
       "      <td>NaN</td>\n",
       "      <td>NaN</td>\n",
       "      <td>NaN</td>\n",
       "      <td>1115.77</td>\n",
       "      <td>NaN</td>\n",
       "      <td>NaN</td>\n",
       "    </tr>\n",
       "    <tr>\n",
       "      <th>7</th>\n",
       "      <td>INFY</td>\n",
       "      <td>EQ</td>\n",
       "      <td>11-Apr-18</td>\n",
       "      <td>1113.40</td>\n",
       "      <td>1118.00</td>\n",
       "      <td>1131.50</td>\n",
       "      <td>1116.50</td>\n",
       "      <td>1124.50</td>\n",
       "      <td>1124.25</td>\n",
       "      <td>1124.78</td>\n",
       "      <td>4512787.0</td>\n",
       "      <td>102586.0</td>\n",
       "    </tr>\n",
       "    <tr>\n",
       "      <th>8</th>\n",
       "      <td>INFY</td>\n",
       "      <td>EQ</td>\n",
       "      <td>12-Apr-18</td>\n",
       "      <td>NaN</td>\n",
       "      <td>1129.45</td>\n",
       "      <td>NaN</td>\n",
       "      <td>1125.00</td>\n",
       "      <td>1164.05</td>\n",
       "      <td>1162.60</td>\n",
       "      <td>1157.71</td>\n",
       "      <td>8522183.0</td>\n",
       "      <td>216130.0</td>\n",
       "    </tr>\n",
       "    <tr>\n",
       "      <th>9</th>\n",
       "      <td>INFY</td>\n",
       "      <td>EQ</td>\n",
       "      <td>13-Apr-18</td>\n",
       "      <td>1162.60</td>\n",
       "      <td>1174.00</td>\n",
       "      <td>1185.90</td>\n",
       "      <td>1150.25</td>\n",
       "      <td>1168.00</td>\n",
       "      <td>1171.45</td>\n",
       "      <td>1172.37</td>\n",
       "      <td>10613519.0</td>\n",
       "      <td>NaN</td>\n",
       "    </tr>\n",
       "  </tbody>\n",
       "</table>\n",
       "</div>"
      ],
      "text/plain": [
       "  Symbol Series       Date  Prev Close  Open Price  High Price  Low Price  \\\n",
       "0   INFY     EQ   2-Apr-18     1131.80     1141.00     1149.55    1121.30   \n",
       "1   INFY     EQ   3-Apr-18     1137.15     1134.70     1143.55    1128.10   \n",
       "2   INFY     EQ   4-Apr-18     1140.45     1144.00         NaN        NaN   \n",
       "3   INFY     EQ   5-Apr-18     1124.20         NaN     1151.30    1129.10   \n",
       "4   INFY     EQ   6-Apr-18     1147.55     1143.00     1146.00    1122.10   \n",
       "5   INFY     EQ   9-Apr-18         NaN         NaN         NaN    1106.55   \n",
       "6   INFY     EQ  10-Apr-18     1111.25     1112.00     1124.50        NaN   \n",
       "7   INFY     EQ  11-Apr-18     1113.40     1118.00     1131.50    1116.50   \n",
       "8   INFY     EQ  12-Apr-18         NaN     1129.45         NaN    1125.00   \n",
       "9   INFY     EQ  13-Apr-18     1162.60     1174.00     1185.90    1150.25   \n",
       "\n",
       "   Last Price  Close Price  Average Price  Total Traded Quantity  \\\n",
       "0     1136.70      1137.15        1135.86              4036351.0   \n",
       "1     1139.40      1140.45        1135.21              2038584.0   \n",
       "2         NaN          NaN            NaN                    NaN   \n",
       "3     1146.05      1147.55        1140.71              3881772.0   \n",
       "4     1127.55          NaN        1128.81              2968871.0   \n",
       "5     1111.45      1111.25            NaN              3601441.0   \n",
       "6         NaN          NaN        1115.77                    NaN   \n",
       "7     1124.50      1124.25        1124.78              4512787.0   \n",
       "8     1164.05      1162.60        1157.71              8522183.0   \n",
       "9     1168.00      1171.45        1172.37             10613519.0   \n",
       "\n",
       "   No. of Trades  \n",
       "0       142078.0  \n",
       "1       114034.0  \n",
       "2       137029.0  \n",
       "3            NaN  \n",
       "4       137277.0  \n",
       "5       171118.0  \n",
       "6            NaN  \n",
       "7       102586.0  \n",
       "8       216130.0  \n",
       "9            NaN  "
      ]
     },
     "execution_count": 15,
     "metadata": {},
     "output_type": "execute_result"
    }
   ],
   "source": [
    "# We have deliberately created 'missing values' in the same 'Infosys two weeks' data which you have used above.\n",
    "\n",
    "# Have a look at the entire dataframe\n",
    "\n",
    "import numpy as np\n",
    "import pandas as pd\n",
    "\n",
    "infy = pd.read_csv('../data_modules/infy_twoweeks_nan.csv')\n",
    "\n",
    "infy"
   ]
  },
  {
   "cell_type": "markdown",
   "metadata": {},
   "source": [
    "## DataFrame.isnull()\n",
    "\n",
    "This method returns a Boolean result.<br>\n",
    "<br>\n",
    "It will return 'True' if the data point has a 'NaN' (Not a Number) value. Missing data is represented by a NaN value. "
   ]
  },
  {
   "cell_type": "code",
   "execution_count": 16,
   "metadata": {},
   "outputs": [
    {
     "name": "stdout",
     "output_type": "stream",
     "text": [
      "0    False\n",
      "1    False\n",
      "2     True\n",
      "3    False\n",
      "4     True\n",
      "5    False\n",
      "6     True\n",
      "7    False\n",
      "8    False\n",
      "9    False\n",
      "Name: Close Price, dtype: bool\n"
     ]
    }
   ],
   "source": [
    "# Understanding the 'NaN' values of the 'Close Price' column in the infy dataframe\n",
    "\n",
    "print(infy['Close Price'].isnull())"
   ]
  },
  {
   "cell_type": "code",
   "execution_count": 17,
   "metadata": {},
   "outputs": [
    {
     "name": "stdout",
     "output_type": "stream",
     "text": [
      "   Symbol  Series   Date  Prev Close  Open Price  High Price  Low Price  \\\n",
      "0   False   False  False       False       False       False      False   \n",
      "1   False   False  False       False       False       False      False   \n",
      "2   False   False  False       False       False        True       True   \n",
      "3   False   False  False       False        True       False      False   \n",
      "4   False   False  False       False       False       False      False   \n",
      "5   False   False  False        True        True        True      False   \n",
      "6   False   False  False       False       False       False       True   \n",
      "7   False   False  False       False       False       False      False   \n",
      "8   False   False  False        True       False        True      False   \n",
      "9   False   False  False       False       False       False      False   \n",
      "\n",
      "   Last Price  Close Price  Average Price  Total Traded Quantity  \\\n",
      "0       False        False          False                  False   \n",
      "1       False        False          False                  False   \n",
      "2        True         True           True                   True   \n",
      "3       False        False          False                  False   \n",
      "4       False         True          False                  False   \n",
      "5       False        False           True                  False   \n",
      "6        True         True          False                   True   \n",
      "7       False        False          False                  False   \n",
      "8       False        False          False                  False   \n",
      "9       False        False          False                  False   \n",
      "\n",
      "   No. of Trades  \n",
      "0          False  \n",
      "1          False  \n",
      "2          False  \n",
      "3           True  \n",
      "4          False  \n",
      "5          False  \n",
      "6           True  \n",
      "7          False  \n",
      "8          False  \n",
      "9           True  \n"
     ]
    }
   ],
   "source": [
    "# Understanding the 'NaN' values of the entire dataframe\n",
    "\n",
    "print(infy.isnull())"
   ]
  },
  {
   "cell_type": "markdown",
   "metadata": {},
   "source": [
    "## DataFrame.notnull()\n",
    "\n",
    "This method returns a Boolean result.<br>\n",
    "<br>\n",
    "It will return 'True' if the data point is not a 'NaN' (Not a Number) value. Missing data is represented by a NaN value. "
   ]
  },
  {
   "cell_type": "code",
   "execution_count": 18,
   "metadata": {},
   "outputs": [
    {
     "name": "stdout",
     "output_type": "stream",
     "text": [
      "0     True\n",
      "1     True\n",
      "2    False\n",
      "3     True\n",
      "4    False\n",
      "5     True\n",
      "6    False\n",
      "7     True\n",
      "8     True\n",
      "9     True\n",
      "Name: Close Price, dtype: bool\n"
     ]
    }
   ],
   "source": [
    "print(infy['Close Price'].notnull())"
   ]
  },
  {
   "cell_type": "markdown",
   "metadata": {},
   "source": [
    "## DataFrame.fillna()\n",
    "\n",
    "The .fillna() method will fill all the 'NaN' values of the entire dataframe or of the requested columns with a scalar value of your choice. "
   ]
  },
  {
   "cell_type": "code",
   "execution_count": 19,
   "metadata": {},
   "outputs": [
    {
     "name": "stdout",
     "output_type": "stream",
     "text": [
      "  Symbol Series       Date  Prev Close  Open Price  High Price  Low Price  \\\n",
      "0   INFY     EQ   2-Apr-18     1131.80     1141.00     1149.55    1121.30   \n",
      "1   INFY     EQ   3-Apr-18     1137.15     1134.70     1143.55    1128.10   \n",
      "2   INFY     EQ   4-Apr-18     1140.45     1144.00     1000.00    1000.00   \n",
      "3   INFY     EQ   5-Apr-18     1124.20     1000.00     1151.30    1129.10   \n",
      "4   INFY     EQ   6-Apr-18     1147.55     1143.00     1146.00    1122.10   \n",
      "5   INFY     EQ   9-Apr-18     1000.00     1000.00     1000.00    1106.55   \n",
      "6   INFY     EQ  10-Apr-18     1111.25     1112.00     1124.50    1000.00   \n",
      "7   INFY     EQ  11-Apr-18     1113.40     1118.00     1131.50    1116.50   \n",
      "8   INFY     EQ  12-Apr-18     1000.00     1129.45     1000.00    1125.00   \n",
      "9   INFY     EQ  13-Apr-18     1162.60     1174.00     1185.90    1150.25   \n",
      "\n",
      "   Last Price  Close Price  Average Price  Total Traded Quantity  \\\n",
      "0     1136.70      1137.15        1135.86              4036351.0   \n",
      "1     1139.40      1140.45        1135.21              2038584.0   \n",
      "2     1000.00      1000.00        1000.00                 1000.0   \n",
      "3     1146.05      1147.55        1140.71              3881772.0   \n",
      "4     1127.55      1000.00        1128.81              2968871.0   \n",
      "5     1111.45      1111.25        1000.00              3601441.0   \n",
      "6     1000.00      1000.00        1115.77                 1000.0   \n",
      "7     1124.50      1124.25        1124.78              4512787.0   \n",
      "8     1164.05      1162.60        1157.71              8522183.0   \n",
      "9     1168.00      1171.45        1172.37             10613519.0   \n",
      "\n",
      "   No. of Trades  \n",
      "0       142078.0  \n",
      "1       114034.0  \n",
      "2       137029.0  \n",
      "3         1000.0  \n",
      "4       137277.0  \n",
      "5       171118.0  \n",
      "6         1000.0  \n",
      "7       102586.0  \n",
      "8       216130.0  \n",
      "9         1000.0  \n"
     ]
    }
   ],
   "source": [
    "# Replace NaN with a Scalar Value of 1000\n",
    "\n",
    "print(infy.fillna(1000))"
   ]
  },
  {
   "cell_type": "code",
   "execution_count": 20,
   "metadata": {},
   "outputs": [
    {
     "name": "stdout",
     "output_type": "stream",
     "text": [
      "0    1137.15\n",
      "1    1140.45\n",
      "2       5.00\n",
      "3    1147.55\n",
      "4       5.00\n",
      "5    1111.25\n",
      "6       5.00\n",
      "7    1124.25\n",
      "8    1162.60\n",
      "9    1171.45\n",
      "Name: Close Price, dtype: float64\n"
     ]
    }
   ],
   "source": [
    "# This will fill the 'Close Price' column with the scalar value of 5\n",
    "\n",
    "print(infy['Close Price'].fillna(5))"
   ]
  },
  {
   "cell_type": "code",
   "execution_count": 21,
   "metadata": {},
   "outputs": [
    {
     "name": "stdout",
     "output_type": "stream",
     "text": [
      "0    1137.15\n",
      "1    1140.45\n",
      "2        NaN\n",
      "3    1147.55\n",
      "4        NaN\n",
      "5    1111.25\n",
      "6        NaN\n",
      "7    1124.25\n",
      "8    1162.60\n",
      "9    1171.45\n",
      "Name: Close Price, dtype: float64\n",
      "0    1137.15\n",
      "1    1140.45\n",
      "2    1147.55\n",
      "3    1147.55\n",
      "4    1111.25\n",
      "5    1111.25\n",
      "6    1124.25\n",
      "7    1124.25\n",
      "8    1162.60\n",
      "9    1171.45\n",
      "Name: Close Price, dtype: float64\n"
     ]
    }
   ],
   "source": [
    "# If we want to do 'fillna()' using the 'backfill' method, then backfill will take the value from the next row and fill the NaN value with that same value\n",
    "\n",
    "print(infy['Close Price'])\n",
    "\n",
    "print(infy['Close Price'].fillna(method='backfill'))"
   ]
  },
  {
   "cell_type": "code",
   "execution_count": 22,
   "metadata": {},
   "outputs": [
    {
     "name": "stdout",
     "output_type": "stream",
     "text": [
      "  Symbol Series       Date  Prev Close  Open Price  High Price  Low Price  \\\n",
      "0   INFY     EQ   2-Apr-18     1131.80     1141.00     1149.55    1121.30   \n",
      "1   INFY     EQ   3-Apr-18     1137.15     1134.70     1143.55    1128.10   \n",
      "2   INFY     EQ   4-Apr-18     1140.45     1144.00     1151.30    1129.10   \n",
      "3   INFY     EQ   5-Apr-18     1124.20     1143.00     1151.30    1129.10   \n",
      "4   INFY     EQ   6-Apr-18     1147.55     1143.00     1146.00    1122.10   \n",
      "5   INFY     EQ   9-Apr-18     1111.25     1112.00     1124.50    1106.55   \n",
      "6   INFY     EQ  10-Apr-18     1111.25     1112.00     1124.50    1116.50   \n",
      "7   INFY     EQ  11-Apr-18     1113.40     1118.00     1131.50    1116.50   \n",
      "8   INFY     EQ  12-Apr-18     1162.60     1129.45     1185.90    1125.00   \n",
      "9   INFY     EQ  13-Apr-18     1162.60     1174.00     1185.90    1150.25   \n",
      "\n",
      "   Last Price  Close Price  Average Price  Total Traded Quantity  \\\n",
      "0     1136.70      1137.15        1135.86              4036351.0   \n",
      "1     1139.40      1140.45        1135.21              2038584.0   \n",
      "2     1146.05      1147.55        1140.71              3881772.0   \n",
      "3     1146.05      1147.55        1140.71              3881772.0   \n",
      "4     1127.55      1111.25        1128.81              2968871.0   \n",
      "5     1111.45      1111.25        1115.77              3601441.0   \n",
      "6     1124.50      1124.25        1115.77              4512787.0   \n",
      "7     1124.50      1124.25        1124.78              4512787.0   \n",
      "8     1164.05      1162.60        1157.71              8522183.0   \n",
      "9     1168.00      1171.45        1172.37             10613519.0   \n",
      "\n",
      "   No. of Trades  \n",
      "0       142078.0  \n",
      "1       114034.0  \n",
      "2       137029.0  \n",
      "3       137277.0  \n",
      "4       137277.0  \n",
      "5       171118.0  \n",
      "6       102586.0  \n",
      "7       102586.0  \n",
      "8       216130.0  \n",
      "9            NaN  \n"
     ]
    }
   ],
   "source": [
    "# It is even possible to do it for the entire dataframe with the 'backfill' values\n",
    "\n",
    "print(infy.fillna(method='backfill'))"
   ]
  },
  {
   "cell_type": "code",
   "execution_count": 23,
   "metadata": {},
   "outputs": [
    {
     "name": "stdout",
     "output_type": "stream",
     "text": [
      "0    1137.15\n",
      "1    1140.45\n",
      "2        NaN\n",
      "3    1147.55\n",
      "4        NaN\n",
      "5    1111.25\n",
      "6        NaN\n",
      "7    1124.25\n",
      "8    1162.60\n",
      "9    1171.45\n",
      "Name: Close Price, dtype: float64\n",
      "0    1137.15\n",
      "1    1140.45\n",
      "2    1147.55\n",
      "3    1147.55\n",
      "4    1111.25\n",
      "5    1111.25\n",
      "6    1124.25\n",
      "7    1124.25\n",
      "8    1162.60\n",
      "9    1171.45\n",
      "Name: Close Price, dtype: float64\n"
     ]
    }
   ],
   "source": [
    "# 'bfill' does the same thing as 'backfill'\n",
    "\n",
    "print(infy['Close Price'])\n",
    "\n",
    "print(infy['Close Price'].fillna(method='bfill'))"
   ]
  },
  {
   "cell_type": "code",
   "execution_count": 24,
   "metadata": {},
   "outputs": [
    {
     "name": "stdout",
     "output_type": "stream",
     "text": [
      "0    1137.15\n",
      "1    1140.45\n",
      "2        NaN\n",
      "3    1147.55\n",
      "4        NaN\n",
      "5    1111.25\n",
      "6        NaN\n",
      "7    1124.25\n",
      "8    1162.60\n",
      "9    1171.45\n",
      "Name: Close Price, dtype: float64\n",
      "0    1137.15\n",
      "1    1140.45\n",
      "2    1140.45\n",
      "3    1147.55\n",
      "4    1147.55\n",
      "5    1111.25\n",
      "6    1111.25\n",
      "7    1124.25\n",
      "8    1162.60\n",
      "9    1171.45\n",
      "Name: Close Price, dtype: float64\n"
     ]
    }
   ],
   "source": [
    "# If we want to do 'fillna()' using the 'ffill' method, then ffill will take the value from the previous row and fill the NaN value with that same value\n",
    "\n",
    "print(infy['Close Price'])\n",
    "\n",
    "print(infy['Close Price'].fillna(method='ffill'))"
   ]
  },
  {
   "cell_type": "code",
   "execution_count": 25,
   "metadata": {},
   "outputs": [
    {
     "name": "stdout",
     "output_type": "stream",
     "text": [
      "0    1137.15\n",
      "1    1140.45\n",
      "2        NaN\n",
      "3    1147.55\n",
      "4        NaN\n",
      "5    1111.25\n",
      "6        NaN\n",
      "7    1124.25\n",
      "8    1162.60\n",
      "9    1171.45\n",
      "Name: Close Price, dtype: float64\n",
      "0    1137.15\n",
      "1    1140.45\n",
      "2    1140.45\n",
      "3    1147.55\n",
      "4    1147.55\n",
      "5    1111.25\n",
      "6    1111.25\n",
      "7    1124.25\n",
      "8    1162.60\n",
      "9    1171.45\n",
      "Name: Close Price, dtype: float64\n"
     ]
    }
   ],
   "source": [
    "# 'pad' does the same thing as 'ffill'\n",
    "\n",
    "print(infy['Close Price'])\n",
    "\n",
    "print(infy['Close Price'].fillna(method='pad'))"
   ]
  },
  {
   "cell_type": "markdown",
   "metadata": {},
   "source": [
    "## DataFrame.dropna()\n",
    "\n",
    "This method will drop the entire 'row' or 'column' which has even a single 'NaN' value present, as per the request."
   ]
  },
  {
   "cell_type": "code",
   "execution_count": 26,
   "metadata": {},
   "outputs": [
    {
     "name": "stdout",
     "output_type": "stream",
     "text": [
      "  Symbol Series       Date  Prev Close  Open Price  High Price  Low Price  \\\n",
      "0   INFY     EQ   2-Apr-18     1131.80      1141.0     1149.55     1121.3   \n",
      "1   INFY     EQ   3-Apr-18     1137.15      1134.7     1143.55     1128.1   \n",
      "7   INFY     EQ  11-Apr-18     1113.40      1118.0     1131.50     1116.5   \n",
      "\n",
      "   Last Price  Close Price  Average Price  Total Traded Quantity  \\\n",
      "0      1136.7      1137.15        1135.86              4036351.0   \n",
      "1      1139.4      1140.45        1135.21              2038584.0   \n",
      "7      1124.5      1124.25        1124.78              4512787.0   \n",
      "\n",
      "   No. of Trades  \n",
      "0       142078.0  \n",
      "1       114034.0  \n",
      "7       102586.0  \n"
     ]
    }
   ],
   "source": [
    "# By default, dropna() will exclude or drop all the rows which have even one NaN value in it\n",
    "\n",
    "print(infy.dropna())"
   ]
  },
  {
   "cell_type": "code",
   "execution_count": 27,
   "metadata": {},
   "outputs": [
    {
     "name": "stdout",
     "output_type": "stream",
     "text": [
      "  Symbol Series       Date\n",
      "0   INFY     EQ   2-Apr-18\n",
      "1   INFY     EQ   3-Apr-18\n",
      "2   INFY     EQ   4-Apr-18\n",
      "3   INFY     EQ   5-Apr-18\n",
      "4   INFY     EQ   6-Apr-18\n",
      "5   INFY     EQ   9-Apr-18\n",
      "6   INFY     EQ  10-Apr-18\n",
      "7   INFY     EQ  11-Apr-18\n",
      "8   INFY     EQ  12-Apr-18\n",
      "9   INFY     EQ  13-Apr-18\n"
     ]
    }
   ],
   "source": [
    "# If we specify the axis = 1, it will exclude or drop all the columns which has even one NaN value in it\n",
    "\n",
    "print(infy.dropna(axis=1))"
   ]
  },
  {
   "cell_type": "markdown",
   "metadata": {},
   "source": [
    "## Replacing values\n",
    "\n",
    "Replacing helps us to select any data point in the entire dataframe and replace it with the value of our choice."
   ]
  },
  {
   "cell_type": "code",
   "execution_count": 28,
   "metadata": {},
   "outputs": [
    {
     "name": "stdout",
     "output_type": "stream",
     "text": [
      "    one   two\n",
      "0    10  1000\n",
      "1    20     0\n",
      "2    30    30\n",
      "3    40    40\n",
      "4    50    50\n",
      "5  2000    60\n"
     ]
    }
   ],
   "source": [
    "import pandas as pd\n",
    "import numpy as np\n",
    "\n",
    "# Let us do this a bit differently. We will create a dataframe using the 'pd.DataFrame' constructor\n",
    "\n",
    "df = pd.DataFrame({'one': [10, 20, 30, 40, 50, 2000],\n",
    "                   'two': [1000, 0, 30, 40, 50, 60]})\n",
    "\n",
    "print(df)"
   ]
  },
  {
   "cell_type": "code",
   "execution_count": 29,
   "metadata": {},
   "outputs": [
    {
     "name": "stdout",
     "output_type": "stream",
     "text": [
      "   one  two\n",
      "0   10   10\n",
      "1   20    0\n",
      "2   30   30\n",
      "3   40   40\n",
      "4   50   50\n",
      "5   60   60\n"
     ]
    }
   ],
   "source": [
    "# .replace() will first find the value which you want to replace and replace it the value you have given.\n",
    "\n",
    "# Example: In the below '1000' is the value it will find and replace it with '10'\n",
    "\n",
    "print(df.replace({1000: 10, 2000: 60}))"
   ]
  },
  {
   "cell_type": "code",
   "execution_count": 30,
   "metadata": {},
   "outputs": [
    {
     "name": "stdout",
     "output_type": "stream",
     "text": [
      "0    1137.15\n",
      "1    1140.45\n",
      "2        NaN\n",
      "3    1147.55\n",
      "4        NaN\n",
      "5    1111.25\n",
      "6        NaN\n",
      "7    1124.25\n",
      "8    1162.60\n",
      "9    1171.45\n",
      "Name: Close Price, dtype: float64\n"
     ]
    }
   ],
   "source": [
    "print(infy['Close Price'])"
   ]
  },
  {
   "cell_type": "code",
   "execution_count": 31,
   "metadata": {},
   "outputs": [
    {
     "name": "stdout",
     "output_type": "stream",
     "text": [
      "0    1137.15\n",
      "1    1140.45\n",
      "2        NaN\n",
      "3    3000.00\n",
      "4        NaN\n",
      "5    1111.25\n",
      "6        NaN\n",
      "7    1124.25\n",
      "8    1162.60\n",
      "9    1171.45\n",
      "Name: Close Price, dtype: float64\n"
     ]
    }
   ],
   "source": [
    "# This should be self explanatory\n",
    "\n",
    "print(infy['Close Price'].replace({1147.55: 3000}))"
   ]
  },
  {
   "cell_type": "code",
   "execution_count": 32,
   "metadata": {},
   "outputs": [
    {
     "ename": "NameError",
     "evalue": "name 'NaN' is not defined",
     "output_type": "error",
     "traceback": [
      "\u001b[1;31m---------------------------------------------------------------------------\u001b[0m",
      "\u001b[1;31mNameError\u001b[0m                                 Traceback (most recent call last)",
      "\u001b[1;32mC:\\Users\\QUANTI~1\\AppData\\Local\\Temp/ipykernel_2736/2807709596.py\u001b[0m in \u001b[0;36m<module>\u001b[1;34m\u001b[0m\n\u001b[0;32m      1\u001b[0m \u001b[1;31m# We cannot replace NaN values, since they are not defined.\u001b[0m\u001b[1;33m\u001b[0m\u001b[1;33m\u001b[0m\u001b[0m\n\u001b[1;32m----> 2\u001b[1;33m \u001b[0mprint\u001b[0m\u001b[1;33m(\u001b[0m\u001b[0minfy\u001b[0m\u001b[1;33m[\u001b[0m\u001b[1;34m'Close Price'\u001b[0m\u001b[1;33m]\u001b[0m\u001b[1;33m.\u001b[0m\u001b[0mreplace\u001b[0m\u001b[1;33m(\u001b[0m\u001b[1;33m{\u001b[0m\u001b[0mNaN\u001b[0m\u001b[1;33m:\u001b[0m \u001b[1;36m1000000\u001b[0m\u001b[1;33m}\u001b[0m\u001b[1;33m)\u001b[0m\u001b[1;33m)\u001b[0m\u001b[1;33m\u001b[0m\u001b[1;33m\u001b[0m\u001b[0m\n\u001b[0m",
      "\u001b[1;31mNameError\u001b[0m: name 'NaN' is not defined"
     ]
    }
   ],
   "source": [
    "# We cannot replace NaN values, since they are not defined.\n",
    "print(infy['Close Price'].replace({NaN: 1000000}))"
   ]
  },
  {
   "cell_type": "markdown",
   "metadata": {},
   "source": [
    "## Reindexing \n",
    "\n",
    "Reindexing changes the row labels and column labels of a dataframe.<br> \n",
    "<br> \n",
    "To reindex means to confirm the data to match a given set of labels along a particular axis."
   ]
  },
  {
   "cell_type": "code",
   "execution_count": null,
   "metadata": {},
   "outputs": [],
   "source": [
    "import pandas as pd\n",
    "import numpy as np\n",
    "\n",
    "print(infy)"
   ]
  },
  {
   "cell_type": "code",
   "execution_count": null,
   "metadata": {},
   "outputs": [],
   "source": [
    "# Here we have changed the shape of dataframe by using reindexing\n",
    "\n",
    "infy_reindexed = infy.reindex(index=[0, 2, 4, 6, 8], columns=[\n",
    "                              'Open Price', 'High Price', 'Low Price', 'Close Price'])\n",
    "\n",
    "print(infy_reindexed)"
   ]
  },
  {
   "cell_type": "markdown",
   "metadata": {},
   "source": [
    "In the upcoming Jupyter Notebook, we will understand the <B>Grouping and Reshaping</B> in Python. This would be an optional read.<br><br>"
   ]
  }
 ],
 "metadata": {
  "kernelspec": {
   "display_name": "Python 3 (ipykernel)",
   "language": "python",
   "name": "python3"
  },
  "language_info": {
   "codemirror_mode": {
    "name": "ipython",
    "version": 3
   },
   "file_extension": ".py",
   "mimetype": "text/x-python",
   "name": "python",
   "nbconvert_exporter": "python",
   "pygments_lexer": "ipython3",
   "version": "3.9.7"
  }
 },
 "nbformat": 4,
 "nbformat_minor": 2
}
