{
 "cells": [
  {
   "cell_type": "markdown",
   "metadata": {},
   "source": [
    "# Notebook Instructions\n",
    "\n",
    "1. All the <u>code and data files</u> used in this course are available in the downloadable unit of the <u>last section of this course</u>.\n",
    "2. You can run the notebook document sequentially (one cell at a time) by pressing **shift + enter**. \n",
    "3. While a cell is running, a [*] is shown on the left. After the cell is run, the output will appear on the next line.\n",
    "\n",
    "This course is based on specific versions of python packages. You can find the details of the packages in <a href='https://quantra.quantinsti.com/quantra-notebook' target=\"_blank\" >this manual</a>."
   ]
  },
  {
   "cell_type": "markdown",
   "metadata": {},
   "source": [
    "## Pandas 'groupby'\n",
    "\n",
    "Any groupby operation involves one of the following operations on the original dataframe/object. They are:\n",
    "<br>\n",
    "1. <b>Splitting</b> the data into groups based on some criteria.<br>\n",
    "<br>\n",
    "2. <b>Applying</b> a function to each group separately.<br>\n",
    "<br>\n",
    "3. <b>Combining</b> the results into a single dataframe.<br>\n",
    "<br>\n",
    "Splitting the data is pretty straight forward. What adds value to this split is the 'Apply' step. This makes 'Groupby' function interesting. In the apply step, you may wish to do one of the following: <br>\n",
    "<br>\n",
    "a. Aggregation − Computing a summary statistic. Eg: Compute group sums or means.<br>\n",
    "<br>\n",
    "b. Transformation − performs some group-specific operation. Eg: Standardizing data (computing z-score) within the group.<br> \n",
    "<br>\n",
    "c. Filtration − discarding the data with some condition.<br> \n",
    "<br>\n",
    "Let us now create a DataFrame object and perform all the operations on it."
   ]
  },
  {
   "cell_type": "code",
   "execution_count": 1,
   "metadata": {},
   "outputs": [
    {
     "data": {
      "text/html": [
       "<div>\n",
       "<style scoped>\n",
       "    .dataframe tbody tr th:only-of-type {\n",
       "        vertical-align: middle;\n",
       "    }\n",
       "\n",
       "    .dataframe tbody tr th {\n",
       "        vertical-align: top;\n",
       "    }\n",
       "\n",
       "    .dataframe thead th {\n",
       "        text-align: right;\n",
       "    }\n",
       "</style>\n",
       "<table border=\"1\" class=\"dataframe\">\n",
       "  <thead>\n",
       "    <tr style=\"text-align: right;\">\n",
       "      <th></th>\n",
       "      <th>Sector</th>\n",
       "      <th>Company</th>\n",
       "      <th>MarketCap</th>\n",
       "      <th>Share Price</th>\n",
       "      <th>Amount Invested</th>\n",
       "    </tr>\n",
       "  </thead>\n",
       "  <tbody>\n",
       "    <tr>\n",
       "      <th>0</th>\n",
       "      <td>IT</td>\n",
       "      <td>Infosys</td>\n",
       "      <td>Large Cap</td>\n",
       "      <td>1120</td>\n",
       "      <td>24000</td>\n",
       "    </tr>\n",
       "    <tr>\n",
       "      <th>1</th>\n",
       "      <td>FMCG</td>\n",
       "      <td>Dabur</td>\n",
       "      <td>Large Cap</td>\n",
       "      <td>341</td>\n",
       "      <td>16000</td>\n",
       "    </tr>\n",
       "    <tr>\n",
       "      <th>2</th>\n",
       "      <td>Finance</td>\n",
       "      <td>DHFL</td>\n",
       "      <td>Mid Cap</td>\n",
       "      <td>610</td>\n",
       "      <td>50000</td>\n",
       "    </tr>\n",
       "    <tr>\n",
       "      <th>3</th>\n",
       "      <td>Pharma</td>\n",
       "      <td>Divis Lab</td>\n",
       "      <td>Mid Cap</td>\n",
       "      <td>1123</td>\n",
       "      <td>23000</td>\n",
       "    </tr>\n",
       "    <tr>\n",
       "      <th>4</th>\n",
       "      <td>Pharma</td>\n",
       "      <td>Lupin</td>\n",
       "      <td>Mid Cap</td>\n",
       "      <td>741</td>\n",
       "      <td>45000</td>\n",
       "    </tr>\n",
       "    <tr>\n",
       "      <th>5</th>\n",
       "      <td>FMCG</td>\n",
       "      <td>Ruchira Papers</td>\n",
       "      <td>Small Cap</td>\n",
       "      <td>185</td>\n",
       "      <td>12000</td>\n",
       "    </tr>\n",
       "    <tr>\n",
       "      <th>6</th>\n",
       "      <td>FMCG</td>\n",
       "      <td>Britianna</td>\n",
       "      <td>Mid Cap</td>\n",
       "      <td>5351</td>\n",
       "      <td>52000</td>\n",
       "    </tr>\n",
       "    <tr>\n",
       "      <th>7</th>\n",
       "      <td>IT</td>\n",
       "      <td>Persistent Systems</td>\n",
       "      <td>Small Cap</td>\n",
       "      <td>720</td>\n",
       "      <td>18000</td>\n",
       "    </tr>\n",
       "    <tr>\n",
       "      <th>8</th>\n",
       "      <td>Finance</td>\n",
       "      <td>Bajaj Finance</td>\n",
       "      <td>Large Cap</td>\n",
       "      <td>1937</td>\n",
       "      <td>5000</td>\n",
       "    </tr>\n",
       "    <tr>\n",
       "      <th>9</th>\n",
       "      <td>Real Estate</td>\n",
       "      <td>DLF</td>\n",
       "      <td>Mid Cap</td>\n",
       "      <td>217</td>\n",
       "      <td>3500</td>\n",
       "    </tr>\n",
       "  </tbody>\n",
       "</table>\n",
       "</div>"
      ],
      "text/plain": [
       "        Sector             Company  MarketCap  Share Price  Amount Invested\n",
       "0           IT             Infosys  Large Cap         1120            24000\n",
       "1         FMCG               Dabur  Large Cap          341            16000\n",
       "2      Finance                DHFL    Mid Cap          610            50000\n",
       "3       Pharma           Divis Lab    Mid Cap         1123            23000\n",
       "4       Pharma               Lupin    Mid Cap          741            45000\n",
       "5         FMCG      Ruchira Papers  Small Cap          185            12000\n",
       "6         FMCG           Britianna    Mid Cap         5351            52000\n",
       "7           IT  Persistent Systems  Small Cap          720            18000\n",
       "8      Finance       Bajaj Finance  Large Cap         1937             5000\n",
       "9  Real Estate                 DLF    Mid Cap          217             3500"
      ]
     },
     "execution_count": 1,
     "metadata": {},
     "output_type": "execute_result"
    }
   ],
   "source": [
    "# Creating a dataframe\n",
    "\n",
    "import pandas as pd\n",
    "\n",
    "my_portfolio = {'Sector': ['IT', 'FMCG', 'Finance', 'Pharma', 'Pharma',\n",
    "                           'FMCG', 'FMCG', 'IT', 'Finance', 'Real Estate'],\n",
    "\n",
    "                'Company':   ['Infosys', 'Dabur', 'DHFL', 'Divis Lab', 'Lupin',\n",
    "                              'Ruchira Papers', 'Britianna', 'Persistent Systems', 'Bajaj Finance', 'DLF'],\n",
    "\n",
    "                'MarketCap': ['Large Cap', 'Large Cap', 'Mid Cap', 'Mid Cap', 'Mid Cap',\n",
    "                              'Small Cap', 'Mid Cap', 'Small Cap', 'Large Cap', 'Mid Cap'],\n",
    "\n",
    "                'Share Price': [1120, 341, 610, 1123, 741, 185, 5351, 720, 1937, 217],\n",
    "\n",
    "                'Amount Invested': [24000, 16000, 50000, 23000, 45000, 12000, 52000, 18000, 5000, 3500]}\n",
    "\n",
    "mp = pd.DataFrame(my_portfolio)\n",
    "\n",
    "mp"
   ]
  },
  {
   "cell_type": "markdown",
   "metadata": {},
   "source": [
    "### View groups"
   ]
  },
  {
   "cell_type": "code",
   "execution_count": 2,
   "metadata": {},
   "outputs": [
    {
     "name": "stdout",
     "output_type": "stream",
     "text": [
      "{'Large Cap': Int64Index([0, 1, 8], dtype='int64'), 'Mid Cap': Int64Index([2, 3, 4, 6, 9], dtype='int64'), 'Small Cap': Int64Index([5, 7], dtype='int64')}\n"
     ]
    }
   ],
   "source": [
    "print(mp.groupby('MarketCap').groups)"
   ]
  },
  {
   "cell_type": "markdown",
   "metadata": {},
   "source": [
    "There are 3 Groups formed, if we group it by <b>'Market Cap'</b>. They are:<br>\n",
    "<br>\n",
    "Group 1: 'Large Cap' (3 companies at index 0,1,8)<br>\n",
    "Group 2: 'Mid Cap' (5 companies at index 2,3,4,6,9)<br>\n",
    "Group 3: 'Small Cap' (2 companies at index 5,7)<br>"
   ]
  },
  {
   "cell_type": "code",
   "execution_count": 3,
   "metadata": {},
   "outputs": [
    {
     "name": "stdout",
     "output_type": "stream",
     "text": [
      "{'FMCG': Int64Index([1, 5, 6], dtype='int64'), 'Finance': Int64Index([2, 8], dtype='int64'), 'IT': Int64Index([0, 7], dtype='int64'), 'Pharma': Int64Index([3, 4], dtype='int64'), 'Real Estate': Int64Index([9], dtype='int64')}\n"
     ]
    }
   ],
   "source": [
    "# Understand this grouping\n",
    "\n",
    "print(mp.groupby('Sector').groups)"
   ]
  },
  {
   "cell_type": "markdown",
   "metadata": {},
   "source": [
    "There are 5 Groups formed, if we group it by <b>'Sector'</b>. They are:<br>\n",
    "<br>\n",
    "Group 1: 'FMCG' (3 companies at index 1,5,6)<br>\n",
    "Group 2: 'IT' (2 companies at index 0,7)<br>\n",
    "Group 3: 'Pharma' (2 companies at index 3,4)<br>\n",
    "Group 4: 'Finance' (2 companies at index 2,8)<br>\n",
    "Group 5: 'Real Estate' (1 company at index 9)<br>"
   ]
  },
  {
   "cell_type": "code",
   "execution_count": 4,
   "metadata": {},
   "outputs": [
    {
     "name": "stdout",
     "output_type": "stream",
     "text": [
      "{('Large Cap', 'FMCG'): Int64Index([1], dtype='int64'), ('Large Cap', 'Finance'): Int64Index([8], dtype='int64'), ('Large Cap', 'IT'): Int64Index([0], dtype='int64'), ('Mid Cap', 'FMCG'): Int64Index([6], dtype='int64'), ('Mid Cap', 'Finance'): Int64Index([2], dtype='int64'), ('Mid Cap', 'Pharma'): Int64Index([3, 4], dtype='int64'), ('Mid Cap', 'Real Estate'): Int64Index([9], dtype='int64'), ('Small Cap', 'FMCG'): Int64Index([5], dtype='int64'), ('Small Cap', 'IT'): Int64Index([7], dtype='int64')}\n"
     ]
    }
   ],
   "source": [
    "# Groupby with multiple columns\n",
    "\n",
    "print(mp.groupby(['MarketCap', 'Sector']).groups)"
   ]
  },
  {
   "cell_type": "markdown",
   "metadata": {},
   "source": [
    "There are 8 Groups formed, if we group it by <b>'Sector'</b> and <b>'MarketCap'</b>. They are:<br>\n",
    "<br>\n",
    "Group 1: 'Large Cap, FMCG' (1 company at index 1)<br>\n",
    "Group 2: 'Mid Cap, FMCG' (1 company at index 6)<br>\n",
    "Group 3: 'Large Cap, IT' (1 company at index 0)<br>\n",
    "Group 4: 'Small Cap, FMCG' (1 company at index 5)<br>\n",
    "Group 5: 'Mid Cap, Real Estate' (1 company at index 9)<br>\n",
    "Group 6: 'Small Cap, IT' (1 company at index 7)<br>\n",
    "Group 7: 'Mid Cap, Pharma' (2 companies at index 3,4)<br>\n",
    "Group 8: 'Mid Cap, Finance' (1 company at index 2)<br>"
   ]
  },
  {
   "cell_type": "markdown",
   "metadata": {},
   "source": [
    "### Iterating through groups"
   ]
  },
  {
   "cell_type": "code",
   "execution_count": 5,
   "metadata": {},
   "outputs": [
    {
     "name": "stdout",
     "output_type": "stream",
     "text": [
      "FMCG\n",
      "  Sector         Company  MarketCap  Share Price  Amount Invested\n",
      "1   FMCG           Dabur  Large Cap          341            16000\n",
      "5   FMCG  Ruchira Papers  Small Cap          185            12000\n",
      "6   FMCG       Britianna    Mid Cap         5351            52000\n",
      "Finance\n",
      "    Sector        Company  MarketCap  Share Price  Amount Invested\n",
      "2  Finance           DHFL    Mid Cap          610            50000\n",
      "8  Finance  Bajaj Finance  Large Cap         1937             5000\n",
      "IT\n",
      "  Sector             Company  MarketCap  Share Price  Amount Invested\n",
      "0     IT             Infosys  Large Cap         1120            24000\n",
      "7     IT  Persistent Systems  Small Cap          720            18000\n",
      "Pharma\n",
      "   Sector    Company MarketCap  Share Price  Amount Invested\n",
      "3  Pharma  Divis Lab   Mid Cap         1123            23000\n",
      "4  Pharma      Lupin   Mid Cap          741            45000\n",
      "Real Estate\n",
      "        Sector Company MarketCap  Share Price  Amount Invested\n",
      "9  Real Estate     DLF   Mid Cap          217             3500\n"
     ]
    }
   ],
   "source": [
    "# A better way to visualise\n",
    "\n",
    "grouped = mp.groupby('Sector')\n",
    "\n",
    "for name, group in grouped:\n",
    "    print(name)\n",
    "    print(group)"
   ]
  },
  {
   "cell_type": "code",
   "execution_count": 6,
   "metadata": {},
   "outputs": [
    {
     "name": "stdout",
     "output_type": "stream",
     "text": [
      "Large Cap\n",
      "    Sector        Company  MarketCap  Share Price  Amount Invested\n",
      "0       IT        Infosys  Large Cap         1120            24000\n",
      "1     FMCG          Dabur  Large Cap          341            16000\n",
      "8  Finance  Bajaj Finance  Large Cap         1937             5000\n",
      "Mid Cap\n",
      "        Sector    Company MarketCap  Share Price  Amount Invested\n",
      "2      Finance       DHFL   Mid Cap          610            50000\n",
      "3       Pharma  Divis Lab   Mid Cap         1123            23000\n",
      "4       Pharma      Lupin   Mid Cap          741            45000\n",
      "6         FMCG  Britianna   Mid Cap         5351            52000\n",
      "9  Real Estate        DLF   Mid Cap          217             3500\n",
      "Small Cap\n",
      "  Sector             Company  MarketCap  Share Price  Amount Invested\n",
      "5   FMCG      Ruchira Papers  Small Cap          185            12000\n",
      "7     IT  Persistent Systems  Small Cap          720            18000\n"
     ]
    }
   ],
   "source": [
    "# Just so that you feel comfortable, go through this line of code too\n",
    "\n",
    "grouped = mp.groupby('MarketCap')\n",
    "\n",
    "for name, group in grouped:  # We will learn 'for' loop in further sections. It is usually used for iterations\n",
    "    print(name)\n",
    "    print(group)"
   ]
  },
  {
   "cell_type": "markdown",
   "metadata": {},
   "source": [
    "### Select a group"
   ]
  },
  {
   "cell_type": "code",
   "execution_count": 7,
   "metadata": {},
   "outputs": [
    {
     "name": "stdout",
     "output_type": "stream",
     "text": [
      "        Sector    Company MarketCap  Share Price  Amount Invested\n",
      "2      Finance       DHFL   Mid Cap          610            50000\n",
      "3       Pharma  Divis Lab   Mid Cap         1123            23000\n",
      "4       Pharma      Lupin   Mid Cap          741            45000\n",
      "6         FMCG  Britianna   Mid Cap         5351            52000\n",
      "9  Real Estate        DLF   Mid Cap          217             3500\n"
     ]
    }
   ],
   "source": [
    "import pandas as pd\n",
    "\n",
    "my_portfolio = {'Sector': ['IT', 'FMCG', 'Finance', 'Pharma', 'Pharma',\n",
    "                           'FMCG', 'FMCG', 'IT', 'Finance', 'Real Estate'],\n",
    "\n",
    "                'Company':   ['Infosys', 'Dabur', 'DHFL', 'Divis Lab', 'Lupin',\n",
    "                              'Ruchira Papers', 'Britianna', 'Persistent Systems', 'Bajaj Finance', 'DLF'],\n",
    "\n",
    "                'MarketCap': ['Large Cap', 'Large Cap', 'Mid Cap', 'Mid Cap', 'Mid Cap',\n",
    "                              'Small Cap', 'Mid Cap', 'Small Cap', 'Large Cap', 'Mid Cap'],\n",
    "\n",
    "                'Share Price': [1120, 341, 610, 1123, 741, 185, 5351, 720, 1937, 217],\n",
    "\n",
    "                'Amount Invested': [24000, 16000, 50000, 23000, 45000, 12000, 52000, 18000, 5000, 3500]}\n",
    "\n",
    "mp = pd.DataFrame(my_portfolio)\n",
    "\n",
    "grouped = mp.groupby('MarketCap')\n",
    "\n",
    "print(grouped.get_group('Mid Cap'))"
   ]
  },
  {
   "cell_type": "markdown",
   "metadata": {},
   "source": [
    "### Aggregations"
   ]
  },
  {
   "cell_type": "code",
   "execution_count": 8,
   "metadata": {},
   "outputs": [
    {
     "name": "stdout",
     "output_type": "stream",
     "text": [
      "MarketCap\n",
      "Large Cap    15000\n",
      "Mid Cap      34700\n",
      "Small Cap    15000\n",
      "Name: Amount Invested, dtype: int64\n"
     ]
    }
   ],
   "source": [
    "import numpy as np\n",
    "\n",
    "grouped = mp.groupby('MarketCap')\n",
    "\n",
    "print(grouped['Amount Invested'].agg(np.mean))"
   ]
  },
  {
   "cell_type": "markdown",
   "metadata": {},
   "source": [
    "What does this mean?<br>\n",
    "<br>\n",
    "This means that on an average, we have invested Rs. 15000 per script in Large Cap, Rs. 34700 per script in Mid Cap and Rs. 15000 per script in Small Cap"
   ]
  },
  {
   "cell_type": "code",
   "execution_count": 9,
   "metadata": {},
   "outputs": [
    {
     "name": "stdout",
     "output_type": "stream",
     "text": [
      "           Sector  Company  Share Price  Amount Invested\n",
      "MarketCap                                               \n",
      "Large Cap       3        3            3                3\n",
      "Mid Cap         5        5            5                5\n",
      "Small Cap       2        2            2                2\n"
     ]
    }
   ],
   "source": [
    "grouped = mp.groupby('MarketCap')\n",
    "\n",
    "print(grouped.agg(np.size))"
   ]
  },
  {
   "cell_type": "markdown",
   "metadata": {},
   "source": [
    "What does this mean? <br>\n",
    "\n",
    "This just shows the size of the group."
   ]
  },
  {
   "cell_type": "code",
   "execution_count": 10,
   "metadata": {},
   "outputs": [
    {
     "name": "stdout",
     "output_type": "stream",
     "text": [
      "              sum   mean\n",
      "MarketCap               \n",
      "Large Cap   45000  15000\n",
      "Mid Cap    173500  34700\n",
      "Small Cap   30000  15000\n"
     ]
    }
   ],
   "source": [
    "# Applying multiple aggregation functions at once\n",
    "\n",
    "grouped = mp.groupby('MarketCap')\n",
    "\n",
    "print(grouped['Amount Invested'].agg([np.sum, np.mean]))"
   ]
  },
  {
   "cell_type": "markdown",
   "metadata": {},
   "source": [
    "What does this mean? <br>\n",
    "<br>\n",
    "This means that the 'total amount' invested in a particular sector is the 'sum' and 'average amount per script' invested in that sector is the 'mean' value."
   ]
  },
  {
   "cell_type": "markdown",
   "metadata": {},
   "source": [
    "### Transformations"
   ]
  },
  {
   "cell_type": "code",
   "execution_count": 11,
   "metadata": {},
   "outputs": [
    {
     "name": "stdout",
     "output_type": "stream",
     "text": [
      "        Sector             Company  MarketCap  Share Price  Amount Invested\n",
      "0           IT             Infosys  Large Cap         1120            24000\n",
      "1         FMCG               Dabur  Large Cap          341            16000\n",
      "2      Finance                DHFL    Mid Cap          610            50000\n",
      "3       Pharma           Divis Lab    Mid Cap         1123            23000\n",
      "4       Pharma               Lupin    Mid Cap          741            45000\n",
      "5         FMCG      Ruchira Papers  Small Cap          185            12000\n",
      "6         FMCG           Britianna    Mid Cap         5351            52000\n",
      "7           IT  Persistent Systems  Small Cap          720            18000\n",
      "8      Finance       Bajaj Finance  Large Cap         1937             5000\n",
      "9  Real Estate                 DLF    Mid Cap          217             3500\n",
      "   Share Price  Amount Invested\n",
      "0    -0.015872         0.943456\n",
      "1    -0.991970         0.104828\n",
      "2    -0.471596         0.731522\n",
      "3    -0.229280        -0.559399\n",
      "4    -0.409718         0.492462\n",
      "5    -0.707107        -0.707107\n",
      "6     1.767825         0.827145\n",
      "7     0.707107         0.707107\n",
      "8     1.007841        -1.048285\n",
      "9    -0.657231        -1.491731\n"
     ]
    }
   ],
   "source": [
    "import pandas as pd\n",
    "\n",
    "my_portfolio = {'Sector': ['IT', 'FMCG', 'Finance', 'Pharma', 'Pharma',\n",
    "                           'FMCG', 'FMCG', 'IT', 'Finance', 'Real Estate'],\n",
    "\n",
    "                'Company':   ['Infosys', 'Dabur', 'DHFL', 'Divis Lab', 'Lupin',\n",
    "                              'Ruchira Papers', 'Britianna', 'Persistent Systems', 'Bajaj Finance', 'DLF'],\n",
    "\n",
    "                'MarketCap': ['Large Cap', 'Large Cap', 'Mid Cap', 'Mid Cap', 'Mid Cap',\n",
    "                              'Small Cap', 'Mid Cap', 'Small Cap', 'Large Cap', 'Mid Cap'],\n",
    "\n",
    "                'Share Price': [1120, 341, 610, 1123, 741, 185, 5351, 720, 1937, 217],\n",
    "\n",
    "                'Amount Invested': [24000, 16000, 50000, 23000, 45000, 12000, 52000, 18000, 5000, 3500]}\n",
    "\n",
    "mp = pd.DataFrame(my_portfolio)\n",
    "\n",
    "print(mp)\n",
    "\n",
    "grouped = mp.groupby('MarketCap')\n",
    "\n",
    "\n",
    "def z_score(x): return (x - x.mean()) / x.std()\n",
    "\n",
    "\n",
    "print(grouped.transform(z_score))"
   ]
  },
  {
   "cell_type": "markdown",
   "metadata": {},
   "source": [
    "### Filteration"
   ]
  },
  {
   "cell_type": "code",
   "execution_count": 12,
   "metadata": {},
   "outputs": [
    {
     "name": "stdout",
     "output_type": "stream",
     "text": [
      "        Sector        Company  MarketCap  Share Price  Amount Invested\n",
      "0           IT        Infosys  Large Cap         1120            24000\n",
      "1         FMCG          Dabur  Large Cap          341            16000\n",
      "2      Finance           DHFL    Mid Cap          610            50000\n",
      "3       Pharma      Divis Lab    Mid Cap         1123            23000\n",
      "4       Pharma          Lupin    Mid Cap          741            45000\n",
      "6         FMCG      Britianna    Mid Cap         5351            52000\n",
      "8      Finance  Bajaj Finance  Large Cap         1937             5000\n",
      "9  Real Estate            DLF    Mid Cap          217             3500\n"
     ]
    }
   ],
   "source": [
    "print(mp.groupby('MarketCap').filter(lambda x: len(x) >= 3))"
   ]
  },
  {
   "cell_type": "markdown",
   "metadata": {},
   "source": [
    "What does this mean?<br>\n",
    "<br>\n",
    "It will filter out the Groups that have less than 3 companies in that particular group. "
   ]
  },
  {
   "cell_type": "markdown",
   "metadata": {},
   "source": [
    "### Merging/Joining "
   ]
  },
  {
   "cell_type": "code",
   "execution_count": 13,
   "metadata": {},
   "outputs": [],
   "source": [
    "import pandas as pd\n",
    "\n",
    "\n",
    "left_df = pd.DataFrame({\n",
    "    'id': [1, 2, 3, 4, 5],\n",
    "    'Company': ['Infosys', 'SBI', 'Asian Paints', 'Maruti', 'Sun Pharma'],\n",
    "    'Sector': ['IT', 'Banks', 'Paints and Varnishes', 'Auto', 'Pharma']})\n",
    "\n",
    "right_df = pd.DataFrame(\n",
    "    {'id': [1, 2, 3, 4, 5],\n",
    "     'Company': ['NTPC', 'TCS', 'Lupin', 'ICICI', 'M&M'],\n",
    "     'Sector': ['Power', 'IT', 'Pharma', 'Banks', 'Auto']})"
   ]
  },
  {
   "cell_type": "code",
   "execution_count": 14,
   "metadata": {},
   "outputs": [
    {
     "data": {
      "text/html": [
       "<div>\n",
       "<style scoped>\n",
       "    .dataframe tbody tr th:only-of-type {\n",
       "        vertical-align: middle;\n",
       "    }\n",
       "\n",
       "    .dataframe tbody tr th {\n",
       "        vertical-align: top;\n",
       "    }\n",
       "\n",
       "    .dataframe thead th {\n",
       "        text-align: right;\n",
       "    }\n",
       "</style>\n",
       "<table border=\"1\" class=\"dataframe\">\n",
       "  <thead>\n",
       "    <tr style=\"text-align: right;\">\n",
       "      <th></th>\n",
       "      <th>id</th>\n",
       "      <th>Company</th>\n",
       "      <th>Sector</th>\n",
       "    </tr>\n",
       "  </thead>\n",
       "  <tbody>\n",
       "    <tr>\n",
       "      <th>0</th>\n",
       "      <td>1</td>\n",
       "      <td>Infosys</td>\n",
       "      <td>IT</td>\n",
       "    </tr>\n",
       "    <tr>\n",
       "      <th>1</th>\n",
       "      <td>2</td>\n",
       "      <td>SBI</td>\n",
       "      <td>Banks</td>\n",
       "    </tr>\n",
       "    <tr>\n",
       "      <th>2</th>\n",
       "      <td>3</td>\n",
       "      <td>Asian Paints</td>\n",
       "      <td>Paints and Varnishes</td>\n",
       "    </tr>\n",
       "    <tr>\n",
       "      <th>3</th>\n",
       "      <td>4</td>\n",
       "      <td>Maruti</td>\n",
       "      <td>Auto</td>\n",
       "    </tr>\n",
       "    <tr>\n",
       "      <th>4</th>\n",
       "      <td>5</td>\n",
       "      <td>Sun Pharma</td>\n",
       "      <td>Pharma</td>\n",
       "    </tr>\n",
       "  </tbody>\n",
       "</table>\n",
       "</div>"
      ],
      "text/plain": [
       "   id       Company                Sector\n",
       "0   1       Infosys                    IT\n",
       "1   2           SBI                 Banks\n",
       "2   3  Asian Paints  Paints and Varnishes\n",
       "3   4        Maruti                  Auto\n",
       "4   5    Sun Pharma                Pharma"
      ]
     },
     "execution_count": 14,
     "metadata": {},
     "output_type": "execute_result"
    }
   ],
   "source": [
    "left_df"
   ]
  },
  {
   "cell_type": "code",
   "execution_count": 15,
   "metadata": {},
   "outputs": [
    {
     "data": {
      "text/html": [
       "<div>\n",
       "<style scoped>\n",
       "    .dataframe tbody tr th:only-of-type {\n",
       "        vertical-align: middle;\n",
       "    }\n",
       "\n",
       "    .dataframe tbody tr th {\n",
       "        vertical-align: top;\n",
       "    }\n",
       "\n",
       "    .dataframe thead th {\n",
       "        text-align: right;\n",
       "    }\n",
       "</style>\n",
       "<table border=\"1\" class=\"dataframe\">\n",
       "  <thead>\n",
       "    <tr style=\"text-align: right;\">\n",
       "      <th></th>\n",
       "      <th>id</th>\n",
       "      <th>Company</th>\n",
       "      <th>Sector</th>\n",
       "    </tr>\n",
       "  </thead>\n",
       "  <tbody>\n",
       "    <tr>\n",
       "      <th>0</th>\n",
       "      <td>1</td>\n",
       "      <td>NTPC</td>\n",
       "      <td>Power</td>\n",
       "    </tr>\n",
       "    <tr>\n",
       "      <th>1</th>\n",
       "      <td>2</td>\n",
       "      <td>TCS</td>\n",
       "      <td>IT</td>\n",
       "    </tr>\n",
       "    <tr>\n",
       "      <th>2</th>\n",
       "      <td>3</td>\n",
       "      <td>Lupin</td>\n",
       "      <td>Pharma</td>\n",
       "    </tr>\n",
       "    <tr>\n",
       "      <th>3</th>\n",
       "      <td>4</td>\n",
       "      <td>ICICI</td>\n",
       "      <td>Banks</td>\n",
       "    </tr>\n",
       "    <tr>\n",
       "      <th>4</th>\n",
       "      <td>5</td>\n",
       "      <td>M&amp;M</td>\n",
       "      <td>Auto</td>\n",
       "    </tr>\n",
       "  </tbody>\n",
       "</table>\n",
       "</div>"
      ],
      "text/plain": [
       "   id Company  Sector\n",
       "0   1    NTPC   Power\n",
       "1   2     TCS      IT\n",
       "2   3   Lupin  Pharma\n",
       "3   4   ICICI   Banks\n",
       "4   5     M&M    Auto"
      ]
     },
     "execution_count": 15,
     "metadata": {},
     "output_type": "execute_result"
    }
   ],
   "source": [
    "right_df"
   ]
  },
  {
   "cell_type": "code",
   "execution_count": 16,
   "metadata": {},
   "outputs": [
    {
     "name": "stdout",
     "output_type": "stream",
     "text": [
      "   id     Company_x              Sector_x Company_y Sector_y\n",
      "0   1       Infosys                    IT      NTPC    Power\n",
      "1   2           SBI                 Banks       TCS       IT\n",
      "2   3  Asian Paints  Paints and Varnishes     Lupin   Pharma\n",
      "3   4        Maruti                  Auto     ICICI    Banks\n",
      "4   5    Sun Pharma                Pharma       M&M     Auto\n"
     ]
    }
   ],
   "source": [
    "# Merge 2 DFs on a key\n",
    "\n",
    "print(pd.merge(left_df, right_df, on='id'))"
   ]
  },
  {
   "cell_type": "code",
   "execution_count": 17,
   "metadata": {},
   "outputs": [
    {
     "name": "stdout",
     "output_type": "stream",
     "text": [
      "   id_x   Company_x  Sector  id_y Company_y\n",
      "0     1     Infosys      IT     2       TCS\n",
      "1     2         SBI   Banks     4     ICICI\n",
      "2     4      Maruti    Auto     5       M&M\n",
      "3     5  Sun Pharma  Pharma     3     Lupin\n"
     ]
    }
   ],
   "source": [
    "print(pd.merge(left_df, right_df, on='Sector'))"
   ]
  },
  {
   "cell_type": "code",
   "execution_count": 18,
   "metadata": {},
   "outputs": [
    {
     "name": "stdout",
     "output_type": "stream",
     "text": [
      "Empty DataFrame\n",
      "Columns: [id_x, Company, Sector, id_y]\n",
      "Index: []\n"
     ]
    }
   ],
   "source": [
    "# Merge 2 DFs on multiple keys\n",
    "\n",
    "print(pd.merge(left_df, right_df, on=['Sector', 'Company']))"
   ]
  },
  {
   "cell_type": "code",
   "execution_count": 19,
   "metadata": {},
   "outputs": [
    {
     "name": "stdout",
     "output_type": "stream",
     "text": [
      "   id_x     Company_x                Sector  id_y Company_y\n",
      "0     1       Infosys                    IT   2.0       TCS\n",
      "1     2           SBI                 Banks   4.0     ICICI\n",
      "2     3  Asian Paints  Paints and Varnishes   NaN       NaN\n",
      "3     4        Maruti                  Auto   5.0       M&M\n",
      "4     5    Sun Pharma                Pharma   3.0     Lupin\n"
     ]
    }
   ],
   "source": [
    "# Merge using 'how' argument\n",
    "\n",
    "# Left join\n",
    "\n",
    "print(pd.merge(left_df, right_df, on='Sector', how='left'))"
   ]
  },
  {
   "cell_type": "code",
   "execution_count": 20,
   "metadata": {},
   "outputs": [
    {
     "name": "stdout",
     "output_type": "stream",
     "text": [
      "   id_x   Company_x  Sector  id_y Company_y\n",
      "0   1.0     Infosys      IT     2       TCS\n",
      "1   2.0         SBI   Banks     4     ICICI\n",
      "2   4.0      Maruti    Auto     5       M&M\n",
      "3   5.0  Sun Pharma  Pharma     3     Lupin\n",
      "4   NaN         NaN   Power     1      NTPC\n"
     ]
    }
   ],
   "source": [
    "# Right join\n",
    "\n",
    "print(pd.merge(left_df, right_df, on='Sector', how='right'))"
   ]
  },
  {
   "cell_type": "code",
   "execution_count": 21,
   "metadata": {},
   "outputs": [
    {
     "name": "stdout",
     "output_type": "stream",
     "text": [
      "   id_x     Company_x                Sector  id_y Company_y\n",
      "0   1.0       Infosys                    IT   2.0       TCS\n",
      "1   2.0           SBI                 Banks   4.0     ICICI\n",
      "2   3.0  Asian Paints  Paints and Varnishes   NaN       NaN\n",
      "3   4.0        Maruti                  Auto   5.0       M&M\n",
      "4   5.0    Sun Pharma                Pharma   3.0     Lupin\n",
      "5   NaN           NaN                 Power   1.0      NTPC\n"
     ]
    }
   ],
   "source": [
    "# Outer join\n",
    "\n",
    "print(pd.merge(left_df, right_df, on='Sector', how='outer'))"
   ]
  },
  {
   "cell_type": "code",
   "execution_count": 22,
   "metadata": {},
   "outputs": [
    {
     "name": "stdout",
     "output_type": "stream",
     "text": [
      "   id_x   Company_x  Sector  id_y Company_y\n",
      "0     1     Infosys      IT     2       TCS\n",
      "1     2         SBI   Banks     4     ICICI\n",
      "2     4      Maruti    Auto     5       M&M\n",
      "3     5  Sun Pharma  Pharma     3     Lupin\n"
     ]
    }
   ],
   "source": [
    "# Inner join\n",
    "\n",
    "print(pd.merge(left_df, right_df, on='Sector', how='inner'))"
   ]
  },
  {
   "cell_type": "markdown",
   "metadata": {},
   "source": [
    "### Concatenation"
   ]
  },
  {
   "cell_type": "code",
   "execution_count": 23,
   "metadata": {},
   "outputs": [
    {
     "name": "stdout",
     "output_type": "stream",
     "text": [
      "   id       Company                Sector\n",
      "0   1       Infosys                    IT\n",
      "1   2           SBI                 Banks\n",
      "2   3  Asian Paints  Paints and Varnishes\n",
      "3   4        Maruti                  Auto\n",
      "4   5    Sun Pharma                Pharma\n",
      "0   1          NTPC                 Power\n",
      "1   2           TCS                    IT\n",
      "2   3         Lupin                Pharma\n",
      "3   4         ICICI                 Banks\n",
      "4   5           M&M                  Auto\n"
     ]
    }
   ],
   "source": [
    "print(pd.concat([left_df, right_df]))"
   ]
  },
  {
   "cell_type": "code",
   "execution_count": 24,
   "metadata": {},
   "outputs": [
    {
     "name": "stdout",
     "output_type": "stream",
     "text": [
      "     id       Company                Sector\n",
      "x 0   1       Infosys                    IT\n",
      "  1   2           SBI                 Banks\n",
      "  2   3  Asian Paints  Paints and Varnishes\n",
      "  3   4        Maruti                  Auto\n",
      "  4   5    Sun Pharma                Pharma\n",
      "y 0   1          NTPC                 Power\n",
      "  1   2           TCS                    IT\n",
      "  2   3         Lupin                Pharma\n",
      "  3   4         ICICI                 Banks\n",
      "  4   5           M&M                  Auto\n"
     ]
    }
   ],
   "source": [
    "print(pd.concat([left_df, right_df], keys=['x', 'y']))"
   ]
  },
  {
   "cell_type": "code",
   "execution_count": 25,
   "metadata": {},
   "outputs": [
    {
     "name": "stdout",
     "output_type": "stream",
     "text": [
      "   id       Company                Sector\n",
      "0   1       Infosys                    IT\n",
      "1   2           SBI                 Banks\n",
      "2   3  Asian Paints  Paints and Varnishes\n",
      "3   4        Maruti                  Auto\n",
      "4   5    Sun Pharma                Pharma\n",
      "5   1          NTPC                 Power\n",
      "6   2           TCS                    IT\n",
      "7   3         Lupin                Pharma\n",
      "8   4         ICICI                 Banks\n",
      "9   5           M&M                  Auto\n"
     ]
    }
   ],
   "source": [
    "print(pd.concat([left_df, right_df], keys=['x', 'y'], ignore_index=True))"
   ]
  },
  {
   "cell_type": "code",
   "execution_count": 26,
   "metadata": {},
   "outputs": [
    {
     "name": "stdout",
     "output_type": "stream",
     "text": [
      "   id       Company                Sector  id Company  Sector\n",
      "0   1       Infosys                    IT   1    NTPC   Power\n",
      "1   2           SBI                 Banks   2     TCS      IT\n",
      "2   3  Asian Paints  Paints and Varnishes   3   Lupin  Pharma\n",
      "3   4        Maruti                  Auto   4   ICICI   Banks\n",
      "4   5    Sun Pharma                Pharma   5     M&M    Auto\n"
     ]
    }
   ],
   "source": [
    "print(pd.concat([left_df, right_df], axis=1))"
   ]
  },
  {
   "cell_type": "code",
   "execution_count": 27,
   "metadata": {},
   "outputs": [
    {
     "name": "stdout",
     "output_type": "stream",
     "text": [
      "   id       Company                Sector\n",
      "0   1       Infosys                    IT\n",
      "1   2           SBI                 Banks\n",
      "2   3  Asian Paints  Paints and Varnishes\n",
      "3   4        Maruti                  Auto\n",
      "4   5    Sun Pharma                Pharma\n",
      "0   1          NTPC                 Power\n",
      "1   2           TCS                    IT\n",
      "2   3         Lupin                Pharma\n",
      "3   4         ICICI                 Banks\n",
      "4   5           M&M                  Auto\n"
     ]
    }
   ],
   "source": [
    "# Concatenating using append\n",
    "\n",
    "print(left_df.append(right_df))"
   ]
  },
  {
   "cell_type": "code",
   "execution_count": 28,
   "metadata": {},
   "outputs": [
    {
     "name": "stdout",
     "output_type": "stream",
     "text": [
      "   id       Company                Sector\n",
      "0   1       Infosys                    IT\n",
      "1   2           SBI                 Banks\n",
      "2   3  Asian Paints  Paints and Varnishes\n",
      "3   4        Maruti                  Auto\n",
      "4   5    Sun Pharma                Pharma\n",
      "0   1          NTPC                 Power\n",
      "1   2           TCS                    IT\n",
      "2   3         Lupin                Pharma\n",
      "3   4         ICICI                 Banks\n",
      "4   5           M&M                  Auto\n",
      "0   1       Infosys                    IT\n",
      "1   2           SBI                 Banks\n",
      "2   3  Asian Paints  Paints and Varnishes\n",
      "3   4        Maruti                  Auto\n",
      "4   5    Sun Pharma                Pharma\n",
      "0   1          NTPC                 Power\n",
      "1   2           TCS                    IT\n",
      "2   3         Lupin                Pharma\n",
      "3   4         ICICI                 Banks\n",
      "4   5           M&M                  Auto\n"
     ]
    }
   ],
   "source": [
    "print(left_df.append([right_df, left_df, right_df]))"
   ]
  },
  {
   "cell_type": "markdown",
   "metadata": {},
   "source": [
    "This is where we will end this section on Pandas.<br><br>"
   ]
  }
 ],
 "metadata": {
  "kernelspec": {
   "display_name": "Python 3",
   "language": "python",
   "name": "python3"
  },
  "language_info": {
   "codemirror_mode": {
    "name": "ipython",
    "version": 3
   },
   "file_extension": ".py",
   "mimetype": "text/x-python",
   "name": "python",
   "nbconvert_exporter": "python",
   "pygments_lexer": "ipython3",
   "version": "3.7.4"
  }
 },
 "nbformat": 4,
 "nbformat_minor": 2
}
