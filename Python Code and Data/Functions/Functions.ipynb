{
 "cells": [
  {
   "cell_type": "markdown",
   "metadata": {},
   "source": [
    "# Notebook Instructions\n",
    "\n",
    "1. All the <u>code and data files</u> used in this course are available in the downloadable unit of the <u>last section of this course</u>.\n",
    "2. You can run the notebook document sequentially (one cell at a time) by pressing **shift + enter**. \n",
    "3. While a cell is running, a [*] is shown on the left. After the cell is run, the output will appear on the next line.\n",
    "\n",
    "This course is based on specific versions of python packages. You can find the details of the packages in <a href='https://quantra.quantinsti.com/quantra-notebook' target=\"_blank\" >this manual</a>."
   ]
  },
  {
   "cell_type": "markdown",
   "metadata": {},
   "source": [
    "## A simple user-defined function \n",
    "\n",
    "Let us create a simple mathematical function.\n",
    "\n",
    "The syntax for constructing a function is:\n",
    "<pre>\n",
    "def function_name (parameter-list):\n",
    "\tStatements, i.e function body\n",
    "    return a value, if required\n",
    "</pre>\n",
    "Let us create ‘my_function’.\n"
   ]
  },
  {
   "cell_type": "code",
   "execution_count": 1,
   "metadata": {},
   "outputs": [],
   "source": [
    "def my_function(x, n):\n",
    "    output = x ** n\n",
    "    return output"
   ]
  },
  {
   "cell_type": "markdown",
   "metadata": {},
   "source": [
    "This is a simple function which we have created to calculate the exponential of any number. Now, whenever we need to perform this particular calculation, all we need to do is <b>call</b> this function and insert the values for <b>‘x’</b> and <b>‘n’</b>. You may have a look at it."
   ]
  },
  {
   "cell_type": "code",
   "execution_count": 2,
   "metadata": {},
   "outputs": [
    {
     "data": {
      "text/plain": [
       "100"
      ]
     },
     "execution_count": 2,
     "metadata": {},
     "output_type": "execute_result"
    }
   ],
   "source": [
    "my_function(10, 2)  # 10 raise to 2 = 100"
   ]
  },
  {
   "cell_type": "code",
   "execution_count": 3,
   "metadata": {},
   "outputs": [
    {
     "data": {
      "text/plain": [
       "125"
      ]
     },
     "execution_count": 3,
     "metadata": {},
     "output_type": "execute_result"
    }
   ],
   "source": [
    "my_function(5, 3)  # 5 raise to 3 = 125"
   ]
  },
  {
   "cell_type": "markdown",
   "metadata": {},
   "source": [
    "## Bollinger band function\n",
    "\n",
    "This is the function which we discussed in the video unit. We pass two parameters data and lookback period (n)."
   ]
  },
  {
   "cell_type": "code",
   "execution_count": 4,
   "metadata": {},
   "outputs": [],
   "source": [
    "def Bollinger_Bands(data, n):\n",
    "\n",
    "    # Calculating the moving average\n",
    "    MA = data['Close'].rolling(window=n).mean()\n",
    "\n",
    "    # Calculating the standard deviation\n",
    "    SD = data['Close'].rolling(window=n).std()\n",
    "\n",
    "    data['Lower_BB'] = MA - (2 * SD)  # Lower Bollinger Band\n",
    "    data['Upper_BB'] = MA + (2 * SD)  # Upper Bollinger Band\n",
    "\n",
    "    return data"
   ]
  },
  {
   "cell_type": "code",
   "execution_count": 5,
   "metadata": {},
   "outputs": [
    {
     "data": {
      "text/html": [
       "<div>\n",
       "<style scoped>\n",
       "    .dataframe tbody tr th:only-of-type {\n",
       "        vertical-align: middle;\n",
       "    }\n",
       "\n",
       "    .dataframe tbody tr th {\n",
       "        vertical-align: top;\n",
       "    }\n",
       "\n",
       "    .dataframe thead th {\n",
       "        text-align: right;\n",
       "    }\n",
       "</style>\n",
       "<table border=\"1\" class=\"dataframe\">\n",
       "  <thead>\n",
       "    <tr style=\"text-align: right;\">\n",
       "      <th></th>\n",
       "      <th>Date</th>\n",
       "      <th>Open</th>\n",
       "      <th>High</th>\n",
       "      <th>Low</th>\n",
       "      <th>Close</th>\n",
       "      <th>Shares Traded</th>\n",
       "      <th>Turnover (Rs. Cr)</th>\n",
       "    </tr>\n",
       "  </thead>\n",
       "  <tbody>\n",
       "    <tr>\n",
       "      <th>0</th>\n",
       "      <td>18-Apr-2017</td>\n",
       "      <td>9163.00</td>\n",
       "      <td>9217.90</td>\n",
       "      <td>9095.45</td>\n",
       "      <td>9105.15</td>\n",
       "      <td>179569574</td>\n",
       "      <td>8527.50</td>\n",
       "    </tr>\n",
       "    <tr>\n",
       "      <th>1</th>\n",
       "      <td>19-Apr-2017</td>\n",
       "      <td>9112.20</td>\n",
       "      <td>9120.50</td>\n",
       "      <td>9075.15</td>\n",
       "      <td>9103.50</td>\n",
       "      <td>179117382</td>\n",
       "      <td>8950.27</td>\n",
       "    </tr>\n",
       "    <tr>\n",
       "      <th>2</th>\n",
       "      <td>20-Apr-2017</td>\n",
       "      <td>9108.10</td>\n",
       "      <td>9143.90</td>\n",
       "      <td>9102.65</td>\n",
       "      <td>9136.40</td>\n",
       "      <td>175629897</td>\n",
       "      <td>8843.50</td>\n",
       "    </tr>\n",
       "    <tr>\n",
       "      <th>3</th>\n",
       "      <td>21-Apr-2017</td>\n",
       "      <td>9179.10</td>\n",
       "      <td>9183.65</td>\n",
       "      <td>9088.75</td>\n",
       "      <td>9119.40</td>\n",
       "      <td>159981265</td>\n",
       "      <td>8476.63</td>\n",
       "    </tr>\n",
       "    <tr>\n",
       "      <th>4</th>\n",
       "      <td>24-Apr-2017</td>\n",
       "      <td>9135.35</td>\n",
       "      <td>9225.40</td>\n",
       "      <td>9130.55</td>\n",
       "      <td>9217.95</td>\n",
       "      <td>172908048</td>\n",
       "      <td>9720.75</td>\n",
       "    </tr>\n",
       "  </tbody>\n",
       "</table>\n",
       "</div>"
      ],
      "text/plain": [
       "          Date     Open     High      Low    Close    Shares Traded  \\\n",
       "0  18-Apr-2017  9163.00  9217.90  9095.45  9105.15        179569574   \n",
       "1  19-Apr-2017  9112.20  9120.50  9075.15  9103.50        179117382   \n",
       "2  20-Apr-2017  9108.10  9143.90  9102.65  9136.40        175629897   \n",
       "3  21-Apr-2017  9179.10  9183.65  9088.75  9119.40        159981265   \n",
       "4  24-Apr-2017  9135.35  9225.40  9130.55  9217.95        172908048   \n",
       "\n",
       "  Turnover (Rs. Cr)  \n",
       "0           8527.50  \n",
       "1           8950.27  \n",
       "2           8843.50  \n",
       "3           8476.63  \n",
       "4           9720.75  "
      ]
     },
     "execution_count": 5,
     "metadata": {},
     "output_type": "execute_result"
    }
   ],
   "source": [
    "# Load and view Nifty data\n",
    "import pandas as pd\n",
    "nifty = pd.read_csv('../data_modules/nifty_data.csv')\n",
    "nifty.head()"
   ]
  },
  {
   "cell_type": "code",
   "execution_count": 6,
   "metadata": {},
   "outputs": [
    {
     "data": {
      "text/html": [
       "<div>\n",
       "<style scoped>\n",
       "    .dataframe tbody tr th:only-of-type {\n",
       "        vertical-align: middle;\n",
       "    }\n",
       "\n",
       "    .dataframe tbody tr th {\n",
       "        vertical-align: top;\n",
       "    }\n",
       "\n",
       "    .dataframe thead th {\n",
       "        text-align: right;\n",
       "    }\n",
       "</style>\n",
       "<table border=\"1\" class=\"dataframe\">\n",
       "  <thead>\n",
       "    <tr style=\"text-align: right;\">\n",
       "      <th></th>\n",
       "      <th>Date</th>\n",
       "      <th>Open</th>\n",
       "      <th>High</th>\n",
       "      <th>Low</th>\n",
       "      <th>Close</th>\n",
       "      <th>Shares Traded</th>\n",
       "      <th>Turnover (Rs. Cr)</th>\n",
       "      <th>Lower_BB</th>\n",
       "      <th>Upper_BB</th>\n",
       "    </tr>\n",
       "  </thead>\n",
       "  <tbody>\n",
       "    <tr>\n",
       "      <th>244</th>\n",
       "      <td>11-Apr-2018</td>\n",
       "      <td>10428.15</td>\n",
       "      <td>10428.15</td>\n",
       "      <td>10355.60</td>\n",
       "      <td>10417.15</td>\n",
       "      <td>258077363</td>\n",
       "      <td>11790.58</td>\n",
       "      <td>9975.737576</td>\n",
       "      <td>10516.671948</td>\n",
       "    </tr>\n",
       "    <tr>\n",
       "      <th>245</th>\n",
       "      <td>12-Apr-2018</td>\n",
       "      <td>10410.65</td>\n",
       "      <td>10469.90</td>\n",
       "      <td>10395.25</td>\n",
       "      <td>10458.65</td>\n",
       "      <td>246027888</td>\n",
       "      <td>12249.66</td>\n",
       "      <td>9972.248258</td>\n",
       "      <td>10523.708885</td>\n",
       "    </tr>\n",
       "    <tr>\n",
       "      <th>246</th>\n",
       "      <td>13-Apr-2018</td>\n",
       "      <td>10495.30</td>\n",
       "      <td>10519.90</td>\n",
       "      <td>10451.45</td>\n",
       "      <td>10480.60</td>\n",
       "      <td>219724716</td>\n",
       "      <td>12354.55</td>\n",
       "      <td>9966.948182</td>\n",
       "      <td>10534.128009</td>\n",
       "    </tr>\n",
       "    <tr>\n",
       "      <th>247</th>\n",
       "      <td>16-Apr-2018</td>\n",
       "      <td>10398.30</td>\n",
       "      <td>10540.15</td>\n",
       "      <td>10396.35</td>\n",
       "      <td>10528.35</td>\n",
       "      <td>200950876</td>\n",
       "      <td>11242.05</td>\n",
       "      <td>9955.158253</td>\n",
       "      <td>10557.103651</td>\n",
       "    </tr>\n",
       "    <tr>\n",
       "      <th>248</th>\n",
       "      <td>17-Apr-2018</td>\n",
       "      <td>10557.30</td>\n",
       "      <td>10560.45</td>\n",
       "      <td>10495.65</td>\n",
       "      <td>10548.70</td>\n",
       "      <td>212449535</td>\n",
       "      <td>10501.71</td>\n",
       "      <td>9940.761993</td>\n",
       "      <td>10589.457054</td>\n",
       "    </tr>\n",
       "  </tbody>\n",
       "</table>\n",
       "</div>"
      ],
      "text/plain": [
       "            Date      Open      High       Low     Close    Shares Traded  \\\n",
       "244  11-Apr-2018  10428.15  10428.15  10355.60  10417.15        258077363   \n",
       "245  12-Apr-2018  10410.65  10469.90  10395.25  10458.65        246027888   \n",
       "246  13-Apr-2018  10495.30  10519.90  10451.45  10480.60        219724716   \n",
       "247  16-Apr-2018  10398.30  10540.15  10396.35  10528.35        200950876   \n",
       "248  17-Apr-2018  10557.30  10560.45  10495.65  10548.70        212449535   \n",
       "\n",
       "    Turnover (Rs. Cr)     Lower_BB      Upper_BB  \n",
       "244          11790.58  9975.737576  10516.671948  \n",
       "245          12249.66  9972.248258  10523.708885  \n",
       "246          12354.55  9966.948182  10534.128009  \n",
       "247          11242.05  9955.158253  10557.103651  \n",
       "248          10501.71  9940.761993  10589.457054  "
      ]
     },
     "execution_count": 6,
     "metadata": {},
     "output_type": "execute_result"
    }
   ],
   "source": [
    "# Calling Bollinger Bands for 'Nifty' index price data\n",
    "\n",
    "n = 21  # We have kept the window of the moving average as 21 days\n",
    "\n",
    "# Calling the Bollinger Bands function cerated by us\n",
    "nifty_bb = Bollinger_Bands(nifty, n)\n",
    "\n",
    "nifty_bb.tail()"
   ]
  },
  {
   "cell_type": "code",
   "execution_count": 7,
   "metadata": {},
   "outputs": [
    {
     "data": {
      "image/png": "[encoded data removed]",
      "text/plain": [
       "<Figure size 720x360 with 1 Axes>"
      ]
     },
     "metadata": {
      "needs_background": "light"
     },
     "output_type": "display_data"
    }
   ],
   "source": [
    "# Plotting the Bollinger Bands for \"Nifty' index\n",
    "import matplotlib.pyplot as plt\n",
    "%matplotlib inline\n",
    "\n",
    "plt.figure(figsize=(10, 5))\n",
    "\n",
    "plt.plot(nifty_bb.Close)\n",
    "plt.plot(nifty_bb.Lower_BB)\n",
    "plt.plot(nifty_bb.Upper_BB)\n",
    "plt.grid(True)\n",
    "\n",
    "plt.show()"
   ]
  },
  {
   "cell_type": "code",
   "execution_count": 8,
   "metadata": {},
   "outputs": [
    {
     "data": {
      "text/html": [
       "<div>\n",
       "<style scoped>\n",
       "    .dataframe tbody tr th:only-of-type {\n",
       "        vertical-align: middle;\n",
       "    }\n",
       "\n",
       "    .dataframe tbody tr th {\n",
       "        vertical-align: top;\n",
       "    }\n",
       "\n",
       "    .dataframe thead th {\n",
       "        text-align: right;\n",
       "    }\n",
       "</style>\n",
       "<table border=\"1\" class=\"dataframe\">\n",
       "  <thead>\n",
       "    <tr style=\"text-align: right;\">\n",
       "      <th></th>\n",
       "      <th>Symbol</th>\n",
       "      <th>Series</th>\n",
       "      <th>Date</th>\n",
       "      <th>Prev Close</th>\n",
       "      <th>Open Price</th>\n",
       "      <th>High Price</th>\n",
       "      <th>Low Price</th>\n",
       "      <th>Last Price</th>\n",
       "      <th>Close</th>\n",
       "      <th>Average Price</th>\n",
       "      <th>Total Traded Quantity</th>\n",
       "      <th>Turnover</th>\n",
       "      <th>No. of Trades</th>\n",
       "      <th>Lower_BB</th>\n",
       "      <th>Upper_BB</th>\n",
       "    </tr>\n",
       "  </thead>\n",
       "  <tbody>\n",
       "    <tr>\n",
       "      <th>492</th>\n",
       "      <td>INFY</td>\n",
       "      <td>EQ</td>\n",
       "      <td>20-Mar-18</td>\n",
       "      <td>1146.75</td>\n",
       "      <td>1148.6</td>\n",
       "      <td>1170.00</td>\n",
       "      <td>1148.60</td>\n",
       "      <td>1164.55</td>\n",
       "      <td>1164.55</td>\n",
       "      <td>1159.74</td>\n",
       "      <td>4276883</td>\n",
       "      <td>4.960077e+09</td>\n",
       "      <td>111232</td>\n",
       "      <td>1127.275476</td>\n",
       "      <td>1191.019762</td>\n",
       "    </tr>\n",
       "    <tr>\n",
       "      <th>493</th>\n",
       "      <td>INFY</td>\n",
       "      <td>EQ</td>\n",
       "      <td>21-Mar-18</td>\n",
       "      <td>1164.55</td>\n",
       "      <td>1170.0</td>\n",
       "      <td>1175.50</td>\n",
       "      <td>1162.20</td>\n",
       "      <td>1166.20</td>\n",
       "      <td>1167.50</td>\n",
       "      <td>1171.53</td>\n",
       "      <td>3846497</td>\n",
       "      <td>4.506271e+09</td>\n",
       "      <td>121529</td>\n",
       "      <td>1131.396851</td>\n",
       "      <td>1190.303149</td>\n",
       "    </tr>\n",
       "    <tr>\n",
       "      <th>494</th>\n",
       "      <td>INFY</td>\n",
       "      <td>EQ</td>\n",
       "      <td>22-Mar-18</td>\n",
       "      <td>1167.50</td>\n",
       "      <td>1164.5</td>\n",
       "      <td>1177.45</td>\n",
       "      <td>1155.30</td>\n",
       "      <td>1156.00</td>\n",
       "      <td>1161.30</td>\n",
       "      <td>1167.57</td>\n",
       "      <td>3406584</td>\n",
       "      <td>3.977431e+09</td>\n",
       "      <td>82774</td>\n",
       "      <td>1134.666524</td>\n",
       "      <td>1189.352523</td>\n",
       "    </tr>\n",
       "    <tr>\n",
       "      <th>495</th>\n",
       "      <td>INFY</td>\n",
       "      <td>EQ</td>\n",
       "      <td>23-Mar-18</td>\n",
       "      <td>1161.30</td>\n",
       "      <td>1147.0</td>\n",
       "      <td>1173.80</td>\n",
       "      <td>1142.35</td>\n",
       "      <td>1165.00</td>\n",
       "      <td>1167.60</td>\n",
       "      <td>1164.59</td>\n",
       "      <td>6004042</td>\n",
       "      <td>6.992254e+09</td>\n",
       "      <td>117145</td>\n",
       "      <td>1136.376005</td>\n",
       "      <td>1189.566852</td>\n",
       "    </tr>\n",
       "    <tr>\n",
       "      <th>496</th>\n",
       "      <td>INFY</td>\n",
       "      <td>EQ</td>\n",
       "      <td>26-Mar-18</td>\n",
       "      <td>1167.60</td>\n",
       "      <td>1166.9</td>\n",
       "      <td>1166.90</td>\n",
       "      <td>1144.00</td>\n",
       "      <td>1155.60</td>\n",
       "      <td>1155.25</td>\n",
       "      <td>1153.17</td>\n",
       "      <td>4465361</td>\n",
       "      <td>5.149317e+09</td>\n",
       "      <td>101964</td>\n",
       "      <td>1135.914643</td>\n",
       "      <td>1189.504404</td>\n",
       "    </tr>\n",
       "  </tbody>\n",
       "</table>\n",
       "</div>"
      ],
      "text/plain": [
       "    Symbol Series       Date  Prev Close  Open Price  High Price  Low Price  \\\n",
       "492   INFY     EQ  20-Mar-18     1146.75      1148.6     1170.00    1148.60   \n",
       "493   INFY     EQ  21-Mar-18     1164.55      1170.0     1175.50    1162.20   \n",
       "494   INFY     EQ  22-Mar-18     1167.50      1164.5     1177.45    1155.30   \n",
       "495   INFY     EQ  23-Mar-18     1161.30      1147.0     1173.80    1142.35   \n",
       "496   INFY     EQ  26-Mar-18     1167.60      1166.9     1166.90    1144.00   \n",
       "\n",
       "     Last Price    Close  Average Price  Total Traded Quantity      Turnover  \\\n",
       "492     1164.55  1164.55        1159.74                4276883  4.960077e+09   \n",
       "493     1166.20  1167.50        1171.53                3846497  4.506271e+09   \n",
       "494     1156.00  1161.30        1167.57                3406584  3.977431e+09   \n",
       "495     1165.00  1167.60        1164.59                6004042  6.992254e+09   \n",
       "496     1155.60  1155.25        1153.17                4465361  5.149317e+09   \n",
       "\n",
       "     No. of Trades     Lower_BB     Upper_BB  \n",
       "492         111232  1127.275476  1191.019762  \n",
       "493         121529  1131.396851  1190.303149  \n",
       "494          82774  1134.666524  1189.352523  \n",
       "495         117145  1136.376005  1189.566852  \n",
       "496         101964  1135.914643  1189.504404  "
      ]
     },
     "execution_count": 8,
     "metadata": {},
     "output_type": "execute_result"
    }
   ],
   "source": [
    "# Calling Bollinger Bands for 'Infosys' price data\n",
    "\n",
    "import pandas as pd\n",
    "\n",
    "# Loading 'Nifty Index' data\n",
    "infy = pd.read_csv('../data_modules/infy_data_bb.csv')\n",
    "\n",
    "n = 21  # We have kept the window of the moving average as 21 days\n",
    "\n",
    "# Calling the Bollinger Bands function cerated by us\n",
    "infy_bb = Bollinger_Bands(infy, n)\n",
    "\n",
    "infy_bb.tail()"
   ]
  },
  {
   "cell_type": "code",
   "execution_count": 9,
   "metadata": {
    "scrolled": false
   },
   "outputs": [
    {
     "data": {
      "image/png": "[encoded data removed]",
      "text/plain": [
       "<Figure size 720x360 with 1 Axes>"
      ]
     },
     "metadata": {
      "needs_background": "light"
     },
     "output_type": "display_data"
    }
   ],
   "source": [
    "# Plotting the Bollinger Bands for \"Infosys\" stock\n",
    "import matplotlib.pyplot as plt\n",
    "%matplotlib inline\n",
    "\n",
    "plt.figure(figsize=(10, 5))\n",
    "\n",
    "plt.plot(infy_bb.Close)\n",
    "plt.plot(infy_bb.Lower_BB)\n",
    "plt.plot(infy_bb.Upper_BB)\n",
    "plt.grid(True)\n",
    "\n",
    "plt.show()"
   ]
  },
  {
   "cell_type": "markdown",
   "metadata": {},
   "source": [
    "In the upcoming IPython Notebook, we will understand the <b>Lambda</b> operator and its relation to functions.<br><br>"
   ]
  }
 ],
 "metadata": {
  "kernelspec": {
   "display_name": "Python 3",
   "language": "python",
   "name": "python3"
  },
  "language_info": {
   "codemirror_mode": {
    "name": "ipython",
    "version": 3
   },
   "file_extension": ".py",
   "mimetype": "text/x-python",
   "name": "python",
   "nbconvert_exporter": "python",
   "pygments_lexer": "ipython3",
   "version": "3.9.0"
  }
 },
 "nbformat": 4,
 "nbformat_minor": 2
}
