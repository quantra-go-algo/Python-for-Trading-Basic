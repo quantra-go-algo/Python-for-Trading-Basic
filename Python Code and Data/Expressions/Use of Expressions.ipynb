{
 "cells": [
  {
   "cell_type": "markdown",
   "metadata": {},
   "source": [
    "# Notebook Instructions\n",
    "\n",
    "1. All the <u>code and data files</u> used in this course are available in the downloadable unit of the <u>last section of this course</u>.\n",
    "2. You can run the notebook document sequentially (one cell at a time) by pressing **shift + enter**. \n",
    "3. While a cell is running, a [*] is shown on the left. After the cell is run, the output will appear on the next line.\n",
    "\n",
    "This course is based on specific versions of python packages. You can find the details of the packages in <a href='https://quantra.quantinsti.com/quantra-notebook' target=\"_blank\" >this manual</a>."
   ]
  },
  {
   "cell_type": "markdown",
   "metadata": {},
   "source": [
    "## Expressions\n",
    "\n",
    "'Expressions' are generally a combination of numbers, variables, and operators. <br>\n",
    "<br>\n",
    "In this IPython notebook, we will make use of Expressions to understand the TVM concepts. "
   ]
  },
  {
   "cell_type": "markdown",
   "metadata": {},
   "source": [
    "### Future value (FV)\n",
    "\n",
    "What would be the FV, if I have $1000 with me now and I will be investing it for 1 year, at an annual return of 5%? "
   ]
  },
  {
   "cell_type": "code",
   "execution_count": 1,
   "metadata": {},
   "outputs": [
    {
     "name": "stdout",
     "output_type": "stream",
     "text": [
      "1050.0\n"
     ]
    }
   ],
   "source": [
    "PV = 1000\n",
    "r = 0.05\n",
    "n = 1\n",
    "\n",
    "# Formula for calculating Future Value\n",
    "FV = PV * ((1+r) ** n)\n",
    "\n",
    "print(FV)"
   ]
  },
  {
   "cell_type": "markdown",
   "metadata": {},
   "source": [
    "### Present value (PV)\n",
    "\n",
    "What would be the PV, if I have to discount $1050 at a 5% annual rate for a period of 1 year?"
   ]
  },
  {
   "cell_type": "code",
   "execution_count": 2,
   "metadata": {},
   "outputs": [
    {
     "name": "stdout",
     "output_type": "stream",
     "text": [
      "1000.0\n"
     ]
    }
   ],
   "source": [
    "FV = 1050\n",
    "r = 0.05\n",
    "n = 1\n",
    "\n",
    "# Formula for calculating Present Value\n",
    "PV = FV / ((1 + r) ** n)\n",
    "\n",
    "print(PV)"
   ]
  },
  {
   "cell_type": "markdown",
   "metadata": {
    "collapsed": true
   },
   "source": [
    "### Compounding \n",
    "\n",
    "Assume that the 5% annual interest rate bond makes semiannual payments. That is, for an investment of $1000, you will get 25 dollars, after the first 6 months and another 25 dollars after 1 year. The annual rate of interest is 5%. What would be the FV, if I hold the bond for 1 year? "
   ]
  },
  {
   "cell_type": "code",
   "execution_count": 3,
   "metadata": {},
   "outputs": [
    {
     "name": "stdout",
     "output_type": "stream",
     "text": [
      "1050.625\n"
     ]
    }
   ],
   "source": [
    "PV = 1000\n",
    "r = 0.05\n",
    "n = 2  # number of periods = 2 since bond makes semiannual payments\n",
    "t = 1  # number of years\n",
    "\n",
    "# Formula for compounding\n",
    "FV = PV * ((1+(r/n)) ** (n*t))\n",
    "\n",
    "print(FV)"
   ]
  },
  {
   "cell_type": "markdown",
   "metadata": {},
   "source": [
    "### Annuity payments\n",
    "\n",
    "What would be the annual periodic saving amount, if you want a lump sum of $9476.96 at the end of 3 years? The rate of return is 10%? (Assuming the first payment is made at the start of each year).<br>\n",
    "<br>\n",
    "(This is one of the required calculation from 'PDF: TVM Applications' unit) "
   ]
  },
  {
   "cell_type": "code",
   "execution_count": 4,
   "metadata": {},
   "outputs": [
    {
     "name": "stdout",
     "output_type": "stream",
     "text": [
      "2602.8453721505043\n"
     ]
    }
   ],
   "source": [
    "r = 0.1\n",
    "n = 3\n",
    "PV = 0\n",
    "FV = 9476.96\n",
    "\n",
    "# Formula for Annuity payments, given Future Value\n",
    "AP = (FV * r) / (((1 + r) ** n - 1)*(1+r))\n",
    "print(AP)"
   ]
  },
  {
   "cell_type": "markdown",
   "metadata": {},
   "source": [
    "What would be the PV, given a cash outflow of $2500 for a period of 5 years and rate of return being 10%?<br>\n",
    "<br>\n",
    "(This is one of the required calculation from 'PDF: TVM Applications' unit) "
   ]
  },
  {
   "cell_type": "code",
   "execution_count": 5,
   "metadata": {},
   "outputs": [
    {
     "name": "stdout",
     "output_type": "stream",
     "text": [
      "9476.966923521126\n"
     ]
    }
   ],
   "source": [
    "r = 0.1\n",
    "n = 5\n",
    "AP = 2500\n",
    "\n",
    "# Formula for PV, given Annuity payments\n",
    "PV = (AP * (1 - ((1 + r) ** -n))) / r\n",
    "print(PV)"
   ]
  },
  {
   "cell_type": "markdown",
   "metadata": {},
   "source": [
    "What would be the PV, given a cash outflow of $30,000 for a period of 45 years and rate of return being 8%?<br>\n",
    "<br>\n",
    "(This is one of the required calculation from 'PDF: TVM Applications' unit) "
   ]
  },
  {
   "cell_type": "code",
   "execution_count": 6,
   "metadata": {},
   "outputs": [
    {
     "name": "stdout",
     "output_type": "stream",
     "text": [
      "363252.0450945144\n"
     ]
    }
   ],
   "source": [
    "r = 0.08\n",
    "n = 45\n",
    "AP1 = 30000\n",
    "\n",
    "# Formula for PV, given Annuity payments\n",
    "PV = (AP1 * (1 - ((1 + r) ** -n))) / r\n",
    "print(PV)"
   ]
  },
  {
   "cell_type": "markdown",
   "metadata": {},
   "source": [
    "What would be the annual saving amount (AP), if you want to save a lump sum of $363252.045 in 25 years and rate of return being 15%?<br>\n",
    "<br>\n",
    "(This is one of the required calculation from 'PDF: TVM Applications' unit) "
   ]
  },
  {
   "cell_type": "code",
   "execution_count": 7,
   "metadata": {},
   "outputs": [
    {
     "name": "stdout",
     "output_type": "stream",
     "text": [
      "1484.4065248166885\n"
     ]
    }
   ],
   "source": [
    "r = 0.15\n",
    "n = 25\n",
    "PV = 0\n",
    "FV = 363252.045095\n",
    "\n",
    "# Formula to calculate Annuity Payments, given FV\n",
    "AP = (FV * r) / (((1 + r) ** n - 1)*(1+r))\n",
    "\n",
    "# Formula to calculate Annuity Payments, given PV\n",
    "#AP = (r * PV) / (1 - ((1 + r) ** -n))\n",
    "\n",
    "print(AP)"
   ]
  },
  {
   "cell_type": "markdown",
   "metadata": {},
   "source": [
    "These are some ways, one can use Expressions. <br>\n",
    "\n",
    "In the upcoming section, we will learn about Python <b>Data Structures</b>.<br><br>"
   ]
  }
 ],
 "metadata": {
  "kernelspec": {
   "display_name": "Python 3",
   "language": "python",
   "name": "python3"
  },
  "language_info": {
   "codemirror_mode": {
    "name": "ipython",
    "version": 3
   },
   "file_extension": ".py",
   "mimetype": "text/x-python",
   "name": "python",
   "nbconvert_exporter": "python",
   "pygments_lexer": "ipython3",
   "version": "3.7.4"
  }
 },
 "nbformat": 4,
 "nbformat_minor": 2
}
