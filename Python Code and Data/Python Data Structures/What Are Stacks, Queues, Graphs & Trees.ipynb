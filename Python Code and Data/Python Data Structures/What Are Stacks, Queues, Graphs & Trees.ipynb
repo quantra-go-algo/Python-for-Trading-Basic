{
 "cells": [
  {
   "cell_type": "markdown",
   "metadata": {},
   "source": [
    "# Notebook Instructions\n",
    "\n",
    "1. All the <u>code and data files</u> used in this course are available in the downloadable unit of the <u>last section of this course</u>.\n",
    "2. You can run the notebook document sequentially (one cell at a time) by pressing **shift + enter**. \n",
    "3. While a cell is running, a [*] is shown on the left. After the cell is run, the output will appear on the next line.\n",
    "\n",
    "This course is based on specific versions of python packages. You can find the details of the packages in <a href='https://quantra.quantinsti.com/quantra-notebook' target=\"_blank\" >this manual</a>."
   ]
  },
  {
   "cell_type": "markdown",
   "metadata": {},
   "source": [
    "## Lists as stacks\n",
    "\n",
    "A stack is a collection of objects which work as per the <b>LIFO - Last in First Out</b> principle. Consider a simple example: You are throwing a dinner party at your place. You will place a stack of plates at the buffet table. Whenever you are adding new plates to the stack, you will place the plates at the top. Similarly, whenever a guest takes a plate, he/she will take it from the top of the stack. This is the Last in, First Out principle.\n",
    "\n",
    "When you add items to the stack, it is known as <b>push operation</b>. You will do this using the append ( ) method.  When you remove items from a stack, it is known as <b>pop operation</b>. You actually have a pop ( ) method in python.\n",
    "\n",
    "This is not something new which you have learnt. But understanding how data works in a stack (LIFO principle) is important since this concept is used for evaluating expressions and syntax parsing, scheduling algorithms, routines, writing effective functions and so on."
   ]
  },
  {
   "cell_type": "code",
   "execution_count": 1,
   "metadata": {},
   "outputs": [
    {
     "name": "stdout",
     "output_type": "stream",
     "text": [
      "[10, 20, 30, 40, 50, 60]\n"
     ]
    }
   ],
   "source": [
    "# Bottom --> 10, 20, 30, 40, 50 --> Top\n",
    "\n",
    "my_stack = [10, 20, 30, 40, 50]  # List\n",
    "\n",
    "my_stack.append(60)  # The PUSH OPERATION\n",
    "\n",
    "print(my_stack)"
   ]
  },
  {
   "cell_type": "code",
   "execution_count": 2,
   "metadata": {},
   "outputs": [
    {
     "name": "stdout",
     "output_type": "stream",
     "text": [
      "[10, 20, 30, 40]\n"
     ]
    }
   ],
   "source": [
    "# New Stack: Bottom ---> 10, 20, 30, 40, 50, 60 ---> Top\n",
    "\n",
    "my_stack.pop()  # The POP OPERATION\n",
    "\n",
    "my_stack.pop()  # The same operation 'twice'\n",
    "\n",
    "print(my_stack)  # From the 'top', 50 and 60 will be removed."
   ]
  },
  {
   "cell_type": "markdown",
   "metadata": {},
   "source": [
    "## Lists as queues\n",
    "\n",
    "A <b>queue</b> is a collection of objects which works as per the FIFO - First in First Out principle. Consider a simple example: You are at the concert to listen to your favourite artist. The tickets for this concert are in great demand. Hence, all the fans form a queue outside the ticket collection centre. The fan to arrive first will be the first one to get the ticket while the one to arrive last may or may not get the ticket. This is the <b>First in, First Out</b> principle."
   ]
  },
  {
   "cell_type": "code",
   "execution_count": 12,
   "metadata": {},
   "outputs": [
    {
     "name": "stdout",
     "output_type": "stream",
     "text": [
      "deque(['Roger Federer', 'Rafael Nadal', 'Novak Djokovic', 'Andre Agassi', 'Pete Sampras'])\n"
     ]
    }
   ],
   "source": [
    "# 'collections' is a package which contains high-performance container datatypes\n",
    "\n",
    "# 'deque' is a list-like container with fast appends and pops on either end\n",
    "\n",
    "from collections import deque\n",
    "\n",
    "# This is your queue. \"Roger Federer\" is the first to arrive while \"Novak Djokovic is the last.\n",
    "\n",
    "my_queue = deque([\"Roger Federer\", \"Rafael Nadal\", \"Novak Djokovic\"])\n",
    "\n",
    "my_queue.append(\"Andre Agassi\")  # Now Andre Agassi arrives\n",
    "\n",
    "my_queue.append(\"Pete Sampras\")  # Now Pete Sampras arrives\n",
    "\n",
    "print(my_queue)  # You may have a look at the queue below"
   ]
  },
  {
   "cell_type": "code",
   "execution_count": 4,
   "metadata": {},
   "outputs": [
    {
     "data": {
      "text/plain": [
       "'Roger Federer'"
      ]
     },
     "execution_count": 4,
     "metadata": {},
     "output_type": "execute_result"
    }
   ],
   "source": [
    "my_queue.popleft()  # The first to arrives leaves first"
   ]
  },
  {
   "cell_type": "code",
   "execution_count": 5,
   "metadata": {},
   "outputs": [
    {
     "data": {
      "text/plain": [
       "'Rafael Nadal'"
      ]
     },
     "execution_count": 5,
     "metadata": {},
     "output_type": "execute_result"
    }
   ],
   "source": [
    "my_queue.popleft()  # The second to arrive leaves now"
   ]
  },
  {
   "cell_type": "code",
   "execution_count": 6,
   "metadata": {},
   "outputs": [
    {
     "name": "stdout",
     "output_type": "stream",
     "text": [
      "deque(['Novak Djokovic', 'Andre Agassi', 'Pete Sampras'])\n"
     ]
    }
   ],
   "source": [
    "print(my_queue)  # This is your present queue in the order of arrival"
   ]
  },
  {
   "cell_type": "markdown",
   "metadata": {},
   "source": [
    "Using <b>deque</b> from the <b>collection</b> module is one way of doing it.\n",
    "\n",
    "Another way of doing this is by using the <b>insert()</b> and <b>remove()</b> functions. However, lists as queues are not that efficient. Adding and removing from the beginning of the list is slow since all the elements have to be shifted by one."
   ]
  },
  {
   "cell_type": "markdown",
   "metadata": {},
   "source": [
    "## Graphs\n",
    "\n",
    "(Optional Read)\n",
    "\n",
    "A graph in computer science is a network consisting of different <b>nodes</b> or <b>vertices</b>. These nodes may or may not be connected to each other. The line that joins the nodes is called an <b>edge</b>. If the edge has a particular direction it is a <b>directed graph</b>. If not, it is an <b>undirected graph</b>."
   ]
  },
  {
   "cell_type": "markdown",
   "metadata": {},
   "source": [
    "This is an example of an Undirected Graph, where A, B, C, D, and E are the various nodes. The following list shows that these five nodes are connected to which other nodes. For the diagram, you may refer to the graph, taught in the video lecture.\n",
    "\n",
    "A <---> B,C <br>\n",
    "B <---> A,C,D <br>\n",
    "C <---> A,B,D,E <br>\n",
    "D <---> B,C,E <br>\n",
    "E <---> D,C <br>"
   ]
  },
  {
   "cell_type": "code",
   "execution_count": 7,
   "metadata": {},
   "outputs": [],
   "source": [
    "# Please Note: At present we are using dictionaries, functions, and loops which have not been taught.\n",
    "\n",
    "# We will take up all of these concepts in the upcoming units or sections of this course.\n",
    "\n",
    "\n",
    "# The following code is just to display all the different edges of the graph, as shown in the video lecture.\n",
    "\n",
    "my_graph = {'A': ['B', 'C'], 'B': ['A', 'C', 'D'], 'C': [\n",
    "    'A', 'B', 'D', 'E'], 'D': ['B', 'C', 'E'], 'E': ['D', 'C']}"
   ]
  },
  {
   "cell_type": "code",
   "execution_count": 8,
   "metadata": {},
   "outputs": [
    {
     "name": "stdout",
     "output_type": "stream",
     "text": [
      "[('A', 'B'), ('A', 'C'), ('B', 'A'), ('B', 'C'), ('B', 'D'), ('C', 'A'), ('C', 'B'), ('C', 'D'), ('C', 'E'), ('D', 'B'), ('D', 'C'), ('D', 'E'), ('E', 'D'), ('E', 'C')]\n"
     ]
    }
   ],
   "source": [
    "def define_edges(my_graph):\n",
    "    edges = []\n",
    "    for nodes in my_graph:\n",
    "        for adjacent_nodes in my_graph[nodes]:\n",
    "            edges.append((nodes, adjacent_nodes))\n",
    "    return edges\n",
    "\n",
    "\n",
    "print(define_edges(my_graph))"
   ]
  },
  {
   "cell_type": "markdown",
   "metadata": {
    "collapsed": true
   },
   "source": [
    "## Trees\n",
    "\n",
    "(Optional Read)\n",
    "\n",
    "A 'tree' in the real world has roots below the ground, a trunk, and the branches that are spread all across the trunk in an organised way. These branches have leaves on them.\n",
    "\n",
    "In the programming world, a tree is upside down of what you see in the real world. At the top is the <b>root node</b>. The other node that follows the root node is called <b>branch nodes</b>. The final nodes of these branches are called <b>leaf nodes</b>."
   ]
  },
  {
   "cell_type": "code",
   "execution_count": 10,
   "metadata": {},
   "outputs": [],
   "source": [
    "# In the code below, we have shown how to 'travel' through a tree. \n",
    "# The tree is the same as that shown in the video lecture.\n",
    "\n",
    "# We have done this with the help of 'classes'. We have no covered classes."
   ]
  },
  {
   "cell_type": "code",
   "execution_count": 9,
   "metadata": {},
   "outputs": [
    {
     "name": "stdout",
     "output_type": "stream",
     "text": [
      "Root Node, Left node: Branch_1, Left node: Leave_1, Right node: Leave_2, Right node: Branch_2, Left node: Leave_3, Right node: Leave_4\n"
     ]
    }
   ],
   "source": [
    "class Tree:\n",
    "    def __init__(self, info, left=None, right=None):\n",
    "        self.info = info\n",
    "        self.left = left\n",
    "        self.right = right\n",
    "\n",
    "    def __str__(self):\n",
    "        return (str(self.info) + ', Left node: ' + str(self.left) + ', Right node: ' + str(self.right))\n",
    "\n",
    "\n",
    "tree = Tree(\"Root Node\", Tree(\"Branch_1\", \"Leave_1\", \"Leave_2\"),\n",
    "            Tree(\"Branch_2\", \"Leave_3\", \"Leave_4\"))\n",
    "print(tree)"
   ]
  },
  {
   "cell_type": "markdown",
   "metadata": {},
   "source": [
    "In the upcoming IPython Notebook, we will learn a new data structure called <b>'Dictionary'</b>. <br><br>\n",
    "\n"
   ]
  }
 ],
 "metadata": {
  "kernelspec": {
   "display_name": "Python 3",
   "language": "python",
   "name": "python3"
  },
  "language_info": {
   "codemirror_mode": {
    "name": "ipython",
    "version": 3
   },
   "file_extension": ".py",
   "mimetype": "text/x-python",
   "name": "python",
   "nbconvert_exporter": "python",
   "pygments_lexer": "ipython3",
   "version": "3.7.4"
  }
 },
 "nbformat": 4,
 "nbformat_minor": 2
}
