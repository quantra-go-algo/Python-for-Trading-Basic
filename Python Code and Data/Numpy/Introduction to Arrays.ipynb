{
 "cells": [
  {
   "cell_type": "markdown",
   "metadata": {},
   "source": [
    "# Notebook Instructions\n",
    "\n",
    "1. All the <u>code and data files</u> used in this course are available in the downloadable unit of the <u>last section of this course</u>.\n",
    "2. You can run the notebook document sequentially (one cell at a time) by pressing **shift + enter**. \n",
    "3. While a cell is running, a [*] is shown on the left. After the cell is run, the output will appear on the next line.\n",
    "\n",
    "This course is based on specific versions of python packages. You can find the details of the packages in <a href='https://quantra.quantinsti.com/quantra-notebook' target=\"_blank\" >this manual</a>."
   ]
  },
  {
   "cell_type": "markdown",
   "metadata": {},
   "source": [
    "# NumPy\n",
    "\n",
    "NumPy is an acronym for \"Numeric Python\" or \"Numerical Python\".\n",
    "\n",
    "NumPy is the fundamental package for scientific computing with Python. It is an open source extension module for Python.\n",
    "\n",
    "1. A powerful N-dimensional array object\n",
    "2. Sophisticated (broadcasting) functions\n",
    "3. Useful linear algebra, Fourier transform, and random number capabilities\n",
    "4. Besides its obvious scientific uses, NumPy can also be used as an efficient multi-dimensional container of generic data \n",
    "5. Arbitrary data-types can be defined. This allows NumPy to seamlessly and speedily integrate with a wide variety of database\n",
    "\n",
    "Source: numpy.org"
   ]
  },
  {
   "cell_type": "markdown",
   "metadata": {},
   "source": [
    "# Notebook Contents\n",
    "\n",
    "##### <span style=\"color:green\">1. A simple numpy array example</span>\n",
    "##### <span style=\"color:green\">2. Functions to create an array</span>\n",
    "#####  <span style=\"color:green\">3. Dimensionality of an array</span>\n",
    "##### <span style=\"color:green\">4. The shape of an array</span>\n",
    "##### <span style=\"color:green\">5. Just for fun</span>"
   ]
  },
  {
   "cell_type": "markdown",
   "metadata": {},
   "source": [
    "## A simple numpy array example\n",
    "\n",
    "We will create two arrays SV and S_V \n",
    "- Using lists\n",
    "- Using tuples "
   ]
  },
  {
   "cell_type": "code",
   "execution_count": 1,
   "metadata": {},
   "outputs": [],
   "source": [
    "# We will first import the 'numpy' module\n",
    "import numpy as np"
   ]
  },
  {
   "cell_type": "code",
   "execution_count": 2,
   "metadata": {},
   "outputs": [],
   "source": [
    "stock_values = [20.3, 25.3, 22.7, 19.0, 18.5,\n",
    "                21.2, 24.5, 26.6, 23.2, 21.2]  # This is a list"
   ]
  },
  {
   "cell_type": "code",
   "execution_count": 3,
   "metadata": {},
   "outputs": [
    {
     "name": "stdout",
     "output_type": "stream",
     "text": [
      "[20.3 25.3 22.7 19.  18.5 21.2 24.5 26.6 23.2 21.2]\n"
     ]
    }
   ],
   "source": [
    "# Converting a list into an array\n",
    "\n",
    "SV = np.array(stock_values)\n",
    "\n",
    "print(SV)"
   ]
  },
  {
   "cell_type": "code",
   "execution_count": 4,
   "metadata": {},
   "outputs": [
    {
     "data": {
      "text/plain": [
       "numpy.ndarray"
      ]
     },
     "execution_count": 4,
     "metadata": {},
     "output_type": "execute_result"
    }
   ],
   "source": [
    "type(SV)  # Understanding the data type of 'SV'"
   ]
  },
  {
   "cell_type": "code",
   "execution_count": 5,
   "metadata": {},
   "outputs": [
    {
     "name": "stdout",
     "output_type": "stream",
     "text": [
      "[20.3 25.3 22.7 19.  18.5 21.2 24.5 26.6 23.2 21.2]\n"
     ]
    }
   ],
   "source": [
    "stockvalues = (20.3, 25.3, 22.7, 19.0, 18.5, 21.2, 24.5,\n",
    "               26.6, 23.2, 21.2)  # This is a tuple\n",
    "\n",
    "# Converting tuple into an array\n",
    "S_V = np.array(stockvalues)\n",
    "print(S_V)"
   ]
  },
  {
   "cell_type": "code",
   "execution_count": 6,
   "metadata": {},
   "outputs": [
    {
     "data": {
      "text/plain": [
       "numpy.ndarray"
      ]
     },
     "execution_count": 6,
     "metadata": {},
     "output_type": "execute_result"
    }
   ],
   "source": [
    "type(S_V)  # Understanding the data type of 'S_V'"
   ]
  },
  {
   "cell_type": "markdown",
   "metadata": {},
   "source": [
    "## Functions to create arrays quickly \n",
    "\n",
    "The above-discussed methods to create arrays require us to manually input the data points. To automatically create data points for an array we use these functions: \n",
    "- **arange**\n",
    "- **linspace**\n",
    "\n",
    "Both these functions create data points lying between two endpoints, starting and ending, so that they are evenly distributed. For example, we can create 50 data points lying between 1 and 10. \n"
   ]
  },
  {
   "cell_type": "markdown",
   "metadata": {},
   "source": [
    "### arange\n",
    "\n",
    "Numpy.arange returns evenly spaced arrays by using a 'given' step or interval by the user."
   ]
  },
  {
   "cell_type": "markdown",
   "metadata": {},
   "source": [
    "Syntax:\n",
    "####  arange ([start], [stop], [step], [dtype=None])\n",
    "\n",
    "The 'start and the 'stop' determines the range of the array. 'Step' determines the spacing between two adjacent values. The datatype of the output array can be determined by setting the parameter 'dtype'. "
   ]
  },
  {
   "cell_type": "code",
   "execution_count": 7,
   "metadata": {},
   "outputs": [
    {
     "name": "stdout",
     "output_type": "stream",
     "text": [
      "[0 1 2 3 4 5 6 7 8 9]\n"
     ]
    }
   ],
   "source": [
    "# If the start parameter is not given, it will be set to 0\n",
    "\n",
    "# '10' is the stop parameter\n",
    "\n",
    "# The default interval for a step is '1'\n",
    "\n",
    "# If the 'dtype' is not given, then it will be automatically inferred from the other input arguments\n",
    "\n",
    "a = np.arange(10)  # Syntax a = np.arange (0,10,1,None)\n",
    "print(a)"
   ]
  },
  {
   "cell_type": "code",
   "execution_count": 8,
   "metadata": {},
   "outputs": [
    {
     "name": "stdout",
     "output_type": "stream",
     "text": [
      "[ 1  2  3  4  5  6  7  8  9 10 11 12 13 14]\n"
     ]
    }
   ],
   "source": [
    "# Here the range is '1 to 15'. It will include 1 and exclude 15\n",
    "\n",
    "b = np.arange(1, 15)\n",
    "print(b)"
   ]
  },
  {
   "cell_type": "code",
   "execution_count": 9,
   "metadata": {},
   "outputs": [
    {
     "name": "stdout",
     "output_type": "stream",
     "text": [
      "[ 0  2  4  6  8 10 12 14 16 18 20]\n"
     ]
    }
   ],
   "source": [
    "# We have changed the 'step' or spacing between two adjacent values, from a default 1, to a user given value of 2\n",
    "\n",
    "c = np.arange(0, 21, 2)\n",
    "print(c)"
   ]
  },
  {
   "cell_type": "code",
   "execution_count": 10,
   "metadata": {},
   "outputs": [
    {
     "name": "stdout",
     "output_type": "stream",
     "text": [
      "[ 1  3  5  7  9 11 13 15 17 19 21]\n"
     ]
    }
   ],
   "source": [
    "# Even though our input arguments are of the datatype 'float', it will return an 'int' array\n",
    "# Since we have set the 'dtype' parameter as 'int'\n",
    "\n",
    "d = np.arange(1.3, 23.3, 2.1, int)\n",
    "print(d)"
   ]
  },
  {
   "cell_type": "markdown",
   "metadata": {},
   "source": [
    "### Try on your own"
   ]
  },
  {
   "cell_type": "code",
   "execution_count": 11,
   "metadata": {},
   "outputs": [
    {
     "name": "stdout",
     "output_type": "stream",
     "text": [
      "[ 1.4  2.4  3.4  4.4  5.4  6.4  7.4  8.4  9.4 10.4 11.4 12.4 13.4 14.4\n",
      " 15.4 16.4 17.4 18.4 19.4 20.4 21.4 22.4 23.4]\n"
     ]
    }
   ],
   "source": [
    "# You may now be able to understand this example, all by yourself\n",
    "\n",
    "e = np.arange(1.4, 23.6, 1, float)\n",
    "print(e)"
   ]
  },
  {
   "cell_type": "markdown",
   "metadata": {},
   "source": [
    "### linspace"
   ]
  },
  {
   "cell_type": "markdown",
   "metadata": {},
   "source": [
    "Numpy.linspace also returns an evenly spaced array but needs the 'number of array elements' as an input from the user and creates the distance automatically."
   ]
  },
  {
   "cell_type": "markdown",
   "metadata": {},
   "source": [
    "Syntax:\n",
    "#### linspace(start, stop, num=50, endpoint=True, retstep=False)\n",
    "\n",
    "The 'start and the 'stop' determines the range of the array. 'num' determines the number of elements in the array. If the 'endpoint' is True, it will include the stop value and if it is false, the array will exclude the stop value.\n",
    "\n",
    "If the optional parameter 'retstep' is set, the function will return the value of the spacing between adjacent values."
   ]
  },
  {
   "cell_type": "code",
   "execution_count": 12,
   "metadata": {},
   "outputs": [
    {
     "name": "stdout",
     "output_type": "stream",
     "text": [
      "[ 1.          1.18367347  1.36734694  1.55102041  1.73469388  1.91836735\n",
      "  2.10204082  2.28571429  2.46938776  2.65306122  2.83673469  3.02040816\n",
      "  3.20408163  3.3877551   3.57142857  3.75510204  3.93877551  4.12244898\n",
      "  4.30612245  4.48979592  4.67346939  4.85714286  5.04081633  5.2244898\n",
      "  5.40816327  5.59183673  5.7755102   5.95918367  6.14285714  6.32653061\n",
      "  6.51020408  6.69387755  6.87755102  7.06122449  7.24489796  7.42857143\n",
      "  7.6122449   7.79591837  7.97959184  8.16326531  8.34693878  8.53061224\n",
      "  8.71428571  8.89795918  9.08163265  9.26530612  9.44897959  9.63265306\n",
      "  9.81632653 10.        ]\n"
     ]
    }
   ],
   "source": [
    "# By default, since the 'num' is not given, it will divide the range into 50 individual array elements\n",
    "\n",
    "# By default, it even includes the 'endpoint' of the range, since it is set to True by default\n",
    "\n",
    "a = np.linspace(1, 10)\n",
    "print(a)"
   ]
  },
  {
   "cell_type": "code",
   "execution_count": 13,
   "metadata": {},
   "outputs": [
    {
     "name": "stdout",
     "output_type": "stream",
     "text": [
      "[ 1.          2.28571429  3.57142857  4.85714286  6.14285714  7.42857143\n",
      "  8.71428571 10.        ]\n"
     ]
    }
   ],
   "source": [
    "# This time around, we have specified that we want the range of 1 - 10 to be divided into 8 individual array elements\n",
    "\n",
    "b = np.linspace(1, 10, 8)\n",
    "print(b)"
   ]
  },
  {
   "cell_type": "code",
   "execution_count": 14,
   "metadata": {},
   "outputs": [
    {
     "name": "stdout",
     "output_type": "stream",
     "text": [
      "[1.    2.125 3.25  4.375 5.5   6.625 7.75  8.875]\n"
     ]
    }
   ],
   "source": [
    "# In this line, we have specified not to include the end point of the range\n",
    "\n",
    "c = np.linspace(1, 10, 8, False)\n",
    "print(c)"
   ]
  },
  {
   "cell_type": "code",
   "execution_count": 15,
   "metadata": {},
   "outputs": [
    {
     "name": "stdout",
     "output_type": "stream",
     "text": [
      "(array([ 1.        ,  2.28571429,  3.57142857,  4.85714286,  6.14285714,\n",
      "        7.42857143,  8.71428571, 10.        ]), 1.2857142857142858)\n"
     ]
    }
   ],
   "source": [
    "# In this line, we have specified 'retstep' as true, the function will return the value of the spacing between adjacent values\n",
    "\n",
    "d = np.linspace(1, 10, 8, True, True)\n",
    "print(d)"
   ]
  },
  {
   "cell_type": "markdown",
   "metadata": {},
   "source": [
    "### Try on your own"
   ]
  },
  {
   "cell_type": "code",
   "execution_count": 16,
   "metadata": {},
   "outputs": [
    {
     "name": "stdout",
     "output_type": "stream",
     "text": [
      "(array([ 1.,  2.,  3.,  4.,  5.,  6.,  7.,  8.,  9., 10.]), 1.0)\n"
     ]
    }
   ],
   "source": [
    "# This line should be self-explanatory\n",
    "\n",
    "e = np.linspace(1, 10, 10, True, True)\n",
    "print(e)"
   ]
  },
  {
   "cell_type": "markdown",
   "metadata": {},
   "source": [
    "## Dimensionality of arrays"
   ]
  },
  {
   "cell_type": "markdown",
   "metadata": {},
   "source": [
    "### Zero dimensional arrays or scalars"
   ]
  },
  {
   "cell_type": "markdown",
   "metadata": {
    "collapsed": true
   },
   "source": [
    "What we encountered in the above examples are all 'one dimensional arrays', also known as 'vectors'. 'Scalars' are zero-dimensional arrays, with a maximum of one element in it. "
   ]
  },
  {
   "cell_type": "code",
   "execution_count": 17,
   "metadata": {},
   "outputs": [
    {
     "name": "stdout",
     "output_type": "stream",
     "text": [
      "a: 50\n"
     ]
    }
   ],
   "source": [
    "# Creating a 'scalar'\n",
    "\n",
    "a = np.array(50)  # Should have only 1 element, at the maximum!\n",
    "\n",
    "print(\"a:\", a)"
   ]
  },
  {
   "cell_type": "code",
   "execution_count": 18,
   "metadata": {},
   "outputs": [
    {
     "name": "stdout",
     "output_type": "stream",
     "text": [
      "The dimension of array 'a' is 0\n"
     ]
    }
   ],
   "source": [
    "# To print the dimension of any array, we use 'np.ndim' method\n",
    "\n",
    "print(\"The dimension of array 'a' is\", np.ndim(a))"
   ]
  },
  {
   "cell_type": "code",
   "execution_count": 19,
   "metadata": {},
   "outputs": [
    {
     "name": "stdout",
     "output_type": "stream",
     "text": [
      "The datatype of array 'a' is int32\n"
     ]
    }
   ],
   "source": [
    "# To know the datatype of the array\n",
    "\n",
    "print(\"The datatype of array 'a' is\", a.dtype)"
   ]
  },
  {
   "cell_type": "code",
   "execution_count": 20,
   "metadata": {},
   "outputs": [
    {
     "name": "stdout",
     "output_type": "stream",
     "text": [
      "one_element 0 <U11\n"
     ]
    }
   ],
   "source": [
    "# Combining it all together\n",
    "\n",
    "scalar_array = np.array(\"one_element\")\n",
    "print(scalar_array, np.ndim(scalar_array), scalar_array.dtype)"
   ]
  },
  {
   "cell_type": "markdown",
   "metadata": {},
   "source": [
    "## One-dimensional arrays\n",
    "\n",
    "One dimensional arrays, are arrays with minimum of two elements in it in a single row. "
   ]
  },
  {
   "cell_type": "code",
   "execution_count": 21,
   "metadata": {},
   "outputs": [
    {
     "name": "stdout",
     "output_type": "stream",
     "text": [
      "['one_element' 'second_element'] 1 <U14\n"
     ]
    }
   ],
   "source": [
    "one_d_array = np.array([\"one_element\", \"second_element\"])\n",
    "\n",
    "print(one_d_array, np.ndim(one_d_array), one_d_array.dtype)"
   ]
  },
  {
   "cell_type": "code",
   "execution_count": 22,
   "metadata": {},
   "outputs": [
    {
     "name": "stdout",
     "output_type": "stream",
     "text": [
      "a:  [ 1  1  2  3  5  8 13 21]\n",
      "b:  [ 4.4   6.6   8.8  10.1  12.12]\n",
      "Type of 'a':  int32\n",
      "Type of 'b':  float64\n",
      "Dimension of 'a': 1\n",
      "Dimension of 'b': 1\n"
     ]
    }
   ],
   "source": [
    "# We have already worked with one-dimensional arrays. Let us revise what we did so far!\n",
    "\n",
    "a = np.array([1, 1, 2, 3, 5, 8, 13, 21])  # Fibonnacci series\n",
    "b = np.array([4.4, 6.6, 8.8, 10.1, 12.12])\n",
    "\n",
    "print(\"a: \", a)\n",
    "print(\"b: \", b)\n",
    "\n",
    "print(\"Type of 'a': \", a.dtype)\n",
    "print(\"Type of 'b': \", b.dtype)\n",
    "\n",
    "print(\"Dimension of 'a':\", np.ndim(a))\n",
    "print(\"Dimension of 'b':\", np.ndim(b))"
   ]
  },
  {
   "cell_type": "markdown",
   "metadata": {
    "collapsed": true
   },
   "source": [
    "## Two-dimensional arrays\n",
    "\n",
    "Two-dimensional arrays have more than one row and more than one column."
   ]
  },
  {
   "cell_type": "code",
   "execution_count": 23,
   "metadata": {},
   "outputs": [
    {
     "name": "stdout",
     "output_type": "stream",
     "text": [
      "[['row1col1' 'row1col2' 'row1col3']\n",
      " ['row2col1' 'row2col2' 'row2col3']]\n",
      "Dimension of 'two_d_array' : 2\n"
     ]
    }
   ],
   "source": [
    "# The elements of the 2D arrays are stored as 'rows' and 'columns'\n",
    "two_d_array = np.array([[\"row1col1\", \"row1col2\", \"row1col3\"],\n",
    "                        [\"row2col1\", \"row2col2\", \"row2col3\"]])\n",
    "\n",
    "print(two_d_array)\n",
    "\n",
    "print(\"Dimension of 'two_d_array' :\", np.ndim(two_d_array))"
   ]
  },
  {
   "cell_type": "code",
   "execution_count": 24,
   "metadata": {},
   "outputs": [
    {
     "name": "stdout",
     "output_type": "stream",
     "text": [
      "[['Name' 'Year' 'Marks']\n",
      " ['Bela' '2014' '78.2']\n",
      " ['Joe' '1987' '59.1']\n",
      " ['Sugar' '1990' '70']]\n",
      "Dimension of 'studentdata' : 2\n"
     ]
    }
   ],
   "source": [
    "# Another example of a data table!\n",
    "# You can see how working with numpy arrays will help us working with dataframes further on!\n",
    "studentdata = np.array([[\"Name\", \"Year\", \"Marks\"],\n",
    "                        [\"Bela\", 2014, 78.2],\n",
    "                        [\"Joe\", 1987, 59.1],\n",
    "                        [\"Sugar\", 1990, 70]])\n",
    "\n",
    "print(studentdata)\n",
    "\n",
    "print(\"Dimension of 'studentdata' :\", np.ndim(studentdata))"
   ]
  },
  {
   "cell_type": "markdown",
   "metadata": {},
   "source": [
    "Even though Year and Marks are not string type data, here by default they are considered as string type data. So we can't perform any mathematical operations on these values. In order to perform any calculations, we need to convert the data into integers or float type data.\n",
    "\n",
    "That is where dataframe, which we will study in the next section is very useful. It is a powerful 2-d data structure that can convert the data type with ease and help us perform various operations. \n",
    "\n",
    "For example:"
   ]
  },
  {
   "cell_type": "code",
   "execution_count": 25,
   "metadata": {},
   "outputs": [
    {
     "name": "stdout",
     "output_type": "stream",
     "text": [
      "    Name  Year  Marks\n",
      "0   Bela  2014   78.2\n",
      "1    Joe  1987   59.1\n",
      "2  Sugar  1990   70.0\n",
      "69.10000000000001\n"
     ]
    }
   ],
   "source": [
    "# Example when we save this data as a dataframe and not as a numpy array.\n",
    "import numpy as np\n",
    "import pandas as pd\n",
    "\n",
    "studentdata1 = {\n",
    "    \"Name\": [\"Bela\", \"Joe\", \"Sugar\"],\n",
    "    \"Year\": [2014, 1987, 1990],\n",
    "    \"Marks\": [78.2, 59.1, 70]\n",
    "}\n",
    "\n",
    "studentdata1_df = pd.DataFrame(studentdata1)\n",
    "print(studentdata1_df)\n",
    "print(np.mean(studentdata1_df.Marks))\n",
    "\n",
    "# Now we are able to find average of Marks of these three students."
   ]
  },
  {
   "cell_type": "code",
   "execution_count": 26,
   "metadata": {},
   "outputs": [
    {
     "name": "stdout",
     "output_type": "stream",
     "text": [
      "[[ 1.8   2.4   5.3   8.2 ]\n",
      " [ 7.8   5.1   9.2  17.13]\n",
      " [ 6.1  -2.13 -6.3  -9.1 ]]\n",
      "Dimension of 'a' : 2\n"
     ]
    }
   ],
   "source": [
    "# The elements of the 2D arrays are stored as 'rows' and 'columns'\n",
    "a = np.array([[1.8, 2.4, 5.3, 8.2],\n",
    "              [7.8, 5.1, 9.2, 17.13],\n",
    "              [6.1, -2.13, -6.3, -9.1]])\n",
    "print(a)\n",
    "print(\"Dimension of 'a' :\", np.ndim(a))\n",
    "\n",
    "# In this array we have 3 rows and 4 columns"
   ]
  },
  {
   "cell_type": "code",
   "execution_count": 27,
   "metadata": {},
   "outputs": [
    {
     "name": "stdout",
     "output_type": "stream",
     "text": [
      "[[[111 222]\n",
      "  [333 444]]\n",
      "\n",
      " [[121 212]\n",
      "  [221 222]]\n",
      "\n",
      " [[555 560]\n",
      "  [565 570]]]\n",
      "Dimension of 'b' : 3\n"
     ]
    }
   ],
   "source": [
    "# A 3D array is an 'array of arrays'. Have a quick look at it\n",
    "b = np.array([[[111, 222], [333, 444]],\n",
    "              [[121, 212], [221, 222]],\n",
    "              [[555, 560], [565, 570]]])\n",
    "\n",
    "print(b)\n",
    "print(\"Dimension of 'b' :\", np.ndim(b))\n",
    "\n",
    "# In this array, there are three, 2-D arrays"
   ]
  },
  {
   "cell_type": "markdown",
   "metadata": {
    "collapsed": true
   },
   "source": [
    "## The shape of an array\n",
    "\n",
    "**What it is:** Ths shape of an array returns the number of rows (axis = 0) and the number of columns (axis = 1)\n",
    "\n",
    "**Why is it important to understand:** It helps you to understand the number of rows and columns in an array \n",
    "\n",
    "**How is it different from Dimensions:** It is not that different from dimensions, just that functions called are different. "
   ]
  },
  {
   "cell_type": "code",
   "execution_count": 28,
   "metadata": {},
   "outputs": [
    {
     "name": "stdout",
     "output_type": "stream",
     "text": [
      "[[11 22 33]\n",
      " [12 24 36]\n",
      " [13 26 39]\n",
      " [14 28 42]\n",
      " [15 30 45]\n",
      " [16 32 48]]\n"
     ]
    }
   ],
   "source": [
    "a = np.array([[11, 22, 33],\n",
    "              [12, 24, 36],\n",
    "              [13, 26, 39],\n",
    "              [14, 28, 42],\n",
    "              [15, 30, 45],\n",
    "              [16, 32, 48]])\n",
    "\n",
    "print(a)"
   ]
  },
  {
   "cell_type": "code",
   "execution_count": 29,
   "metadata": {},
   "outputs": [
    {
     "name": "stdout",
     "output_type": "stream",
     "text": [
      "(6, 3)\n"
     ]
    }
   ],
   "source": [
    "print(a.shape)"
   ]
  },
  {
   "cell_type": "markdown",
   "metadata": {},
   "source": [
    "We can even change the shape of the array. "
   ]
  },
  {
   "cell_type": "code",
   "execution_count": 30,
   "metadata": {},
   "outputs": [
    {
     "name": "stdout",
     "output_type": "stream",
     "text": [
      "[[11 22]\n",
      " [33 12]\n",
      " [24 36]\n",
      " [13 26]\n",
      " [39 14]\n",
      " [28 42]\n",
      " [15 30]\n",
      " [45 16]\n",
      " [32 48]]\n"
     ]
    }
   ],
   "source": [
    "a.shape = (9, 2)\n",
    "print(a)"
   ]
  },
  {
   "cell_type": "markdown",
   "metadata": {},
   "source": [
    "You might have guessed by now that the new shape must correspond to the number of elements of the array, i.e. the total size of the new array must be the same as the old one. We will raise an exception if this is not the case."
   ]
  },
  {
   "cell_type": "code",
   "execution_count": 31,
   "metadata": {},
   "outputs": [
    {
     "name": "stdout",
     "output_type": "stream",
     "text": [
      "()\n"
     ]
    }
   ],
   "source": [
    "# Shape of a 1 dimension array or scalar\n",
    "a = np.array(165416113)\n",
    "print(np.shape(a))"
   ]
  },
  {
   "cell_type": "markdown",
   "metadata": {},
   "source": [
    "In the upcoming IPython notebook, we will continue understanding arrays and learning about array indexing, array Slicing and arrays of zeros and ones, but before that let us answer some multiple choice questions. <br><br>"
   ]
  }
 ],
 "metadata": {
  "anaconda-cloud": {},
  "kernelspec": {
   "display_name": "Python 3",
   "language": "python",
   "name": "python3"
  },
  "language_info": {
   "codemirror_mode": {
    "name": "ipython",
    "version": 3
   },
   "file_extension": ".py",
   "mimetype": "text/x-python",
   "name": "python",
   "nbconvert_exporter": "python",
   "pygments_lexer": "ipython3",
   "version": "3.7.4"
  }
 },
 "nbformat": 4,
 "nbformat_minor": 2
}
